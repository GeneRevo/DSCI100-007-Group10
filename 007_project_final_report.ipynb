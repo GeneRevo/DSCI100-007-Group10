{
 "cells": [
  {
   "cell_type": "markdown",
   "id": "19db8a6b-92f5-4f37-a58a-b7087d3f296e",
   "metadata": {},
   "source": [
    "### DSCI 100: GROUP PROJECT FINAL REPORT\n",
    " **Predicting Heart Disease in Hungary**\n",
    " > GROUP 10 - SECTION 007: Michelle Ho, Arian Afshari, Zidong Zhou, Kyle Wise"
   ]
  },
  {
   "cell_type": "code",
   "execution_count": 3,
   "id": "bc1ec211-7ff9-483c-a8c5-daf43b307f72",
   "metadata": {},
   "outputs": [
    {
     "name": "stderr",
     "output_type": "stream",
     "text": [
      "── \u001b[1mAttaching packages\u001b[22m ─────────────────────────────────────── tidyverse 1.3.1 ──\n",
      "\n",
      "\u001b[32m✔\u001b[39m \u001b[34mggplot2\u001b[39m 3.3.6     \u001b[32m✔\u001b[39m \u001b[34mpurrr  \u001b[39m 0.3.4\n",
      "\u001b[32m✔\u001b[39m \u001b[34mtibble \u001b[39m 3.1.7     \u001b[32m✔\u001b[39m \u001b[34mdplyr  \u001b[39m 1.0.9\n",
      "\u001b[32m✔\u001b[39m \u001b[34mtidyr  \u001b[39m 1.2.0     \u001b[32m✔\u001b[39m \u001b[34mstringr\u001b[39m 1.4.0\n",
      "\u001b[32m✔\u001b[39m \u001b[34mreadr  \u001b[39m 2.1.2     \u001b[32m✔\u001b[39m \u001b[34mforcats\u001b[39m 0.5.1\n",
      "\n",
      "── \u001b[1mConflicts\u001b[22m ────────────────────────────────────────── tidyverse_conflicts() ──\n",
      "\u001b[31m✖\u001b[39m \u001b[34mdplyr\u001b[39m::\u001b[32mfilter()\u001b[39m masks \u001b[34mstats\u001b[39m::filter()\n",
      "\u001b[31m✖\u001b[39m \u001b[34mdplyr\u001b[39m::\u001b[32mlag()\u001b[39m    masks \u001b[34mstats\u001b[39m::lag()\n",
      "\n",
      "── \u001b[1mAttaching packages\u001b[22m ────────────────────────────────────── tidymodels 1.0.0 ──\n",
      "\n",
      "\u001b[32m✔\u001b[39m \u001b[34mbroom       \u001b[39m 1.0.0     \u001b[32m✔\u001b[39m \u001b[34mrsample     \u001b[39m 1.0.0\n",
      "\u001b[32m✔\u001b[39m \u001b[34mdials       \u001b[39m 1.0.0     \u001b[32m✔\u001b[39m \u001b[34mtune        \u001b[39m 1.0.0\n",
      "\u001b[32m✔\u001b[39m \u001b[34minfer       \u001b[39m 1.0.2     \u001b[32m✔\u001b[39m \u001b[34mworkflows   \u001b[39m 1.0.0\n",
      "\u001b[32m✔\u001b[39m \u001b[34mmodeldata   \u001b[39m 1.0.0     \u001b[32m✔\u001b[39m \u001b[34mworkflowsets\u001b[39m 1.0.0\n",
      "\u001b[32m✔\u001b[39m \u001b[34mparsnip     \u001b[39m 1.0.0     \u001b[32m✔\u001b[39m \u001b[34myardstick   \u001b[39m 1.0.0\n",
      "\u001b[32m✔\u001b[39m \u001b[34mrecipes     \u001b[39m 1.0.1     \n",
      "\n",
      "── \u001b[1mConflicts\u001b[22m ───────────────────────────────────────── tidymodels_conflicts() ──\n",
      "\u001b[31m✖\u001b[39m \u001b[34mscales\u001b[39m::\u001b[32mdiscard()\u001b[39m masks \u001b[34mpurrr\u001b[39m::discard()\n",
      "\u001b[31m✖\u001b[39m \u001b[34mdplyr\u001b[39m::\u001b[32mfilter()\u001b[39m   masks \u001b[34mstats\u001b[39m::filter()\n",
      "\u001b[31m✖\u001b[39m \u001b[34mrecipes\u001b[39m::\u001b[32mfixed()\u001b[39m  masks \u001b[34mstringr\u001b[39m::fixed()\n",
      "\u001b[31m✖\u001b[39m \u001b[34mdplyr\u001b[39m::\u001b[32mlag()\u001b[39m      masks \u001b[34mstats\u001b[39m::lag()\n",
      "\u001b[31m✖\u001b[39m \u001b[34myardstick\u001b[39m::\u001b[32mspec()\u001b[39m masks \u001b[34mreadr\u001b[39m::spec()\n",
      "\u001b[31m✖\u001b[39m \u001b[34mrecipes\u001b[39m::\u001b[32mstep()\u001b[39m   masks \u001b[34mstats\u001b[39m::step()\n",
      "\u001b[34m•\u001b[39m Search for functions across packages at \u001b[32mhttps://www.tidymodels.org/find/\u001b[39m\n",
      "\n"
     ]
    }
   ],
   "source": [
    "library(tidyverse)\n",
    "library(tidymodels)\n",
    "library(repr)\n",
    "options(repr.matrix.max.rows = 6)"
   ]
  },
  {
   "cell_type": "markdown",
   "id": "2519bdcc-e1a9-484a-b2c6-fd4cb2caa0f5",
   "metadata": {},
   "source": [
    "**Introduction:**\n",
    "\n",
    "> One of the leading causes of death in Hungary are cardiovascular diseases (CVDs) (OECD and WHO, 2017). It constitutes approximately 52.4% of the main diagnoses underlying cause of death and 47.6% of the secondary diagnoses prior to death. Heart failure is a common result of CVDs. Several risk factors are known to be associated with CVDs; the most prominent among them are high blood pressure, high cholesterol levels, and smoking (CDC, 2022). Moreover, susceptibility to heart disease increases with age and other uncontrollable factors such as sex (McLaren, 2023).\n",
    "\n",
    "> As data science becomes progressively useful in analyzing and interpreting patient outcomes, we plan to use the k-nearest neighbors classification algorithm to predict angiographic disease status of CVDs. Our project will use the *Heart Disease* data set from the UCI Machine Learning Repository to build the model that will predict CVD diagnoses in presenting patients. The diagnosis of heart disease in the data set is defined as a binary label, whether the patient has the disease or not. The disease is present if there is greater than 50% diameter narrowing of any major blood vessels in a patient. Ie., if the value in the num parameter is 1, then more than 50% of the diameter of the major blood vessels are narrowing (Hungarian Institute of Cardiology, 1988). When blood vessels narrow, the heart does not receive the blood that it requries and thus, is considered heart disease.\n",
    "\n",
    "> The dataset that we will be using features 14 attributes of patients that will be examined to determine which are possible indicators of heart disease:\n",
    "> - Age\n",
    "> - Sex\n",
    "> - Chest pain type (cp); (1: typical angina, 2: atypical angina, 3: non-anginal pain, 4: asymptomatic)\n",
    "> - Resting blood pressure (trestbps); (mmHg upon admission to hospital)\n",
    "> - Serum cholestoral (chol); (mg/dl)\n",
    "> - Fasting blood sugar (fbs) > 120 mg/dl; (1: true; 0: false)\n",
    "> - Resting electrocardiographic results (restecg); (0: normal, 1: having ST-T wave abnormality (T wave inversions and/or ST elevation or depression of > 0.05 mV), 2: showing probable or definite left ventricular hypertrophy by Estes' criteria)\n",
    "> - Maximum heart rate achieved (thalach)\n",
    "> - Exercise induced angina (exang); (1: yes; 0: no)\n",
    "> - ST depression induced by exercise relative to rest (oldpeak)\n",
    "> - Slope of the peak exercise ST segment (slope); (1: upsloping, 2: flat, 3: downsloping)\n",
    "> - Number of major vessels (0-3) colored by flourosopy (ca)\n",
    "> - Presence of heart defect (thal): (3: normal; 6: fixed defect; 7: reversable defect)\n",
    "> - Diagnosis of heart disease (angiographic disease status) (num); (0: < 50% diameter narrowing, 1: > 50% diameter narrowing (the predicted attribute)\n",
    "\n"
   ]
  },
  {
   "cell_type": "markdown",
   "id": "0263f999-27f2-4ba3-b0ab-d26aafae5b8a",
   "metadata": {},
   "source": [
    "**Preliminary data wrangling:**"
   ]
  },
  {
   "cell_type": "code",
   "execution_count": 8,
   "id": "e70b9008-22e3-4faa-ab5a-52b5654664fb",
   "metadata": {},
   "outputs": [],
   "source": [
    "# setting the seed such that the numbers used in the analysis are reasonably random\n",
    "set.seed(3789)"
   ]
  },
  {
   "cell_type": "code",
   "execution_count": 14,
   "id": "1f48d96d-b263-46b6-8ac8-0cb74c34249c",
   "metadata": {},
   "outputs": [
    {
     "name": "stderr",
     "output_type": "stream",
     "text": [
      "\u001b[1mRows: \u001b[22m\u001b[34m294\u001b[39m \u001b[1mColumns: \u001b[22m\u001b[34m14\u001b[39m\n",
      "\u001b[36m──\u001b[39m \u001b[1mColumn specification\u001b[22m \u001b[36m────────────────────────────────────────────────────────\u001b[39m\n",
      "\u001b[1mDelimiter:\u001b[22m \",\"\n",
      "\u001b[31mchr\u001b[39m (9): trestbps, chol, fbs, restecg, thalach, exang, slope, ca, thal\n",
      "\u001b[32mdbl\u001b[39m (5): age, sex, cp, oldpeak, num\n",
      "\n",
      "\u001b[36mℹ\u001b[39m Use `spec()` to retrieve the full column specification for this data.\n",
      "\u001b[36mℹ\u001b[39m Specify the column types or set `show_col_types = FALSE` to quiet this message.\n"
     ]
    }
   ],
   "source": [
    "# loading the data and mutating the class label column to factor \n",
    "heart_disease_data <- read_csv(\"https://archive.ics.uci.edu/ml/machine-learning-databases/heart-disease/processed.hungarian.data\", \n",
    "                               col_names = c(\"age\", \"sex\", \"cp\", \"trestbps\", \"chol\", \"fbs\",\"restecg\", \"thalach\", \"exang\", \"oldpeak\",\n",
    "                                             \"slope\", \"ca\", \"thal\", \"num\"))"
   ]
  },
  {
   "cell_type": "code",
   "execution_count": 15,
   "id": "76fa66e1-6420-4411-b03c-3d35c4ea8d2a",
   "metadata": {},
   "outputs": [
    {
     "data": {
      "text/html": [
       "<table class=\"dataframe\">\n",
       "<caption>A tibble: 294 × 14</caption>\n",
       "<thead>\n",
       "\t<tr><th scope=col>age</th><th scope=col>sex</th><th scope=col>cp</th><th scope=col>trestbps</th><th scope=col>chol</th><th scope=col>fbs</th><th scope=col>restecg</th><th scope=col>thalach</th><th scope=col>exang</th><th scope=col>oldpeak</th><th scope=col>slope</th><th scope=col>ca</th><th scope=col>thal</th><th scope=col>num</th></tr>\n",
       "\t<tr><th scope=col>&lt;dbl&gt;</th><th scope=col>&lt;fct&gt;</th><th scope=col>&lt;fct&gt;</th><th scope=col>&lt;dbl&gt;</th><th scope=col>&lt;dbl&gt;</th><th scope=col>&lt;fct&gt;</th><th scope=col>&lt;fct&gt;</th><th scope=col>&lt;dbl&gt;</th><th scope=col>&lt;fct&gt;</th><th scope=col>&lt;dbl&gt;</th><th scope=col>&lt;fct&gt;</th><th scope=col>&lt;fct&gt;</th><th scope=col>&lt;fct&gt;</th><th scope=col>&lt;fct&gt;</th></tr>\n",
       "</thead>\n",
       "<tbody>\n",
       "\t<tr><td>28</td><td>1</td><td>2</td><td>130</td><td>132</td><td>0</td><td>2</td><td>185</td><td>0</td><td>0</td><td>NA</td><td>NA</td><td>NA</td><td>0</td></tr>\n",
       "\t<tr><td>29</td><td>1</td><td>2</td><td>120</td><td>243</td><td>0</td><td>0</td><td>160</td><td>0</td><td>0</td><td>NA</td><td>NA</td><td>NA</td><td>0</td></tr>\n",
       "\t<tr><td>29</td><td>1</td><td>2</td><td>140</td><td> NA</td><td>0</td><td>0</td><td>170</td><td>0</td><td>0</td><td>NA</td><td>NA</td><td>NA</td><td>0</td></tr>\n",
       "\t<tr><td>⋮</td><td>⋮</td><td>⋮</td><td>⋮</td><td>⋮</td><td>⋮</td><td>⋮</td><td>⋮</td><td>⋮</td><td>⋮</td><td>⋮</td><td>⋮</td><td>⋮</td><td>⋮</td></tr>\n",
       "\t<tr><td>56</td><td>1</td><td>4</td><td>155</td><td>342</td><td>1</td><td>0</td><td>150</td><td>1</td><td>3</td><td>2</td><td>NA</td><td>NA</td><td>1</td></tr>\n",
       "\t<tr><td>58</td><td>0</td><td>2</td><td>180</td><td>393</td><td>0</td><td>0</td><td>110</td><td>1</td><td>1</td><td>2</td><td>NA</td><td>7 </td><td>1</td></tr>\n",
       "\t<tr><td>65</td><td>1</td><td>4</td><td>130</td><td>275</td><td>0</td><td>1</td><td>115</td><td>1</td><td>1</td><td>2</td><td>NA</td><td>NA</td><td>1</td></tr>\n",
       "</tbody>\n",
       "</table>\n"
      ],
      "text/latex": [
       "A tibble: 294 × 14\n",
       "\\begin{tabular}{llllllllllllll}\n",
       " age & sex & cp & trestbps & chol & fbs & restecg & thalach & exang & oldpeak & slope & ca & thal & num\\\\\n",
       " <dbl> & <fct> & <fct> & <dbl> & <dbl> & <fct> & <fct> & <dbl> & <fct> & <dbl> & <fct> & <fct> & <fct> & <fct>\\\\\n",
       "\\hline\n",
       "\t 28 & 1 & 2 & 130 & 132 & 0 & 2 & 185 & 0 & 0 & NA & NA & NA & 0\\\\\n",
       "\t 29 & 1 & 2 & 120 & 243 & 0 & 0 & 160 & 0 & 0 & NA & NA & NA & 0\\\\\n",
       "\t 29 & 1 & 2 & 140 &  NA & 0 & 0 & 170 & 0 & 0 & NA & NA & NA & 0\\\\\n",
       "\t ⋮ & ⋮ & ⋮ & ⋮ & ⋮ & ⋮ & ⋮ & ⋮ & ⋮ & ⋮ & ⋮ & ⋮ & ⋮ & ⋮\\\\\n",
       "\t 56 & 1 & 4 & 155 & 342 & 1 & 0 & 150 & 1 & 3 & 2 & NA & NA & 1\\\\\n",
       "\t 58 & 0 & 2 & 180 & 393 & 0 & 0 & 110 & 1 & 1 & 2 & NA & 7  & 1\\\\\n",
       "\t 65 & 1 & 4 & 130 & 275 & 0 & 1 & 115 & 1 & 1 & 2 & NA & NA & 1\\\\\n",
       "\\end{tabular}\n"
      ],
      "text/markdown": [
       "\n",
       "A tibble: 294 × 14\n",
       "\n",
       "| age &lt;dbl&gt; | sex &lt;fct&gt; | cp &lt;fct&gt; | trestbps &lt;dbl&gt; | chol &lt;dbl&gt; | fbs &lt;fct&gt; | restecg &lt;fct&gt; | thalach &lt;dbl&gt; | exang &lt;fct&gt; | oldpeak &lt;dbl&gt; | slope &lt;fct&gt; | ca &lt;fct&gt; | thal &lt;fct&gt; | num &lt;fct&gt; |\n",
       "|---|---|---|---|---|---|---|---|---|---|---|---|---|---|\n",
       "| 28 | 1 | 2 | 130 | 132 | 0 | 2 | 185 | 0 | 0 | NA | NA | NA | 0 |\n",
       "| 29 | 1 | 2 | 120 | 243 | 0 | 0 | 160 | 0 | 0 | NA | NA | NA | 0 |\n",
       "| 29 | 1 | 2 | 140 |  NA | 0 | 0 | 170 | 0 | 0 | NA | NA | NA | 0 |\n",
       "| ⋮ | ⋮ | ⋮ | ⋮ | ⋮ | ⋮ | ⋮ | ⋮ | ⋮ | ⋮ | ⋮ | ⋮ | ⋮ | ⋮ |\n",
       "| 56 | 1 | 4 | 155 | 342 | 1 | 0 | 150 | 1 | 3 | 2 | NA | NA | 1 |\n",
       "| 58 | 0 | 2 | 180 | 393 | 0 | 0 | 110 | 1 | 1 | 2 | NA | 7  | 1 |\n",
       "| 65 | 1 | 4 | 130 | 275 | 0 | 1 | 115 | 1 | 1 | 2 | NA | NA | 1 |\n",
       "\n"
      ],
      "text/plain": [
       "    age sex cp trestbps chol fbs restecg thalach exang oldpeak slope ca thal\n",
       "1   28  1   2  130      132  0   2       185     0     0       NA    NA NA  \n",
       "2   29  1   2  120      243  0   0       160     0     0       NA    NA NA  \n",
       "3   29  1   2  140       NA  0   0       170     0     0       NA    NA NA  \n",
       "⋮   ⋮   ⋮   ⋮  ⋮        ⋮    ⋮   ⋮       ⋮       ⋮     ⋮       ⋮     ⋮  ⋮   \n",
       "292 56  1   4  155      342  1   0       150     1     3       2     NA NA  \n",
       "293 58  0   2  180      393  0   0       110     1     1       2     NA 7   \n",
       "294 65  1   4  130      275  0   1       115     1     1       2     NA NA  \n",
       "    num\n",
       "1   0  \n",
       "2   0  \n",
       "3   0  \n",
       "⋮   ⋮  \n",
       "292 1  \n",
       "293 1  \n",
       "294 1  "
      ]
     },
     "metadata": {},
     "output_type": "display_data"
    }
   ],
   "source": [
    "# converting \"?\" to NA\n",
    "heart_disease_data[heart_disease_data == \"?\"]<-NA\n",
    "\n",
    "# changing columns to correct type (mutate_if mutates columns based on provided conditions; mutate_at mutates multiple columns to the same type)\n",
    "heart_disease_data <- heart_disease_data |>\n",
    "mutate_if(is.character, as.numeric) |>\n",
    "mutate_at(vars(\"sex\", \"cp\", \"fbs\", \"restecg\", \"exang\", \"ca\", \"thal\", \"num\", \"slope\"), factor)\n",
    "heart_disease_data"
   ]
  },
  {
   "cell_type": "code",
   "execution_count": 16,
   "id": "791cd368-f60d-4036-86b5-db83c851c50a",
   "metadata": {},
   "outputs": [],
   "source": [
    "# partitioning the data into a training (75%) and testing (25%) set; num will be used as the class label\n",
    "heart_disease_split <- initial_split(heart_disease_data, prop = 0.75, strata = num)\n",
    "heart_disease_train <- training(heart_disease_split)\n",
    "heart_disease_test <- testing(heart_disease_split)"
   ]
  },
  {
   "cell_type": "markdown",
   "id": "1323a475-d963-40ff-973c-f611e947f8ca",
   "metadata": {},
   "source": [
    "**Exploratory data analysis using training data:**"
   ]
  },
  {
   "cell_type": "code",
   "execution_count": 20,
   "id": "cdd4c2e6-36a2-40a7-8a2b-5c36bc3c4b4e",
   "metadata": {},
   "outputs": [
    {
     "data": {
      "text/html": [
       "<table class=\"dataframe\">\n",
       "<caption>A tibble: 2 × 3</caption>\n",
       "<thead>\n",
       "\t<tr><th scope=col>diagnosis</th><th scope=col>people</th><th scope=col>percent</th></tr>\n",
       "\t<tr><th scope=col>&lt;fct&gt;</th><th scope=col>&lt;int&gt;</th><th scope=col>&lt;dbl&gt;</th></tr>\n",
       "</thead>\n",
       "<tbody>\n",
       "\t<tr><td>0</td><td>188</td><td>63.94558</td></tr>\n",
       "\t<tr><td>1</td><td>106</td><td>36.05442</td></tr>\n",
       "</tbody>\n",
       "</table>\n"
      ],
      "text/latex": [
       "A tibble: 2 × 3\n",
       "\\begin{tabular}{lll}\n",
       " diagnosis & people & percent\\\\\n",
       " <fct> & <int> & <dbl>\\\\\n",
       "\\hline\n",
       "\t 0 & 188 & 63.94558\\\\\n",
       "\t 1 & 106 & 36.05442\\\\\n",
       "\\end{tabular}\n"
      ],
      "text/markdown": [
       "\n",
       "A tibble: 2 × 3\n",
       "\n",
       "| diagnosis &lt;fct&gt; | people &lt;int&gt; | percent &lt;dbl&gt; |\n",
       "|---|---|---|\n",
       "| 0 | 188 | 63.94558 |\n",
       "| 1 | 106 | 36.05442 |\n",
       "\n"
      ],
      "text/plain": [
       "  diagnosis people percent \n",
       "1 0         188    63.94558\n",
       "2 1         106    36.05442"
      ]
     },
     "metadata": {},
     "output_type": "display_data"
    },
    {
     "data": {
      "text/html": [
       "<table class=\"dataframe\">\n",
       "<caption>A tibble: 2 × 3</caption>\n",
       "<thead>\n",
       "\t<tr><th scope=col>diagnosis</th><th scope=col>people</th><th scope=col>percent</th></tr>\n",
       "\t<tr><th scope=col>&lt;fct&gt;</th><th scope=col>&lt;int&gt;</th><th scope=col>&lt;dbl&gt;</th></tr>\n",
       "</thead>\n",
       "<tbody>\n",
       "\t<tr><td>0</td><td>141</td><td>64.09091</td></tr>\n",
       "\t<tr><td>1</td><td> 79</td><td>35.90909</td></tr>\n",
       "</tbody>\n",
       "</table>\n"
      ],
      "text/latex": [
       "A tibble: 2 × 3\n",
       "\\begin{tabular}{lll}\n",
       " diagnosis & people & percent\\\\\n",
       " <fct> & <int> & <dbl>\\\\\n",
       "\\hline\n",
       "\t 0 & 141 & 64.09091\\\\\n",
       "\t 1 &  79 & 35.90909\\\\\n",
       "\\end{tabular}\n"
      ],
      "text/markdown": [
       "\n",
       "A tibble: 2 × 3\n",
       "\n",
       "| diagnosis &lt;fct&gt; | people &lt;int&gt; | percent &lt;dbl&gt; |\n",
       "|---|---|---|\n",
       "| 0 | 141 | 64.09091 |\n",
       "| 1 |  79 | 35.90909 |\n",
       "\n"
      ],
      "text/plain": [
       "  diagnosis people percent \n",
       "1 0         141    64.09091\n",
       "2 1          79    35.90909"
      ]
     },
     "metadata": {},
     "output_type": "display_data"
    }
   ],
   "source": [
    "# identifying the proportion of patients with a diagnosis of heart disease (positive angiographic disease status) and the proportion without in the full data\n",
    "# set and the training data set to ensure that the proportions are preserved during the split\n",
    "heart_disease_data_proportions <- heart_disease_data |>\n",
    "                      group_by(diagnosis = num) |>\n",
    "                      summarize(people = n()) |>\n",
    "                      mutate(percent = 100*people/nrow(heart_disease_data))\n",
    "heart_disease_data_proportions\n",
    "\n",
    "heart_disease_train_proportions <- heart_disease_train |>\n",
    "                      group_by(diagnosis = num) |>\n",
    "                      summarize(people = n()) |>\n",
    "                      mutate(percent = 100*people/nrow(heart_disease_train))\n",
    "heart_disease_train_proportions"
   ]
  },
  {
   "cell_type": "code",
   "execution_count": 31,
   "id": "819fb69f-40c8-4046-9576-7adca2bba5ad",
   "metadata": {},
   "outputs": [
    {
     "data": {
      "text/html": [
       "<table class=\"dataframe\">\n",
       "<caption>A tibble: 2 × 2</caption>\n",
       "<thead>\n",
       "\t<tr><th scope=col>diagnosis</th><th scope=col>people</th></tr>\n",
       "\t<tr><th scope=col>&lt;fct&gt;</th><th scope=col>&lt;int&gt;</th></tr>\n",
       "</thead>\n",
       "<tbody>\n",
       "\t<tr><td>0</td><td>141</td></tr>\n",
       "\t<tr><td>1</td><td> 79</td></tr>\n",
       "</tbody>\n",
       "</table>\n"
      ],
      "text/latex": [
       "A tibble: 2 × 2\n",
       "\\begin{tabular}{ll}\n",
       " diagnosis & people\\\\\n",
       " <fct> & <int>\\\\\n",
       "\\hline\n",
       "\t 0 & 141\\\\\n",
       "\t 1 &  79\\\\\n",
       "\\end{tabular}\n"
      ],
      "text/markdown": [
       "\n",
       "A tibble: 2 × 2\n",
       "\n",
       "| diagnosis &lt;fct&gt; | people &lt;int&gt; |\n",
       "|---|---|\n",
       "| 0 | 141 |\n",
       "| 1 |  79 |\n",
       "\n"
      ],
      "text/plain": [
       "  diagnosis people\n",
       "1 0         141   \n",
       "2 1          79   "
      ]
     },
     "metadata": {},
     "output_type": "display_data"
    },
    {
     "data": {
      "text/html": [
       "<table class=\"dataframe\">\n",
       "<caption>A tibble: 1 × 1</caption>\n",
       "<thead>\n",
       "\t<tr><th scope=col>missing_data</th></tr>\n",
       "\t<tr><th scope=col>&lt;int&gt;</th></tr>\n",
       "</thead>\n",
       "<tbody>\n",
       "\t<tr><td>219</td></tr>\n",
       "</tbody>\n",
       "</table>\n"
      ],
      "text/latex": [
       "A tibble: 1 × 1\n",
       "\\begin{tabular}{l}\n",
       " missing\\_data\\\\\n",
       " <int>\\\\\n",
       "\\hline\n",
       "\t 219\\\\\n",
       "\\end{tabular}\n"
      ],
      "text/markdown": [
       "\n",
       "A tibble: 1 × 1\n",
       "\n",
       "| missing_data &lt;int&gt; |\n",
       "|---|\n",
       "| 219 |\n",
       "\n"
      ],
      "text/plain": [
       "  missing_data\n",
       "1 219         "
      ]
     },
     "metadata": {},
     "output_type": "display_data"
    }
   ],
   "source": [
    "# table reporting the number of observations in each class of the training data\n",
    "heart_disease_class_observations <- heart_disease_train |>\n",
    "                      group_by(diagnosis = num) |>\n",
    "                      summarize(people = n())\n",
    "heart_disease_class_observations\n",
    "\n",
    "\n",
    "# and the number of rows have missing data, at least one NA in the observation\n",
    "missing_data <- tibble(missing_data = nrow(heart_disease_train[!complete.cases(heart_disease_train),]))\n",
    "missing_data"
   ]
  },
  {
   "cell_type": "code",
   "execution_count": 33,
   "id": "94ca17b8-716b-423f-a139-b73d9a9ca34c",
   "metadata": {},
   "outputs": [
    {
     "data": {
      "text/html": [
       "<table class=\"dataframe\">\n",
       "<caption>A tibble: 5 × 4</caption>\n",
       "<thead>\n",
       "\t<tr><th scope=col>variable</th><th scope=col>mean</th><th scope=col>min</th><th scope=col>max</th></tr>\n",
       "\t<tr><th scope=col>&lt;chr&gt;</th><th scope=col>&lt;dbl&gt;</th><th scope=col>&lt;dbl&gt;</th><th scope=col>&lt;dbl&gt;</th></tr>\n",
       "</thead>\n",
       "<tbody>\n",
       "\t<tr><td>age     </td><td> 47.8318182</td><td>28</td><td> 66</td></tr>\n",
       "\t<tr><td>trestbps</td><td>133.5205479</td><td>98</td><td>190</td></tr>\n",
       "\t<tr><td>chol    </td><td>249.8333333</td><td>85</td><td>603</td></tr>\n",
       "\t<tr><td>thalach </td><td>139.4018265</td><td>82</td><td>190</td></tr>\n",
       "\t<tr><td>oldpeak </td><td>  0.5968182</td><td> 0</td><td>  5</td></tr>\n",
       "</tbody>\n",
       "</table>\n"
      ],
      "text/latex": [
       "A tibble: 5 × 4\n",
       "\\begin{tabular}{llll}\n",
       " variable & mean & min & max\\\\\n",
       " <chr> & <dbl> & <dbl> & <dbl>\\\\\n",
       "\\hline\n",
       "\t age      &  47.8318182 & 28 &  66\\\\\n",
       "\t trestbps & 133.5205479 & 98 & 190\\\\\n",
       "\t chol     & 249.8333333 & 85 & 603\\\\\n",
       "\t thalach  & 139.4018265 & 82 & 190\\\\\n",
       "\t oldpeak  &   0.5968182 &  0 &   5\\\\\n",
       "\\end{tabular}\n"
      ],
      "text/markdown": [
       "\n",
       "A tibble: 5 × 4\n",
       "\n",
       "| variable &lt;chr&gt; | mean &lt;dbl&gt; | min &lt;dbl&gt; | max &lt;dbl&gt; |\n",
       "|---|---|---|---|\n",
       "| age      |  47.8318182 | 28 |  66 |\n",
       "| trestbps | 133.5205479 | 98 | 190 |\n",
       "| chol     | 249.8333333 | 85 | 603 |\n",
       "| thalach  | 139.4018265 | 82 | 190 |\n",
       "| oldpeak  |   0.5968182 |  0 |   5 |\n",
       "\n"
      ],
      "text/plain": [
       "  variable mean        min max\n",
       "1 age       47.8318182 28   66\n",
       "2 trestbps 133.5205479 98  190\n",
       "3 chol     249.8333333 85  603\n",
       "4 thalach  139.4018265 82  190\n",
       "5 oldpeak    0.5968182  0    5"
      ]
     },
     "metadata": {},
     "output_type": "display_data"
    }
   ],
   "source": [
    "# table summarizing the training data including mean, min, and max of the numerical variables\n",
    "heart_train_summary <- heart_disease_train |>\n",
    "  summarise(across(\n",
    "    c(age, trestbps, chol, thalach, oldpeak),\n",
    "    list(mean = mean, min = min, max = max),\n",
    "    na.rm = TRUE\n",
    "  )) |> pivot_longer (everything(), names_to=\"variable\", values_to=\"value\") |> \n",
    " separate(variable, into = c(\"variable\", \"statistics\"), sep = \"_\") |> pivot_wider(names_from = statistics, values_from = value)\n",
    "heart_train_summary"
   ]
  },
  {
   "cell_type": "code",
   "execution_count": null,
   "id": "c99d0d9c-3eda-4adc-9f28-ef7c730d275e",
   "metadata": {},
   "outputs": [],
   "source": []
  }
 ],
 "metadata": {
  "kernelspec": {
   "display_name": "R",
   "language": "R",
   "name": "ir"
  },
  "language_info": {
   "codemirror_mode": "r",
   "file_extension": ".r",
   "mimetype": "text/x-r-source",
   "name": "R",
   "pygments_lexer": "r",
   "version": "4.1.3"
  }
 },
 "nbformat": 4,
 "nbformat_minor": 5
}
