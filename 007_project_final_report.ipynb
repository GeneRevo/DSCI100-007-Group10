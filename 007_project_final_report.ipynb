{
 "cells": [
  {
   "cell_type": "markdown",
   "id": "19db8a6b-92f5-4f37-a58a-b7087d3f296e",
   "metadata": {},
   "source": [
    "### DSCI 100: GROUP PROJECT PROPOSAL\n",
    " **Predicting Heart Disease in Hungary**\n",
    " > GROUP 10 - SECTION 007: Michelle Ho, Arian Afshari, Zidong Zhou, Kyle Wise"
   ]
  },
  {
   "cell_type": "code",
   "execution_count": null,
   "id": "bc1ec211-7ff9-483c-a8c5-daf43b307f72",
   "metadata": {},
   "outputs": [],
   "source": []
  }
 ],
 "metadata": {
  "kernelspec": {
   "display_name": "R",
   "language": "R",
   "name": "ir"
  },
  "language_info": {
   "codemirror_mode": "r",
   "file_extension": ".r",
   "mimetype": "text/x-r-source",
   "name": "R",
   "pygments_lexer": "r",
   "version": "4.1.3"
  }
 },
 "nbformat": 4,
 "nbformat_minor": 5
}
