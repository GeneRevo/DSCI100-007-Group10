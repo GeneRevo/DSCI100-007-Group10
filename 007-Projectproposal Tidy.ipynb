{
 "cells": [
  {
   "cell_type": "markdown",
   "id": "106f55fb-6f0f-4bec-b5b7-157505e1ed04",
   "metadata": {},
   "source": [
    "### DSCI 100: GROUP PROJECT PROPOSAL"
   ]
  },
  {
   "cell_type": "markdown",
   "id": "35c9a270-27c1-45ae-bd1c-bae4bf5e3a3b",
   "metadata": {},
   "source": [
    "GROUP 10 - SECTION 007: Michelle Ho, Arian Afshari, Kyle Wise, Zidong Zhou"
   ]
  },
  {
   "cell_type": "code",
   "execution_count": 2,
   "id": "008450eb-7107-4dcc-be72-5ad827c5370c",
   "metadata": {},
   "outputs": [
    {
     "name": "stderr",
     "output_type": "stream",
     "text": [
      "── \u001b[1mAttaching packages\u001b[22m ─────────────────────────────────────── tidyverse 1.3.1 ──\n",
      "\n",
      "\u001b[32m✔\u001b[39m \u001b[34mggplot2\u001b[39m 3.3.6     \u001b[32m✔\u001b[39m \u001b[34mpurrr  \u001b[39m 0.3.4\n",
      "\u001b[32m✔\u001b[39m \u001b[34mtibble \u001b[39m 3.1.7     \u001b[32m✔\u001b[39m \u001b[34mdplyr  \u001b[39m 1.0.9\n",
      "\u001b[32m✔\u001b[39m \u001b[34mtidyr  \u001b[39m 1.2.0     \u001b[32m✔\u001b[39m \u001b[34mstringr\u001b[39m 1.4.0\n",
      "\u001b[32m✔\u001b[39m \u001b[34mreadr  \u001b[39m 2.1.2     \u001b[32m✔\u001b[39m \u001b[34mforcats\u001b[39m 0.5.1\n",
      "\n",
      "── \u001b[1mConflicts\u001b[22m ────────────────────────────────────────── tidyverse_conflicts() ──\n",
      "\u001b[31m✖\u001b[39m \u001b[34mdplyr\u001b[39m::\u001b[32mfilter()\u001b[39m masks \u001b[34mstats\u001b[39m::filter()\n",
      "\u001b[31m✖\u001b[39m \u001b[34mdplyr\u001b[39m::\u001b[32mlag()\u001b[39m    masks \u001b[34mstats\u001b[39m::lag()\n",
      "\n"
     ]
    }
   ],
   "source": [
    "#The libraries\n",
    "library(tidyverse)\n",
    "library(dplyr)\n",
    "library(tidyr)"
   ]
  },
  {
   "cell_type": "code",
   "execution_count": 22,
   "id": "1c9f98fb-85ec-475e-b5ea-7495ff9f0718",
   "metadata": {},
   "outputs": [
    {
     "name": "stderr",
     "output_type": "stream",
     "text": [
      "\u001b[1mRows: \u001b[22m\u001b[34m294\u001b[39m \u001b[1mColumns: \u001b[22m\u001b[34m14\u001b[39m\n",
      "\u001b[36m──\u001b[39m \u001b[1mColumn specification\u001b[22m \u001b[36m────────────────────────────────────────────────────────\u001b[39m\n",
      "\u001b[1mDelimiter:\u001b[22m \",\"\n",
      "\u001b[31mchr\u001b[39m (9): trestbps, chol, fbs, restecg, thalach, exang, slope, ca, thal\n",
      "\u001b[32mdbl\u001b[39m (5): age, sex, cp, oldpeak, num\n",
      "\n",
      "\u001b[36mℹ\u001b[39m Use `spec()` to retrieve the full column specification for this data.\n",
      "\u001b[36mℹ\u001b[39m Specify the column types or set `show_col_types = FALSE` to quiet this message.\n",
      "Warning message in cor(encoded_data, use = \"pairwise.complete.obs\"):\n",
      "“the standard deviation is zero”\n"
     ]
    },
    {
     "data": {
      "text/html": [
       "<table class=\"dataframe\">\n",
       "<caption>A data.frame: 25 × 1</caption>\n",
       "<thead>\n",
       "\t<tr><th></th><th scope=col>matrix...25.</th></tr>\n",
       "\t<tr><th></th><th scope=col>&lt;dbl&gt;</th></tr>\n",
       "</thead>\n",
       "<tbody>\n",
       "\t<tr><th scope=row>num0</th><td>-1.000000000</td></tr>\n",
       "\t<tr><th scope=row>num1</th><td> 1.000000000</td></tr>\n",
       "\t<tr><th scope=row>exang0</th><td>-0.583847096</td></tr>\n",
       "\t<tr><th scope=row>exang1</th><td> 0.583847096</td></tr>\n",
       "\t<tr><th scope=row>cp4</th><td> 0.555071280</td></tr>\n",
       "\t<tr><th scope=row>slope1</th><td>-0.554213745</td></tr>\n",
       "\t<tr><th scope=row>oldpeak</th><td> 0.545700394</td></tr>\n",
       "\t<tr><th scope=row>thal3</th><td>-0.537483850</td></tr>\n",
       "\t<tr><th scope=row>slope2</th><td> 0.516442601</td></tr>\n",
       "\t<tr><th scope=row>cp2</th><td>-0.445804898</td></tr>\n",
       "\t<tr><th scope=row>thalach</th><td>-0.331392900</td></tr>\n",
       "\t<tr><th scope=row>thal7</th><td> 0.277547782</td></tr>\n",
       "\t<tr><th scope=row>sex0</th><td>-0.272781339</td></tr>\n",
       "\t<tr><th scope=row>chol</th><td> 0.209318230</td></tr>\n",
       "\t<tr><th scope=row>thal6</th><td> 0.202828995</td></tr>\n",
       "\t<tr><th scope=row>sex1</th><td> 0.163232156</td></tr>\n",
       "\t<tr><th scope=row>fbs0</th><td>-0.163232156</td></tr>\n",
       "\t<tr><th scope=row>age</th><td> 0.159314557</td></tr>\n",
       "\t<tr><th scope=row>cp3</th><td>-0.154940513</td></tr>\n",
       "\t<tr><th scope=row>trestbps</th><td> 0.139716698</td></tr>\n",
       "\t<tr><th scope=row>slope3</th><td> 0.064209724</td></tr>\n",
       "\t<tr><th scope=row>restecg2</th><td>-0.057801586</td></tr>\n",
       "\t<tr><th scope=row>restecg0</th><td> 0.014021883</td></tr>\n",
       "\t<tr><th scope=row>rectecg1</th><td> 0.006802993</td></tr>\n",
       "\t<tr><th scope=row>cp1</th><td> 0.001269634</td></tr>\n",
       "</tbody>\n",
       "</table>\n"
      ],
      "text/latex": [
       "A data.frame: 25 × 1\n",
       "\\begin{tabular}{r|l}\n",
       "  & matrix...25.\\\\\n",
       "  & <dbl>\\\\\n",
       "\\hline\n",
       "\tnum0 & -1.000000000\\\\\n",
       "\tnum1 &  1.000000000\\\\\n",
       "\texang0 & -0.583847096\\\\\n",
       "\texang1 &  0.583847096\\\\\n",
       "\tcp4 &  0.555071280\\\\\n",
       "\tslope1 & -0.554213745\\\\\n",
       "\toldpeak &  0.545700394\\\\\n",
       "\tthal3 & -0.537483850\\\\\n",
       "\tslope2 &  0.516442601\\\\\n",
       "\tcp2 & -0.445804898\\\\\n",
       "\tthalach & -0.331392900\\\\\n",
       "\tthal7 &  0.277547782\\\\\n",
       "\tsex0 & -0.272781339\\\\\n",
       "\tchol &  0.209318230\\\\\n",
       "\tthal6 &  0.202828995\\\\\n",
       "\tsex1 &  0.163232156\\\\\n",
       "\tfbs0 & -0.163232156\\\\\n",
       "\tage &  0.159314557\\\\\n",
       "\tcp3 & -0.154940513\\\\\n",
       "\ttrestbps &  0.139716698\\\\\n",
       "\tslope3 &  0.064209724\\\\\n",
       "\trestecg2 & -0.057801586\\\\\n",
       "\trestecg0 &  0.014021883\\\\\n",
       "\trectecg1 &  0.006802993\\\\\n",
       "\tcp1 &  0.001269634\\\\\n",
       "\\end{tabular}\n"
      ],
      "text/markdown": [
       "\n",
       "A data.frame: 25 × 1\n",
       "\n",
       "| <!--/--> | matrix...25. &lt;dbl&gt; |\n",
       "|---|---|\n",
       "| num0 | -1.000000000 |\n",
       "| num1 |  1.000000000 |\n",
       "| exang0 | -0.583847096 |\n",
       "| exang1 |  0.583847096 |\n",
       "| cp4 |  0.555071280 |\n",
       "| slope1 | -0.554213745 |\n",
       "| oldpeak |  0.545700394 |\n",
       "| thal3 | -0.537483850 |\n",
       "| slope2 |  0.516442601 |\n",
       "| cp2 | -0.445804898 |\n",
       "| thalach | -0.331392900 |\n",
       "| thal7 |  0.277547782 |\n",
       "| sex0 | -0.272781339 |\n",
       "| chol |  0.209318230 |\n",
       "| thal6 |  0.202828995 |\n",
       "| sex1 |  0.163232156 |\n",
       "| fbs0 | -0.163232156 |\n",
       "| age |  0.159314557 |\n",
       "| cp3 | -0.154940513 |\n",
       "| trestbps |  0.139716698 |\n",
       "| slope3 |  0.064209724 |\n",
       "| restecg2 | -0.057801586 |\n",
       "| restecg0 |  0.014021883 |\n",
       "| rectecg1 |  0.006802993 |\n",
       "| cp1 |  0.001269634 |\n",
       "\n"
      ],
      "text/plain": [
       "         matrix...25.\n",
       "num0     -1.000000000\n",
       "num1      1.000000000\n",
       "exang0   -0.583847096\n",
       "exang1    0.583847096\n",
       "cp4       0.555071280\n",
       "slope1   -0.554213745\n",
       "oldpeak   0.545700394\n",
       "thal3    -0.537483850\n",
       "slope2    0.516442601\n",
       "cp2      -0.445804898\n",
       "thalach  -0.331392900\n",
       "thal7     0.277547782\n",
       "sex0     -0.272781339\n",
       "chol      0.209318230\n",
       "thal6     0.202828995\n",
       "sex1      0.163232156\n",
       "fbs0     -0.163232156\n",
       "age       0.159314557\n",
       "cp3      -0.154940513\n",
       "trestbps  0.139716698\n",
       "slope3    0.064209724\n",
       "restecg2 -0.057801586\n",
       "restecg0  0.014021883\n",
       "rectecg1  0.006802993\n",
       "cp1       0.001269634"
      ]
     },
     "metadata": {},
     "output_type": "display_data"
    }
   ],
   "source": [
    "#The loaded code + Any required changes and tidying (Data from Hungary)\n",
    "data <- read_csv(\"https://archive.ics.uci.edu/ml/machine-learning-databases/heart-disease/processed.hungarian.data\", \n",
    "                          col_names = c(\"age\", \"sex\", \"cp\", \"trestbps\", \"chol\", \"fbs\",\"restecg\", \"thalach\", \"exang\", \"oldpeak\", \"slope\", \"ca\", \"thal\", \"num\"))\n",
    "\n",
    "#Changing any ? to NA in our dataset\n",
    "data[data==\"?\"]<-NA\n",
    "\n",
    "#Converting columns to correct type (mutate_if mutates columns based on provided conditions.) (mutate_at allows to mutate multiple columns to the same type)\n",
    "data <- data |> mutate_if(is.character, as.numeric) |> mutate_at(vars(\"sex\", \"cp\", \"fbs\", \"restecg\", \"exang\", \"ca\", \"thal\", \"num\", \"slope\"), factor)\n",
    "\n",
    "#one-hot encoded data\n",
    "encoded_data <- data |> mutate(sex0 = ifelse(sex==\"0\",1,0), sex1 = ifelse(sex==\"1\",1,0),\n",
    "                      cp1 = ifelse(cp==\"1\",1,0), cp2 = ifelse(cp==\"2\",1,0), cp3 = ifelse(cp==\"3\",1,0), cp4 = ifelse(cp==\"4\",1,0), \n",
    "                      fbs0 = ifelse(fbs==\"0\",1,0), sex1 = ifelse(fbs==\"1\",1,0),\n",
    "                      restecg0 = ifelse( restecg==\"0\",1,0), rectecg1 = ifelse(restecg==\"1\",1,0), restecg2 = ifelse(restecg==\"2\",1,0),\n",
    "                      exang0 = ifelse(exang==\"0\",1,0), exang1 = ifelse(exang==\"1\",1,0),\n",
    "                      slope1 = ifelse(slope==\"1\",1,0), slope2 = ifelse(slope==\"2\",1,0), slope3 = ifelse(slope==\"3\",1,0),\n",
    "                      thal3 = ifelse(thal==\"3\",1,0), thal6 = ifelse(thal==\"6\",1,0), thal7 = ifelse(thal==\"7\",1,0),\n",
    "                      num0 = ifelse(num==\"0\",1,0), num1 = ifelse(num==\"1\",1,0)) |> select(-where(is.factor)) #Removing all factor coloumns from the dataframe.\n",
    "matrix <- cor(encoded_data, use = \"pairwise.complete.obs\") #creating a correlation matrix based on the above dataframe, and ignoring the NAs.\n",
    "num_df <- data.frame(matrix[,25]) #grabbing the 25th coloumn of the matrix as a dataframe.\n",
    "num_df <- num_df |> arrange(desc(abs(num_df))) #arranging the 25th column in a descending order based on absolute value to only account for the strength of the relationship not the direction.\n",
    "num_df"
   ]
  }
 ],
 "metadata": {
  "kernelspec": {
   "display_name": "R",
   "language": "R",
   "name": "ir"
  },
  "language_info": {
   "codemirror_mode": "r",
   "file_extension": ".r",
   "mimetype": "text/x-r-source",
   "name": "R",
   "pygments_lexer": "r",
   "version": "4.1.3"
  }
 },
 "nbformat": 4,
 "nbformat_minor": 5
}
