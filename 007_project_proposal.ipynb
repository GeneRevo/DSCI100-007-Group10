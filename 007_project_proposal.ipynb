{
 "cells": [
  {
   "cell_type": "markdown",
   "id": "e8a52968-8e0c-4250-b40b-7469ea3339b0",
   "metadata": {},
   "source": [
    "### DSCI 100: GROUP PROJECT PROPOSAL"
   ]
  },
  {
   "cell_type": "markdown",
   "id": "a686f005-ab84-44a7-8f5b-f77e3686abc7",
   "metadata": {},
   "source": [
    "GROUP 10 - SECTION 007: Michelle Ho, Arian Afshari, Kyle Wise, Zidong Zhou"
   ]
  },
  {
   "cell_type": "code",
   "execution_count": 1,
   "id": "28a1d2b8-2848-4632-bba0-9242547fc07d",
   "metadata": {},
   "outputs": [
    {
     "name": "stderr",
     "output_type": "stream",
     "text": [
      "── \u001b[1mAttaching packages\u001b[22m ─────────────────────────────────────── tidyverse 1.3.1 ──\n",
      "\n",
      "\u001b[32m✔\u001b[39m \u001b[34mggplot2\u001b[39m 3.3.6     \u001b[32m✔\u001b[39m \u001b[34mpurrr  \u001b[39m 0.3.4\n",
      "\u001b[32m✔\u001b[39m \u001b[34mtibble \u001b[39m 3.1.7     \u001b[32m✔\u001b[39m \u001b[34mdplyr  \u001b[39m 1.0.9\n",
      "\u001b[32m✔\u001b[39m \u001b[34mtidyr  \u001b[39m 1.2.0     \u001b[32m✔\u001b[39m \u001b[34mstringr\u001b[39m 1.4.0\n",
      "\u001b[32m✔\u001b[39m \u001b[34mreadr  \u001b[39m 2.1.2     \u001b[32m✔\u001b[39m \u001b[34mforcats\u001b[39m 0.5.1\n",
      "\n",
      "── \u001b[1mConflicts\u001b[22m ────────────────────────────────────────── tidyverse_conflicts() ──\n",
      "\u001b[31m✖\u001b[39m \u001b[34mdplyr\u001b[39m::\u001b[32mfilter()\u001b[39m masks \u001b[34mstats\u001b[39m::filter()\n",
      "\u001b[31m✖\u001b[39m \u001b[34mdplyr\u001b[39m::\u001b[32mlag()\u001b[39m    masks \u001b[34mstats\u001b[39m::lag()\n",
      "\n",
      "── \u001b[1mAttaching packages\u001b[22m ────────────────────────────────────── tidymodels 1.0.0 ──\n",
      "\n",
      "\u001b[32m✔\u001b[39m \u001b[34mbroom       \u001b[39m 1.0.0     \u001b[32m✔\u001b[39m \u001b[34mrsample     \u001b[39m 1.0.0\n",
      "\u001b[32m✔\u001b[39m \u001b[34mdials       \u001b[39m 1.0.0     \u001b[32m✔\u001b[39m \u001b[34mtune        \u001b[39m 1.0.0\n",
      "\u001b[32m✔\u001b[39m \u001b[34minfer       \u001b[39m 1.0.2     \u001b[32m✔\u001b[39m \u001b[34mworkflows   \u001b[39m 1.0.0\n",
      "\u001b[32m✔\u001b[39m \u001b[34mmodeldata   \u001b[39m 1.0.0     \u001b[32m✔\u001b[39m \u001b[34mworkflowsets\u001b[39m 1.0.0\n",
      "\u001b[32m✔\u001b[39m \u001b[34mparsnip     \u001b[39m 1.0.0     \u001b[32m✔\u001b[39m \u001b[34myardstick   \u001b[39m 1.0.0\n",
      "\u001b[32m✔\u001b[39m \u001b[34mrecipes     \u001b[39m 1.0.1     \n",
      "\n",
      "── \u001b[1mConflicts\u001b[22m ───────────────────────────────────────── tidymodels_conflicts() ──\n",
      "\u001b[31m✖\u001b[39m \u001b[34mscales\u001b[39m::\u001b[32mdiscard()\u001b[39m masks \u001b[34mpurrr\u001b[39m::discard()\n",
      "\u001b[31m✖\u001b[39m \u001b[34mdplyr\u001b[39m::\u001b[32mfilter()\u001b[39m   masks \u001b[34mstats\u001b[39m::filter()\n",
      "\u001b[31m✖\u001b[39m \u001b[34mrecipes\u001b[39m::\u001b[32mfixed()\u001b[39m  masks \u001b[34mstringr\u001b[39m::fixed()\n",
      "\u001b[31m✖\u001b[39m \u001b[34mdplyr\u001b[39m::\u001b[32mlag()\u001b[39m      masks \u001b[34mstats\u001b[39m::lag()\n",
      "\u001b[31m✖\u001b[39m \u001b[34myardstick\u001b[39m::\u001b[32mspec()\u001b[39m masks \u001b[34mreadr\u001b[39m::spec()\n",
      "\u001b[31m✖\u001b[39m \u001b[34mrecipes\u001b[39m::\u001b[32mstep()\u001b[39m   masks \u001b[34mstats\u001b[39m::step()\n",
      "\u001b[34m•\u001b[39m Use suppressPackageStartupMessages() to eliminate package startup messages\n",
      "\n"
     ]
    }
   ],
   "source": [
    "library(tidyverse)\n",
    "library(tidyr)\n",
    "library(ggplot2)\n",
    "library(tidymodels)\n",
    "library(dplyr)\n",
    "library(repr)\n",
    "options(repr.matrix.max.rows = 7)"
   ]
  },
  {
   "cell_type": "markdown",
   "id": "566c0d55-9db2-41e8-a92f-6191b3a430b0",
   "metadata": {},
   "source": [
    "**Introduction:** One of the leading causes of death in Hungary are cardiovascular diseases (CVDs) (OECD and WHO, 2017). It constitutes approximately 52.4% of the main diagnoses underlying cause of death and 47.6% of the secondary diagnoses prior to death. Several risk factors are known to be associated with CVDs; the most prominent among them are high blood pressure, high low-density lipoprotein (LDL) cholesterol levels, smoking, and overall, leading an unhealthy lifestyle (CDC, 2022). Moreover, susceptibility to heart disease increases with age and other uncontrollable factors such as sex (McLaren, 2023).\n",
    "As data science becomes progressively useful in analyzing and interpreting patient outcomes, we plan to use the tools that we’ve learnt in class to predict the angiographic disease status of CVDs. Our project will use the Heart Disease data set from the UCI Machine Learning Repository to build a classification model that will predict CVD diagnoses in presenting patients. The diagnosis of heart disease in the data set is defined as a binary label, whether the patient has the disease or not. The disease is present if there is greater than 50% diameter narrowing in any of the major blood vessels in a patient. Ie., if the value in the num parameter is 1, then more than 50% of the diameter of the major blood vessels are narrowing (Hungarian Institute of Cardiology, 1988). When blood vessels narrow, the heart does not receive the blood that it requries and thus, results in heart disease. Overall, heart failure is a common result caused by CVDs. The dataset that we will be using features 14 attributes that will be examined to determine which are possible indicators of heart disease which will then be used to predict the presence of heart disease in patients."
   ]
  },
  {
   "cell_type": "markdown",
   "id": "9db0f1de-4431-4f92-a47e-201cbba490f7",
   "metadata": {},
   "source": [
    "**Preliminary exploratory data analysis:**"
   ]
  },
  {
   "cell_type": "code",
   "execution_count": 2,
   "id": "65a5469c-0392-4f5f-b0f3-24ba06e7d94e",
   "metadata": {},
   "outputs": [],
   "source": [
    "# setting the seed such that the numbers used in the analysis are reasonably random\n",
    "set.seed(3789)"
   ]
  },
  {
   "cell_type": "code",
   "execution_count": 3,
   "id": "fb6f2526-ce95-4f0b-ac40-09df49eec898",
   "metadata": {},
   "outputs": [
    {
     "name": "stderr",
     "output_type": "stream",
     "text": [
      "\u001b[1mRows: \u001b[22m\u001b[34m294\u001b[39m \u001b[1mColumns: \u001b[22m\u001b[34m14\u001b[39m\n",
      "\u001b[36m──\u001b[39m \u001b[1mColumn specification\u001b[22m \u001b[36m────────────────────────────────────────────────────────\u001b[39m\n",
      "\u001b[1mDelimiter:\u001b[22m \",\"\n",
      "\u001b[31mchr\u001b[39m (9): trestbps, chol, fbs, restecg, thalach, exang, slope, ca, thal\n",
      "\u001b[32mdbl\u001b[39m (5): age, sex, cp, oldpeak, num\n",
      "\n",
      "\u001b[36mℹ\u001b[39m Use `spec()` to retrieve the full column specification for this data.\n",
      "\u001b[36mℹ\u001b[39m Specify the column types or set `show_col_types = FALSE` to quiet this message.\n"
     ]
    },
    {
     "data": {
      "text/html": [
       "<table class=\"dataframe\">\n",
       "<caption>A tibble: 294 × 14</caption>\n",
       "<thead>\n",
       "\t<tr><th scope=col>age</th><th scope=col>sex</th><th scope=col>cp</th><th scope=col>trestbps</th><th scope=col>chol</th><th scope=col>fbs</th><th scope=col>restecg</th><th scope=col>thalach</th><th scope=col>exang</th><th scope=col>oldpeak</th><th scope=col>slope</th><th scope=col>ca</th><th scope=col>thal</th><th scope=col>num</th></tr>\n",
       "\t<tr><th scope=col>&lt;dbl&gt;</th><th scope=col>&lt;dbl&gt;</th><th scope=col>&lt;dbl&gt;</th><th scope=col>&lt;chr&gt;</th><th scope=col>&lt;chr&gt;</th><th scope=col>&lt;chr&gt;</th><th scope=col>&lt;chr&gt;</th><th scope=col>&lt;chr&gt;</th><th scope=col>&lt;chr&gt;</th><th scope=col>&lt;dbl&gt;</th><th scope=col>&lt;chr&gt;</th><th scope=col>&lt;chr&gt;</th><th scope=col>&lt;chr&gt;</th><th scope=col>&lt;fct&gt;</th></tr>\n",
       "</thead>\n",
       "<tbody>\n",
       "\t<tr><td>28</td><td>1</td><td>2</td><td>130</td><td>132</td><td>0</td><td>2</td><td>185</td><td>0</td><td>0</td><td>?</td><td>?</td><td>?</td><td>0</td></tr>\n",
       "\t<tr><td>29</td><td>1</td><td>2</td><td>120</td><td>243</td><td>0</td><td>0</td><td>160</td><td>0</td><td>0</td><td>?</td><td>?</td><td>?</td><td>0</td></tr>\n",
       "\t<tr><td>29</td><td>1</td><td>2</td><td>140</td><td>?  </td><td>0</td><td>0</td><td>170</td><td>0</td><td>0</td><td>?</td><td>?</td><td>?</td><td>0</td></tr>\n",
       "\t<tr><td>30</td><td>0</td><td>1</td><td>170</td><td>237</td><td>0</td><td>1</td><td>170</td><td>0</td><td>0</td><td>?</td><td>?</td><td>6</td><td>0</td></tr>\n",
       "\t<tr><td>⋮</td><td>⋮</td><td>⋮</td><td>⋮</td><td>⋮</td><td>⋮</td><td>⋮</td><td>⋮</td><td>⋮</td><td>⋮</td><td>⋮</td><td>⋮</td><td>⋮</td><td>⋮</td></tr>\n",
       "\t<tr><td>56</td><td>1</td><td>4</td><td>155</td><td>342</td><td>1</td><td>0</td><td>150</td><td>1</td><td>3</td><td>2</td><td>?</td><td>?</td><td>1</td></tr>\n",
       "\t<tr><td>58</td><td>0</td><td>2</td><td>180</td><td>393</td><td>0</td><td>0</td><td>110</td><td>1</td><td>1</td><td>2</td><td>?</td><td>7</td><td>1</td></tr>\n",
       "\t<tr><td>65</td><td>1</td><td>4</td><td>130</td><td>275</td><td>0</td><td>1</td><td>115</td><td>1</td><td>1</td><td>2</td><td>?</td><td>?</td><td>1</td></tr>\n",
       "</tbody>\n",
       "</table>\n"
      ],
      "text/latex": [
       "A tibble: 294 × 14\n",
       "\\begin{tabular}{llllllllllllll}\n",
       " age & sex & cp & trestbps & chol & fbs & restecg & thalach & exang & oldpeak & slope & ca & thal & num\\\\\n",
       " <dbl> & <dbl> & <dbl> & <chr> & <chr> & <chr> & <chr> & <chr> & <chr> & <dbl> & <chr> & <chr> & <chr> & <fct>\\\\\n",
       "\\hline\n",
       "\t 28 & 1 & 2 & 130 & 132 & 0 & 2 & 185 & 0 & 0 & ? & ? & ? & 0\\\\\n",
       "\t 29 & 1 & 2 & 120 & 243 & 0 & 0 & 160 & 0 & 0 & ? & ? & ? & 0\\\\\n",
       "\t 29 & 1 & 2 & 140 & ?   & 0 & 0 & 170 & 0 & 0 & ? & ? & ? & 0\\\\\n",
       "\t 30 & 0 & 1 & 170 & 237 & 0 & 1 & 170 & 0 & 0 & ? & ? & 6 & 0\\\\\n",
       "\t ⋮ & ⋮ & ⋮ & ⋮ & ⋮ & ⋮ & ⋮ & ⋮ & ⋮ & ⋮ & ⋮ & ⋮ & ⋮ & ⋮\\\\\n",
       "\t 56 & 1 & 4 & 155 & 342 & 1 & 0 & 150 & 1 & 3 & 2 & ? & ? & 1\\\\\n",
       "\t 58 & 0 & 2 & 180 & 393 & 0 & 0 & 110 & 1 & 1 & 2 & ? & 7 & 1\\\\\n",
       "\t 65 & 1 & 4 & 130 & 275 & 0 & 1 & 115 & 1 & 1 & 2 & ? & ? & 1\\\\\n",
       "\\end{tabular}\n"
      ],
      "text/markdown": [
       "\n",
       "A tibble: 294 × 14\n",
       "\n",
       "| age &lt;dbl&gt; | sex &lt;dbl&gt; | cp &lt;dbl&gt; | trestbps &lt;chr&gt; | chol &lt;chr&gt; | fbs &lt;chr&gt; | restecg &lt;chr&gt; | thalach &lt;chr&gt; | exang &lt;chr&gt; | oldpeak &lt;dbl&gt; | slope &lt;chr&gt; | ca &lt;chr&gt; | thal &lt;chr&gt; | num &lt;fct&gt; |\n",
       "|---|---|---|---|---|---|---|---|---|---|---|---|---|---|\n",
       "| 28 | 1 | 2 | 130 | 132 | 0 | 2 | 185 | 0 | 0 | ? | ? | ? | 0 |\n",
       "| 29 | 1 | 2 | 120 | 243 | 0 | 0 | 160 | 0 | 0 | ? | ? | ? | 0 |\n",
       "| 29 | 1 | 2 | 140 | ?   | 0 | 0 | 170 | 0 | 0 | ? | ? | ? | 0 |\n",
       "| 30 | 0 | 1 | 170 | 237 | 0 | 1 | 170 | 0 | 0 | ? | ? | 6 | 0 |\n",
       "| ⋮ | ⋮ | ⋮ | ⋮ | ⋮ | ⋮ | ⋮ | ⋮ | ⋮ | ⋮ | ⋮ | ⋮ | ⋮ | ⋮ |\n",
       "| 56 | 1 | 4 | 155 | 342 | 1 | 0 | 150 | 1 | 3 | 2 | ? | ? | 1 |\n",
       "| 58 | 0 | 2 | 180 | 393 | 0 | 0 | 110 | 1 | 1 | 2 | ? | 7 | 1 |\n",
       "| 65 | 1 | 4 | 130 | 275 | 0 | 1 | 115 | 1 | 1 | 2 | ? | ? | 1 |\n",
       "\n"
      ],
      "text/plain": [
       "    age sex cp trestbps chol fbs restecg thalach exang oldpeak slope ca thal\n",
       "1   28  1   2  130      132  0   2       185     0     0       ?     ?  ?   \n",
       "2   29  1   2  120      243  0   0       160     0     0       ?     ?  ?   \n",
       "3   29  1   2  140      ?    0   0       170     0     0       ?     ?  ?   \n",
       "4   30  0   1  170      237  0   1       170     0     0       ?     ?  6   \n",
       "⋮   ⋮   ⋮   ⋮  ⋮        ⋮    ⋮   ⋮       ⋮       ⋮     ⋮       ⋮     ⋮  ⋮   \n",
       "292 56  1   4  155      342  1   0       150     1     3       2     ?  ?   \n",
       "293 58  0   2  180      393  0   0       110     1     1       2     ?  7   \n",
       "294 65  1   4  130      275  0   1       115     1     1       2     ?  ?   \n",
       "    num\n",
       "1   0  \n",
       "2   0  \n",
       "3   0  \n",
       "4   0  \n",
       "⋮   ⋮  \n",
       "292 1  \n",
       "293 1  \n",
       "294 1  "
      ]
     },
     "metadata": {},
     "output_type": "display_data"
    }
   ],
   "source": [
    "# loading the data and mutating the class label column to factor \n",
    "heart_disease_data <- read_csv(\"https://archive.ics.uci.edu/ml/machine-learning-databases/heart-disease/processed.hungarian.data\", \n",
    "                          col_names = c(\"age\", \"sex\", \"cp\", \"trestbps\", \"chol\", \"fbs\",\"restecg\", \"thalach\", \"exang\", \"oldpeak\", \n",
    "                                        \"slope\", \"ca\", \"thal\", \"num\")) |>\n",
    "mutate(num = as_factor(num))\n",
    "heart_disease_data"
   ]
  },
  {
   "cell_type": "code",
   "execution_count": 4,
   "id": "c3c382ca-899d-4945-8798-43c84ea7e68c",
   "metadata": {},
   "outputs": [
    {
     "data": {
      "text/html": [
       "<table class=\"dataframe\">\n",
       "<caption>A tibble: 220 × 14</caption>\n",
       "<thead>\n",
       "\t<tr><th scope=col>age</th><th scope=col>sex</th><th scope=col>cp</th><th scope=col>trestbps</th><th scope=col>chol</th><th scope=col>fbs</th><th scope=col>restecg</th><th scope=col>thalach</th><th scope=col>exang</th><th scope=col>oldpeak</th><th scope=col>slope</th><th scope=col>ca</th><th scope=col>thal</th><th scope=col>num</th></tr>\n",
       "\t<tr><th scope=col>&lt;dbl&gt;</th><th scope=col>&lt;dbl&gt;</th><th scope=col>&lt;dbl&gt;</th><th scope=col>&lt;chr&gt;</th><th scope=col>&lt;chr&gt;</th><th scope=col>&lt;chr&gt;</th><th scope=col>&lt;chr&gt;</th><th scope=col>&lt;chr&gt;</th><th scope=col>&lt;chr&gt;</th><th scope=col>&lt;dbl&gt;</th><th scope=col>&lt;chr&gt;</th><th scope=col>&lt;chr&gt;</th><th scope=col>&lt;chr&gt;</th><th scope=col>&lt;fct&gt;</th></tr>\n",
       "</thead>\n",
       "<tbody>\n",
       "\t<tr><td>28</td><td>1</td><td>2</td><td>130</td><td>132</td><td>0</td><td>2</td><td>185</td><td>0</td><td>0</td><td>?</td><td>?</td><td>?</td><td>0</td></tr>\n",
       "\t<tr><td>29</td><td>1</td><td>2</td><td>140</td><td>?  </td><td>0</td><td>0</td><td>170</td><td>0</td><td>0</td><td>?</td><td>?</td><td>?</td><td>0</td></tr>\n",
       "\t<tr><td>30</td><td>0</td><td>1</td><td>170</td><td>237</td><td>0</td><td>1</td><td>170</td><td>0</td><td>0</td><td>?</td><td>?</td><td>6</td><td>0</td></tr>\n",
       "\t<tr><td>31</td><td>0</td><td>2</td><td>100</td><td>219</td><td>0</td><td>1</td><td>150</td><td>0</td><td>0</td><td>?</td><td>?</td><td>?</td><td>0</td></tr>\n",
       "\t<tr><td>⋮</td><td>⋮</td><td>⋮</td><td>⋮</td><td>⋮</td><td>⋮</td><td>⋮</td><td>⋮</td><td>⋮</td><td>⋮</td><td>⋮</td><td>⋮</td><td>⋮</td><td>⋮</td></tr>\n",
       "\t<tr><td>54</td><td>0</td><td>3</td><td>130</td><td>294</td><td>0</td><td>1</td><td>100</td><td>1</td><td>0</td><td>2</td><td>?</td><td>?</td><td>1</td></tr>\n",
       "\t<tr><td>58</td><td>0</td><td>2</td><td>180</td><td>393</td><td>0</td><td>0</td><td>110</td><td>1</td><td>1</td><td>2</td><td>?</td><td>7</td><td>1</td></tr>\n",
       "\t<tr><td>65</td><td>1</td><td>4</td><td>130</td><td>275</td><td>0</td><td>1</td><td>115</td><td>1</td><td>1</td><td>2</td><td>?</td><td>?</td><td>1</td></tr>\n",
       "</tbody>\n",
       "</table>\n"
      ],
      "text/latex": [
       "A tibble: 220 × 14\n",
       "\\begin{tabular}{llllllllllllll}\n",
       " age & sex & cp & trestbps & chol & fbs & restecg & thalach & exang & oldpeak & slope & ca & thal & num\\\\\n",
       " <dbl> & <dbl> & <dbl> & <chr> & <chr> & <chr> & <chr> & <chr> & <chr> & <dbl> & <chr> & <chr> & <chr> & <fct>\\\\\n",
       "\\hline\n",
       "\t 28 & 1 & 2 & 130 & 132 & 0 & 2 & 185 & 0 & 0 & ? & ? & ? & 0\\\\\n",
       "\t 29 & 1 & 2 & 140 & ?   & 0 & 0 & 170 & 0 & 0 & ? & ? & ? & 0\\\\\n",
       "\t 30 & 0 & 1 & 170 & 237 & 0 & 1 & 170 & 0 & 0 & ? & ? & 6 & 0\\\\\n",
       "\t 31 & 0 & 2 & 100 & 219 & 0 & 1 & 150 & 0 & 0 & ? & ? & ? & 0\\\\\n",
       "\t ⋮ & ⋮ & ⋮ & ⋮ & ⋮ & ⋮ & ⋮ & ⋮ & ⋮ & ⋮ & ⋮ & ⋮ & ⋮ & ⋮\\\\\n",
       "\t 54 & 0 & 3 & 130 & 294 & 0 & 1 & 100 & 1 & 0 & 2 & ? & ? & 1\\\\\n",
       "\t 58 & 0 & 2 & 180 & 393 & 0 & 0 & 110 & 1 & 1 & 2 & ? & 7 & 1\\\\\n",
       "\t 65 & 1 & 4 & 130 & 275 & 0 & 1 & 115 & 1 & 1 & 2 & ? & ? & 1\\\\\n",
       "\\end{tabular}\n"
      ],
      "text/markdown": [
       "\n",
       "A tibble: 220 × 14\n",
       "\n",
       "| age &lt;dbl&gt; | sex &lt;dbl&gt; | cp &lt;dbl&gt; | trestbps &lt;chr&gt; | chol &lt;chr&gt; | fbs &lt;chr&gt; | restecg &lt;chr&gt; | thalach &lt;chr&gt; | exang &lt;chr&gt; | oldpeak &lt;dbl&gt; | slope &lt;chr&gt; | ca &lt;chr&gt; | thal &lt;chr&gt; | num &lt;fct&gt; |\n",
       "|---|---|---|---|---|---|---|---|---|---|---|---|---|---|\n",
       "| 28 | 1 | 2 | 130 | 132 | 0 | 2 | 185 | 0 | 0 | ? | ? | ? | 0 |\n",
       "| 29 | 1 | 2 | 140 | ?   | 0 | 0 | 170 | 0 | 0 | ? | ? | ? | 0 |\n",
       "| 30 | 0 | 1 | 170 | 237 | 0 | 1 | 170 | 0 | 0 | ? | ? | 6 | 0 |\n",
       "| 31 | 0 | 2 | 100 | 219 | 0 | 1 | 150 | 0 | 0 | ? | ? | ? | 0 |\n",
       "| ⋮ | ⋮ | ⋮ | ⋮ | ⋮ | ⋮ | ⋮ | ⋮ | ⋮ | ⋮ | ⋮ | ⋮ | ⋮ | ⋮ |\n",
       "| 54 | 0 | 3 | 130 | 294 | 0 | 1 | 100 | 1 | 0 | 2 | ? | ? | 1 |\n",
       "| 58 | 0 | 2 | 180 | 393 | 0 | 0 | 110 | 1 | 1 | 2 | ? | 7 | 1 |\n",
       "| 65 | 1 | 4 | 130 | 275 | 0 | 1 | 115 | 1 | 1 | 2 | ? | ? | 1 |\n",
       "\n"
      ],
      "text/plain": [
       "    age sex cp trestbps chol fbs restecg thalach exang oldpeak slope ca thal\n",
       "1   28  1   2  130      132  0   2       185     0     0       ?     ?  ?   \n",
       "2   29  1   2  140      ?    0   0       170     0     0       ?     ?  ?   \n",
       "3   30  0   1  170      237  0   1       170     0     0       ?     ?  6   \n",
       "4   31  0   2  100      219  0   1       150     0     0       ?     ?  ?   \n",
       "⋮   ⋮   ⋮   ⋮  ⋮        ⋮    ⋮   ⋮       ⋮       ⋮     ⋮       ⋮     ⋮  ⋮   \n",
       "218 54  0   3  130      294  0   1       100     1     0       2     ?  ?   \n",
       "219 58  0   2  180      393  0   0       110     1     1       2     ?  7   \n",
       "220 65  1   4  130      275  0   1       115     1     1       2     ?  ?   \n",
       "    num\n",
       "1   0  \n",
       "2   0  \n",
       "3   0  \n",
       "4   0  \n",
       "⋮   ⋮  \n",
       "218 1  \n",
       "219 1  \n",
       "220 1  "
      ]
     },
     "metadata": {},
     "output_type": "display_data"
    },
    {
     "data": {
      "text/html": [
       "<table class=\"dataframe\">\n",
       "<caption>A tibble: 74 × 14</caption>\n",
       "<thead>\n",
       "\t<tr><th scope=col>age</th><th scope=col>sex</th><th scope=col>cp</th><th scope=col>trestbps</th><th scope=col>chol</th><th scope=col>fbs</th><th scope=col>restecg</th><th scope=col>thalach</th><th scope=col>exang</th><th scope=col>oldpeak</th><th scope=col>slope</th><th scope=col>ca</th><th scope=col>thal</th><th scope=col>num</th></tr>\n",
       "\t<tr><th scope=col>&lt;dbl&gt;</th><th scope=col>&lt;dbl&gt;</th><th scope=col>&lt;dbl&gt;</th><th scope=col>&lt;chr&gt;</th><th scope=col>&lt;chr&gt;</th><th scope=col>&lt;chr&gt;</th><th scope=col>&lt;chr&gt;</th><th scope=col>&lt;chr&gt;</th><th scope=col>&lt;chr&gt;</th><th scope=col>&lt;dbl&gt;</th><th scope=col>&lt;chr&gt;</th><th scope=col>&lt;chr&gt;</th><th scope=col>&lt;chr&gt;</th><th scope=col>&lt;fct&gt;</th></tr>\n",
       "</thead>\n",
       "<tbody>\n",
       "\t<tr><td>29</td><td>1</td><td>2</td><td>120</td><td>243</td><td>0</td><td>0</td><td>160</td><td>0</td><td>0</td><td>?</td><td>?</td><td>?</td><td>0</td></tr>\n",
       "\t<tr><td>32</td><td>0</td><td>2</td><td>105</td><td>198</td><td>0</td><td>0</td><td>165</td><td>0</td><td>0</td><td>?</td><td>?</td><td>?</td><td>0</td></tr>\n",
       "\t<tr><td>32</td><td>1</td><td>2</td><td>110</td><td>225</td><td>0</td><td>0</td><td>184</td><td>0</td><td>0</td><td>?</td><td>?</td><td>?</td><td>0</td></tr>\n",
       "\t<tr><td>36</td><td>1</td><td>2</td><td>120</td><td>166</td><td>0</td><td>0</td><td>180</td><td>0</td><td>0</td><td>?</td><td>?</td><td>?</td><td>0</td></tr>\n",
       "\t<tr><td>⋮</td><td>⋮</td><td>⋮</td><td>⋮</td><td>⋮</td><td>⋮</td><td>⋮</td><td>⋮</td><td>⋮</td><td>⋮</td><td>⋮</td><td>⋮</td><td>⋮</td><td>⋮</td></tr>\n",
       "\t<tr><td>47</td><td>1</td><td>4</td><td>160</td><td>291</td><td>0</td><td>1</td><td>158</td><td>1</td><td>3.0</td><td>2</td><td>?</td><td>?</td><td>1</td></tr>\n",
       "\t<tr><td>52</td><td>1</td><td>4</td><td>160</td><td>331</td><td>0</td><td>0</td><td>94 </td><td>1</td><td>2.5</td><td>?</td><td>?</td><td>?</td><td>1</td></tr>\n",
       "\t<tr><td>56</td><td>1</td><td>4</td><td>155</td><td>342</td><td>1</td><td>0</td><td>150</td><td>1</td><td>3.0</td><td>2</td><td>?</td><td>?</td><td>1</td></tr>\n",
       "</tbody>\n",
       "</table>\n"
      ],
      "text/latex": [
       "A tibble: 74 × 14\n",
       "\\begin{tabular}{llllllllllllll}\n",
       " age & sex & cp & trestbps & chol & fbs & restecg & thalach & exang & oldpeak & slope & ca & thal & num\\\\\n",
       " <dbl> & <dbl> & <dbl> & <chr> & <chr> & <chr> & <chr> & <chr> & <chr> & <dbl> & <chr> & <chr> & <chr> & <fct>\\\\\n",
       "\\hline\n",
       "\t 29 & 1 & 2 & 120 & 243 & 0 & 0 & 160 & 0 & 0 & ? & ? & ? & 0\\\\\n",
       "\t 32 & 0 & 2 & 105 & 198 & 0 & 0 & 165 & 0 & 0 & ? & ? & ? & 0\\\\\n",
       "\t 32 & 1 & 2 & 110 & 225 & 0 & 0 & 184 & 0 & 0 & ? & ? & ? & 0\\\\\n",
       "\t 36 & 1 & 2 & 120 & 166 & 0 & 0 & 180 & 0 & 0 & ? & ? & ? & 0\\\\\n",
       "\t ⋮ & ⋮ & ⋮ & ⋮ & ⋮ & ⋮ & ⋮ & ⋮ & ⋮ & ⋮ & ⋮ & ⋮ & ⋮ & ⋮\\\\\n",
       "\t 47 & 1 & 4 & 160 & 291 & 0 & 1 & 158 & 1 & 3.0 & 2 & ? & ? & 1\\\\\n",
       "\t 52 & 1 & 4 & 160 & 331 & 0 & 0 & 94  & 1 & 2.5 & ? & ? & ? & 1\\\\\n",
       "\t 56 & 1 & 4 & 155 & 342 & 1 & 0 & 150 & 1 & 3.0 & 2 & ? & ? & 1\\\\\n",
       "\\end{tabular}\n"
      ],
      "text/markdown": [
       "\n",
       "A tibble: 74 × 14\n",
       "\n",
       "| age &lt;dbl&gt; | sex &lt;dbl&gt; | cp &lt;dbl&gt; | trestbps &lt;chr&gt; | chol &lt;chr&gt; | fbs &lt;chr&gt; | restecg &lt;chr&gt; | thalach &lt;chr&gt; | exang &lt;chr&gt; | oldpeak &lt;dbl&gt; | slope &lt;chr&gt; | ca &lt;chr&gt; | thal &lt;chr&gt; | num &lt;fct&gt; |\n",
       "|---|---|---|---|---|---|---|---|---|---|---|---|---|---|\n",
       "| 29 | 1 | 2 | 120 | 243 | 0 | 0 | 160 | 0 | 0 | ? | ? | ? | 0 |\n",
       "| 32 | 0 | 2 | 105 | 198 | 0 | 0 | 165 | 0 | 0 | ? | ? | ? | 0 |\n",
       "| 32 | 1 | 2 | 110 | 225 | 0 | 0 | 184 | 0 | 0 | ? | ? | ? | 0 |\n",
       "| 36 | 1 | 2 | 120 | 166 | 0 | 0 | 180 | 0 | 0 | ? | ? | ? | 0 |\n",
       "| ⋮ | ⋮ | ⋮ | ⋮ | ⋮ | ⋮ | ⋮ | ⋮ | ⋮ | ⋮ | ⋮ | ⋮ | ⋮ | ⋮ |\n",
       "| 47 | 1 | 4 | 160 | 291 | 0 | 1 | 158 | 1 | 3.0 | 2 | ? | ? | 1 |\n",
       "| 52 | 1 | 4 | 160 | 331 | 0 | 0 | 94  | 1 | 2.5 | ? | ? | ? | 1 |\n",
       "| 56 | 1 | 4 | 155 | 342 | 1 | 0 | 150 | 1 | 3.0 | 2 | ? | ? | 1 |\n",
       "\n"
      ],
      "text/plain": [
       "   age sex cp trestbps chol fbs restecg thalach exang oldpeak slope ca thal num\n",
       "1  29  1   2  120      243  0   0       160     0     0       ?     ?  ?    0  \n",
       "2  32  0   2  105      198  0   0       165     0     0       ?     ?  ?    0  \n",
       "3  32  1   2  110      225  0   0       184     0     0       ?     ?  ?    0  \n",
       "4  36  1   2  120      166  0   0       180     0     0       ?     ?  ?    0  \n",
       "⋮  ⋮   ⋮   ⋮  ⋮        ⋮    ⋮   ⋮       ⋮       ⋮     ⋮       ⋮     ⋮  ⋮    ⋮  \n",
       "72 47  1   4  160      291  0   1       158     1     3.0     2     ?  ?    1  \n",
       "73 52  1   4  160      331  0   0       94      1     2.5     ?     ?  ?    1  \n",
       "74 56  1   4  155      342  1   0       150     1     3.0     2     ?  ?    1  "
      ]
     },
     "metadata": {},
     "output_type": "display_data"
    }
   ],
   "source": [
    "# partitioning the data into a training (75%) and testing (25%) set; num will be used as the class label\n",
    "heart_disease_split <- initial_split(heart_disease_data, prop = 0.75, strata = num)\n",
    "\n",
    "heart_disease_train <- training(heart_disease_split)\n",
    "heart_disease_train\n",
    "\n",
    "heart_disease_test <- testing(heart_disease_split)\n",
    "heart_disease_test"
   ]
  },
  {
   "cell_type": "code",
   "execution_count": 5,
   "id": "ee324f1e-c3ee-4c80-9ece-45315c569bf7",
   "metadata": {},
   "outputs": [
    {
     "data": {
      "text/html": [
       "<table class=\"dataframe\">\n",
       "<caption>A tibble: 2 × 3</caption>\n",
       "<thead>\n",
       "\t<tr><th scope=col>num</th><th scope=col>people</th><th scope=col>percent</th></tr>\n",
       "\t<tr><th scope=col>&lt;fct&gt;</th><th scope=col>&lt;int&gt;</th><th scope=col>&lt;dbl&gt;</th></tr>\n",
       "</thead>\n",
       "<tbody>\n",
       "\t<tr><td>0</td><td>188</td><td>63.94558</td></tr>\n",
       "\t<tr><td>1</td><td>106</td><td>36.05442</td></tr>\n",
       "</tbody>\n",
       "</table>\n"
      ],
      "text/latex": [
       "A tibble: 2 × 3\n",
       "\\begin{tabular}{lll}\n",
       " num & people & percent\\\\\n",
       " <fct> & <int> & <dbl>\\\\\n",
       "\\hline\n",
       "\t 0 & 188 & 63.94558\\\\\n",
       "\t 1 & 106 & 36.05442\\\\\n",
       "\\end{tabular}\n"
      ],
      "text/markdown": [
       "\n",
       "A tibble: 2 × 3\n",
       "\n",
       "| num &lt;fct&gt; | people &lt;int&gt; | percent &lt;dbl&gt; |\n",
       "|---|---|---|\n",
       "| 0 | 188 | 63.94558 |\n",
       "| 1 | 106 | 36.05442 |\n",
       "\n"
      ],
      "text/plain": [
       "  num people percent \n",
       "1 0   188    63.94558\n",
       "2 1   106    36.05442"
      ]
     },
     "metadata": {},
     "output_type": "display_data"
    },
    {
     "data": {
      "text/html": [
       "<table class=\"dataframe\">\n",
       "<caption>A tibble: 2 × 3</caption>\n",
       "<thead>\n",
       "\t<tr><th scope=col>num</th><th scope=col>people</th><th scope=col>percent</th></tr>\n",
       "\t<tr><th scope=col>&lt;fct&gt;</th><th scope=col>&lt;int&gt;</th><th scope=col>&lt;dbl&gt;</th></tr>\n",
       "</thead>\n",
       "<tbody>\n",
       "\t<tr><td>0</td><td>141</td><td>64.09091</td></tr>\n",
       "\t<tr><td>1</td><td> 79</td><td>35.90909</td></tr>\n",
       "</tbody>\n",
       "</table>\n"
      ],
      "text/latex": [
       "A tibble: 2 × 3\n",
       "\\begin{tabular}{lll}\n",
       " num & people & percent\\\\\n",
       " <fct> & <int> & <dbl>\\\\\n",
       "\\hline\n",
       "\t 0 & 141 & 64.09091\\\\\n",
       "\t 1 &  79 & 35.90909\\\\\n",
       "\\end{tabular}\n"
      ],
      "text/markdown": [
       "\n",
       "A tibble: 2 × 3\n",
       "\n",
       "| num &lt;fct&gt; | people &lt;int&gt; | percent &lt;dbl&gt; |\n",
       "|---|---|---|\n",
       "| 0 | 141 | 64.09091 |\n",
       "| 1 |  79 | 35.90909 |\n",
       "\n"
      ],
      "text/plain": [
       "  num people percent \n",
       "1 0   141    64.09091\n",
       "2 1    79    35.90909"
      ]
     },
     "metadata": {},
     "output_type": "display_data"
    }
   ],
   "source": [
    "# identifying the proportion of cases with a diagnosis of heart disease (positive angiographic disease status) and the proportion without in the full data\n",
    "# set and the training data set to ensure that the proportions are preserved during the split\n",
    "heart_disease_data_proportions <- heart_disease_data |>\n",
    "                      group_by(num) |>\n",
    "                      summarize(people = n()) |>\n",
    "                      mutate(percent = 100*people/nrow(heart_disease_data))\n",
    "heart_disease_data_proportions\n",
    "\n",
    "heart_disease_train_proportions <- heart_disease_train |>\n",
    "                      group_by(num) |>\n",
    "                      summarize(people = n()) |>\n",
    "                      mutate(percent = 100*people/nrow(heart_disease_train))\n",
    "heart_disease_train_proportions"
   ]
  },
  {
   "cell_type": "markdown",
   "id": "d0f46c2a-4640-4156-839f-366497fcf8c6",
   "metadata": {},
   "source": [
    "**Exploratory Data Analysis Using Training Data:**"
   ]
  },
  {
   "cell_type": "code",
   "execution_count": 11,
   "id": "638266f2-e782-4933-9c1d-27ba7fd3e7bc",
   "metadata": {},
   "outputs": [
    {
     "data": {
      "text/html": [
       "<table class=\"dataframe\">\n",
       "<caption>A tibble: 2 × 2</caption>\n",
       "<thead>\n",
       "\t<tr><th scope=col>diagnosis</th><th scope=col>people</th></tr>\n",
       "\t<tr><th scope=col>&lt;fct&gt;</th><th scope=col>&lt;int&gt;</th></tr>\n",
       "</thead>\n",
       "<tbody>\n",
       "\t<tr><td>0</td><td>141</td></tr>\n",
       "\t<tr><td>1</td><td> 79</td></tr>\n",
       "</tbody>\n",
       "</table>\n"
      ],
      "text/latex": [
       "A tibble: 2 × 2\n",
       "\\begin{tabular}{ll}\n",
       " diagnosis & people\\\\\n",
       " <fct> & <int>\\\\\n",
       "\\hline\n",
       "\t 0 & 141\\\\\n",
       "\t 1 &  79\\\\\n",
       "\\end{tabular}\n"
      ],
      "text/markdown": [
       "\n",
       "A tibble: 2 × 2\n",
       "\n",
       "| diagnosis &lt;fct&gt; | people &lt;int&gt; |\n",
       "|---|---|\n",
       "| 0 | 141 |\n",
       "| 1 |  79 |\n",
       "\n"
      ],
      "text/plain": [
       "  diagnosis people\n",
       "1 0         141   \n",
       "2 1          79   "
      ]
     },
     "metadata": {},
     "output_type": "display_data"
    }
   ],
   "source": [
    "# summarize the training data with a table that reports the number of observations in each class, the means of the predictor variables, and how many rows have missing data\n",
    "heart_disease_class_observations <- heart_disease_train |>\n",
    "                      group_by(diagnosis = num) |>\n",
    "                      summarize(people = n())\n",
    "heart_disease_class_observations\n",
    "\n",
    "# those that have a diagnoses have a num value of 1, indicating that there is more than 50% blood vessels diameter narrowing\n",
    "# those that do not have a diagnoses have a num value of 0, indicating that there is more than 50% blood vessels diameter narrowing"
   ]
  },
  {
   "cell_type": "code",
   "execution_count": 12,
   "id": "db5e7931-5a4a-4682-9f0f-c6bad556cd1c",
   "metadata": {},
   "outputs": [
    {
     "data": {
      "text/html": [
       "<table class=\"dataframe\">\n",
       "<caption>A data.frame: 7 × 14</caption>\n",
       "<thead>\n",
       "\t<tr><th></th><th scope=col>     age</th><th scope=col>sex</th><th scope=col>cp</th><th scope=col>   trestbps</th><th scope=col>     chol</th><th scope=col>  fbs</th><th scope=col>restecg</th><th scope=col>   thalach</th><th scope=col> exang</th><th scope=col>   oldpeak</th><th scope=col> slope</th><th scope=col>   ca</th><th scope=col>  thal</th><th scope=col>num</th></tr>\n",
       "\t<tr><th></th><th scope=col>&lt;chr&gt;</th><th scope=col>&lt;chr&gt;</th><th scope=col>&lt;chr&gt;</th><th scope=col>&lt;chr&gt;</th><th scope=col>&lt;chr&gt;</th><th scope=col>&lt;chr&gt;</th><th scope=col>&lt;chr&gt;</th><th scope=col>&lt;chr&gt;</th><th scope=col>&lt;chr&gt;</th><th scope=col>&lt;chr&gt;</th><th scope=col>&lt;chr&gt;</th><th scope=col>&lt;chr&gt;</th><th scope=col>&lt;chr&gt;</th><th scope=col>&lt;chr&gt;</th></tr>\n",
       "</thead>\n",
       "<tbody>\n",
       "\t<tr><th scope=row>min</th><td>Min.   :28.00  </td><td>0: 56  </td><td>1: 9  </td><td>Min.   : 92.0  </td><td>Min.   : 85.0  </td><td>0   :197  </td><td>0   :171  </td><td>Min.   : 82.0  </td><td>0   :153  </td><td>Min.   :0.0000  </td><td>1   : 11  </td><td>0   :  1  </td><td>3   :  6  </td><td>0:141  </td></tr>\n",
       "\t<tr><th scope=row>first quatile</th><td>1st Qu.:43.00  </td><td>1:164  </td><td>2:73  </td><td>1st Qu.:120.0  </td><td>1st Qu.:211.0  </td><td>1   : 16  </td><td>1   : 42  </td><td>1st Qu.:123.0  </td><td>1   : 66  </td><td>1st Qu.:0.0000  </td><td>2   : 68  </td><td>NA's:219  </td><td>6   :  7  </td><td>1: 79  </td></tr>\n",
       "\t<tr><th scope=row>median</th><td>Median :49.00  </td><td>NA     </td><td>3:46  </td><td>Median :130.0  </td><td>Median :238.0  </td><td>NA's:  7  </td><td>2   :  6  </td><td>Median :140.0  </td><td>NA's:  1  </td><td>Median :0.0000  </td><td>3   :  1  </td><td>NA        </td><td>7   : 10  </td><td>NA     </td></tr>\n",
       "\t<tr><th scope=row>mean</th><td>Mean   :48.11  </td><td>NA     </td><td>4:92  </td><td>Mean   :132.3  </td><td>Mean   :248.9  </td><td>NA        </td><td>NA's:  1  </td><td>Mean   :139.4  </td><td>NA        </td><td>Mean   :0.5877  </td><td>NA's:140  </td><td>NA        </td><td>NA's:197  </td><td>NA     </td></tr>\n",
       "\t<tr><th scope=row>third quatile</th><td>3rd Qu.:54.00  </td><td>NA     </td><td>NA    </td><td>3rd Qu.:140.0  </td><td>3rd Qu.:277.0  </td><td>NA        </td><td>NA        </td><td>3rd Qu.:155.0  </td><td>NA        </td><td>3rd Qu.:1.0000  </td><td>NA        </td><td>NA        </td><td>NA        </td><td>NA     </td></tr>\n",
       "\t<tr><th scope=row>max</th><td>Max.   :65.00  </td><td>NA     </td><td>NA    </td><td>Max.   :180.0  </td><td>Max.   :603.0  </td><td>NA        </td><td>NA        </td><td>Max.   :190.0  </td><td>NA        </td><td>Max.   :5.0000  </td><td>NA        </td><td>NA        </td><td>NA        </td><td>NA     </td></tr>\n",
       "\t<tr><th scope=row>missing data</th><td>NA             </td><td>NA     </td><td>NA    </td><td>NA's   :1      </td><td>NA's   :15     </td><td>NA        </td><td>NA        </td><td>NA's   :1      </td><td>NA        </td><td>NA              </td><td>NA        </td><td>NA        </td><td>NA        </td><td>NA     </td></tr>\n",
       "</tbody>\n",
       "</table>\n"
      ],
      "text/latex": [
       "A data.frame: 7 × 14\n",
       "\\begin{tabular}{r|llllllllllllll}\n",
       "  &      age & sex & cp &    trestbps &      chol &   fbs & restecg &    thalach &  exang &    oldpeak &  slope &    ca &   thal & num\\\\\n",
       "  & <chr> & <chr> & <chr> & <chr> & <chr> & <chr> & <chr> & <chr> & <chr> & <chr> & <chr> & <chr> & <chr> & <chr>\\\\\n",
       "\\hline\n",
       "\tmin & Min.   :28.00   & 0: 56   & 1: 9   & Min.   : 92.0   & Min.   : 85.0   & 0   :197   & 0   :171   & Min.   : 82.0   & 0   :153   & Min.   :0.0000   & 1   : 11   & 0   :  1   & 3   :  6   & 0:141  \\\\\n",
       "\tfirst quatile & 1st Qu.:43.00   & 1:164   & 2:73   & 1st Qu.:120.0   & 1st Qu.:211.0   & 1   : 16   & 1   : 42   & 1st Qu.:123.0   & 1   : 66   & 1st Qu.:0.0000   & 2   : 68   & NA's:219   & 6   :  7   & 1: 79  \\\\\n",
       "\tmedian & Median :49.00   & NA      & 3:46   & Median :130.0   & Median :238.0   & NA's:  7   & 2   :  6   & Median :140.0   & NA's:  1   & Median :0.0000   & 3   :  1   & NA         & 7   : 10   & NA     \\\\\n",
       "\tmean & Mean   :48.11   & NA      & 4:92   & Mean   :132.3   & Mean   :248.9   & NA         & NA's:  1   & Mean   :139.4   & NA         & Mean   :0.5877   & NA's:140   & NA         & NA's:197   & NA     \\\\\n",
       "\tthird quatile & 3rd Qu.:54.00   & NA      & NA     & 3rd Qu.:140.0   & 3rd Qu.:277.0   & NA         & NA         & 3rd Qu.:155.0   & NA         & 3rd Qu.:1.0000   & NA         & NA         & NA         & NA     \\\\\n",
       "\tmax & Max.   :65.00   & NA      & NA     & Max.   :180.0   & Max.   :603.0   & NA         & NA         & Max.   :190.0   & NA         & Max.   :5.0000   & NA         & NA         & NA         & NA     \\\\\n",
       "\tmissing data & NA              & NA      & NA     & NA's   :1       & NA's   :15      & NA         & NA         & NA's   :1       & NA         & NA               & NA         & NA         & NA         & NA     \\\\\n",
       "\\end{tabular}\n"
      ],
      "text/markdown": [
       "\n",
       "A data.frame: 7 × 14\n",
       "\n",
       "| <!--/--> |      age &lt;chr&gt; | sex &lt;chr&gt; | cp &lt;chr&gt; |    trestbps &lt;chr&gt; |      chol &lt;chr&gt; |   fbs &lt;chr&gt; | restecg &lt;chr&gt; |    thalach &lt;chr&gt; |  exang &lt;chr&gt; |    oldpeak &lt;chr&gt; |  slope &lt;chr&gt; |    ca &lt;chr&gt; |   thal &lt;chr&gt; | num &lt;chr&gt; |\n",
       "|---|---|---|---|---|---|---|---|---|---|---|---|---|---|---|\n",
       "| min | Min.   :28.00   | 0: 56   | 1: 9   | Min.   : 92.0   | Min.   : 85.0   | 0   :197   | 0   :171   | Min.   : 82.0   | 0   :153   | Min.   :0.0000   | 1   : 11   | 0   :  1   | 3   :  6   | 0:141   |\n",
       "| first quatile | 1st Qu.:43.00   | 1:164   | 2:73   | 1st Qu.:120.0   | 1st Qu.:211.0   | 1   : 16   | 1   : 42   | 1st Qu.:123.0   | 1   : 66   | 1st Qu.:0.0000   | 2   : 68   | NA's:219   | 6   :  7   | 1: 79   |\n",
       "| median | Median :49.00   | NA      | 3:46   | Median :130.0   | Median :238.0   | NA's:  7   | 2   :  6   | Median :140.0   | NA's:  1   | Median :0.0000   | 3   :  1   | NA         | 7   : 10   | NA      |\n",
       "| mean | Mean   :48.11   | NA      | 4:92   | Mean   :132.3   | Mean   :248.9   | NA         | NA's:  1   | Mean   :139.4   | NA         | Mean   :0.5877   | NA's:140   | NA         | NA's:197   | NA      |\n",
       "| third quatile | 3rd Qu.:54.00   | NA      | NA     | 3rd Qu.:140.0   | 3rd Qu.:277.0   | NA         | NA         | 3rd Qu.:155.0   | NA         | 3rd Qu.:1.0000   | NA         | NA         | NA         | NA      |\n",
       "| max | Max.   :65.00   | NA      | NA     | Max.   :180.0   | Max.   :603.0   | NA         | NA         | Max.   :190.0   | NA         | Max.   :5.0000   | NA         | NA         | NA         | NA      |\n",
       "| missing data | NA              | NA      | NA     | NA's   :1       | NA's   :15      | NA         | NA         | NA's   :1       | NA         | NA               | NA         | NA         | NA         | NA      |\n",
       "\n"
      ],
      "text/plain": [
       "                   age        sex     cp        trestbps          chol      \n",
       "min           Min.   :28.00   0: 56   1: 9   Min.   : 92.0   Min.   : 85.0  \n",
       "first quatile 1st Qu.:43.00   1:164   2:73   1st Qu.:120.0   1st Qu.:211.0  \n",
       "median        Median :49.00   NA      3:46   Median :130.0   Median :238.0  \n",
       "mean          Mean   :48.11   NA      4:92   Mean   :132.3   Mean   :248.9  \n",
       "third quatile 3rd Qu.:54.00   NA      NA     3rd Qu.:140.0   3rd Qu.:277.0  \n",
       "max           Max.   :65.00   NA      NA     Max.   :180.0   Max.   :603.0  \n",
       "missing data  NA              NA      NA     NA's   :1       NA's   :15     \n",
       "                fbs      restecg       thalach       exang        oldpeak      \n",
       "min           0   :197   0   :171   Min.   : 82.0   0   :153   Min.   :0.0000  \n",
       "first quatile 1   : 16   1   : 42   1st Qu.:123.0   1   : 66   1st Qu.:0.0000  \n",
       "median        NA's:  7   2   :  6   Median :140.0   NA's:  1   Median :0.0000  \n",
       "mean          NA         NA's:  1   Mean   :139.4   NA         Mean   :0.5877  \n",
       "third quatile NA         NA         3rd Qu.:155.0   NA         3rd Qu.:1.0000  \n",
       "max           NA         NA         Max.   :190.0   NA         Max.   :5.0000  \n",
       "missing data  NA         NA         NA's   :1       NA         NA              \n",
       "               slope        ca        thal     num    \n",
       "min           1   : 11   0   :  1   3   :  6   0:141  \n",
       "first quatile 2   : 68   NA's:219   6   :  7   1: 79  \n",
       "median        3   :  1   NA         7   : 10   NA     \n",
       "mean          NA's:140   NA         NA's:197   NA     \n",
       "third quatile NA         NA         NA         NA     \n",
       "max           NA         NA         NA         NA     \n",
       "missing data  NA         NA         NA         NA     "
      ]
     },
     "metadata": {},
     "output_type": "display_data"
    },
    {
     "data": {
      "text/plain": [
       "      age        sex     cp        trestbps          chol         fbs     \n",
       " Min.   :28.00   0: 56   1: 9   Min.   : 92.0   Min.   : 85.0   0   :197  \n",
       " 1st Qu.:43.00   1:164   2:73   1st Qu.:120.0   1st Qu.:211.0   1   : 16  \n",
       " Median :49.00           3:46   Median :130.0   Median :238.0   NA's:  7  \n",
       " Mean   :48.11           4:92   Mean   :132.3   Mean   :248.9             \n",
       " 3rd Qu.:54.00                  3rd Qu.:140.0   3rd Qu.:277.0             \n",
       " Max.   :65.00                  Max.   :180.0   Max.   :603.0             \n",
       "                                NA's   :1       NA's   :15                \n",
       " restecg       thalach       exang        oldpeak        slope        ca     \n",
       " 0   :171   Min.   : 82.0   0   :153   Min.   :0.0000   1   : 11   0   :  1  \n",
       " 1   : 42   1st Qu.:123.0   1   : 66   1st Qu.:0.0000   2   : 68   NA's:219  \n",
       " 2   :  6   Median :140.0   NA's:  1   Median :0.0000   3   :  1             \n",
       " NA's:  1   Mean   :139.4              Mean   :0.5877   NA's:140             \n",
       "            3rd Qu.:155.0              3rd Qu.:1.0000                        \n",
       "            Max.   :190.0              Max.   :5.0000                        \n",
       "            NA's   :1                                                        \n",
       "   thal     num    \n",
       " 3   :  6   0:141  \n",
       " 6   :  7   1: 79  \n",
       " 7   : 10          \n",
       " NA's:197          \n",
       "                   \n",
       "                   \n",
       "                   "
      ]
     },
     "metadata": {},
     "output_type": "display_data"
    }
   ],
   "source": [
    "heart_disease_train_summary <- data.frame(unclass(summary(heart_disease_train)),\n",
    "                                            check.names = FALSE)\n",
    "index_name <- c(\"min\",\"first quatile\",\"median\",\"mean\",\"third quatile\",\"max\",\"missing data\")\n",
    "rownames(heart_disease_train_summary) <- index_name\n",
    "heart_disease_train_summary\n",
    "\n",
    "heart_disease_train[heart_disease_train==\"?\"]<-NA\n",
    "names <- c(\"sex\",\"cp\",\"fbs\",\"restecg\",\"exang\",\"ca\",\"thal\",\"num\",\"slope\")\n",
    "heart_disease_train[,names] <- lapply(heart_disease_train[,names] , factor)\n",
    "heart_disease_train$trestbps=as.numeric(heart_disease_train$trestbps)\n",
    "heart_disease_train$thalach=as.numeric(heart_disease_train$thalach)\n",
    "heart_disease_train$oldpeak=as.numeric(heart_disease_train$oldpeak)\n",
    "heart_disease_train$chol=as.numeric(heart_disease_train$chol)\n",
    "summary(heart_disease_train)"
   ]
  },
  {
   "cell_type": "markdown",
   "id": "ef652af8-4434-4684-9823-8fe571fc59ac",
   "metadata": {},
   "source": [
    "**Methods:**"
   ]
  },
  {
   "cell_type": "code",
   "execution_count": 7,
   "id": "a3700de7-8c1c-4081-ba34-e7f72a329034",
   "metadata": {},
   "outputs": [
    {
     "name": "stderr",
     "output_type": "stream",
     "text": [
      "\u001b[1mRows: \u001b[22m\u001b[34m294\u001b[39m \u001b[1mColumns: \u001b[22m\u001b[34m14\u001b[39m\n",
      "\u001b[36m──\u001b[39m \u001b[1mColumn specification\u001b[22m \u001b[36m────────────────────────────────────────────────────────\u001b[39m\n",
      "\u001b[1mDelimiter:\u001b[22m \",\"\n",
      "\u001b[31mchr\u001b[39m (9): trestbps, chol, fbs, restecg, thalach, exang, slope, ca, thal\n",
      "\u001b[32mdbl\u001b[39m (5): age, sex, cp, oldpeak, num\n",
      "\n",
      "\u001b[36mℹ\u001b[39m Use `spec()` to retrieve the full column specification for this data.\n",
      "\u001b[36mℹ\u001b[39m Specify the column types or set `show_col_types = FALSE` to quiet this message.\n",
      "Warning message in cor(encoded_data, use = \"pairwise.complete.obs\"):\n",
      "“the standard deviation is zero”\n"
     ]
    },
    {
     "data": {
      "text/html": [
       "<table class=\"dataframe\">\n",
       "<caption>A data.frame: 25 × 1</caption>\n",
       "<thead>\n",
       "\t<tr><th></th><th scope=col>matrix...25.</th></tr>\n",
       "\t<tr><th></th><th scope=col>&lt;dbl&gt;</th></tr>\n",
       "</thead>\n",
       "<tbody>\n",
       "\t<tr><th scope=row>num0</th><td>-1.0000000</td></tr>\n",
       "\t<tr><th scope=row>num1</th><td> 1.0000000</td></tr>\n",
       "\t<tr><th scope=row>exang0</th><td>-0.5838471</td></tr>\n",
       "\t<tr><th scope=row>exang1</th><td> 0.5838471</td></tr>\n",
       "\t<tr><th scope=row>⋮</th><td>⋮</td></tr>\n",
       "\t<tr><th scope=row>restecg0</th><td>0.014021883</td></tr>\n",
       "\t<tr><th scope=row>rectecg1</th><td>0.006802993</td></tr>\n",
       "\t<tr><th scope=row>cp1</th><td>0.001269634</td></tr>\n",
       "</tbody>\n",
       "</table>\n"
      ],
      "text/latex": [
       "A data.frame: 25 × 1\n",
       "\\begin{tabular}{r|l}\n",
       "  & matrix...25.\\\\\n",
       "  & <dbl>\\\\\n",
       "\\hline\n",
       "\tnum0 & -1.0000000\\\\\n",
       "\tnum1 &  1.0000000\\\\\n",
       "\texang0 & -0.5838471\\\\\n",
       "\texang1 &  0.5838471\\\\\n",
       "\t⋮ & ⋮\\\\\n",
       "\trestecg0 & 0.014021883\\\\\n",
       "\trectecg1 & 0.006802993\\\\\n",
       "\tcp1 & 0.001269634\\\\\n",
       "\\end{tabular}\n"
      ],
      "text/markdown": [
       "\n",
       "A data.frame: 25 × 1\n",
       "\n",
       "| <!--/--> | matrix...25. &lt;dbl&gt; |\n",
       "|---|---|\n",
       "| num0 | -1.0000000 |\n",
       "| num1 |  1.0000000 |\n",
       "| exang0 | -0.5838471 |\n",
       "| exang1 |  0.5838471 |\n",
       "| ⋮ | ⋮ |\n",
       "| restecg0 | 0.014021883 |\n",
       "| rectecg1 | 0.006802993 |\n",
       "| cp1 | 0.001269634 |\n",
       "\n"
      ],
      "text/plain": [
       "         matrix...25.\n",
       "num0     -1.0000000  \n",
       "num1      1.0000000  \n",
       "exang0   -0.5838471  \n",
       "exang1    0.5838471  \n",
       "⋮        ⋮           \n",
       "restecg0 0.014021883 \n",
       "rectecg1 0.006802993 \n",
       "cp1      0.001269634 "
      ]
     },
     "metadata": {},
     "output_type": "display_data"
    }
   ],
   "source": [
    "#The loaded code + Any required changes and tidying (Data from Hungary)\n",
    "data <- read_csv(\"https://archive.ics.uci.edu/ml/machine-learning-databases/heart-disease/processed.hungarian.data\", \n",
    "                          col_names = c(\"age\", \"sex\", \"cp\", \"trestbps\", \"chol\", \"fbs\",\"restecg\", \"thalach\", \"exang\", \"oldpeak\", \"slope\", \"ca\", \"thal\", \"num\"))\n",
    "\n",
    "#Changing any ? to NA in our dataset\n",
    "data[data==\"?\"]<-NA\n",
    "\n",
    "#Converting columns to correct type (mutate_if mutates columns based on provided conditions.) (mutate_at allows to mutate multiple columns to the same type)\n",
    "data <- data |> mutate_if(is.character, as.numeric) |> mutate_at(vars(\"sex\", \"cp\", \"fbs\", \"restecg\", \"exang\", \"ca\", \"thal\", \"num\", \"slope\"), factor)\n",
    "\n",
    "#one-hot encoded data\n",
    "encoded_data <- data |> mutate(sex0 = ifelse(sex==\"0\",1,0), sex1 = ifelse(sex==\"1\",1,0),\n",
    "                      cp1 = ifelse(cp==\"1\",1,0), cp2 = ifelse(cp==\"2\",1,0), cp3 = ifelse(cp==\"3\",1,0), cp4 = ifelse(cp==\"4\",1,0), \n",
    "                      fbs0 = ifelse(fbs==\"0\",1,0), sex1 = ifelse(fbs==\"1\",1,0),\n",
    "                      restecg0 = ifelse( restecg==\"0\",1,0), rectecg1 = ifelse(restecg==\"1\",1,0), restecg2 = ifelse(restecg==\"2\",1,0),\n",
    "                      exang0 = ifelse(exang==\"0\",1,0), exang1 = ifelse(exang==\"1\",1,0),\n",
    "                      slope1 = ifelse(slope==\"1\",1,0), slope2 = ifelse(slope==\"2\",1,0), slope3 = ifelse(slope==\"3\",1,0),\n",
    "                      thal3 = ifelse(thal==\"3\",1,0), thal6 = ifelse(thal==\"6\",1,0), thal7 = ifelse(thal==\"7\",1,0),\n",
    "                      num0 = ifelse(num==\"0\",1,0), num1 = ifelse(num==\"1\",1,0)) |> select(-where(is.factor)) #Removing all factor coloumns from the dataframe.\n",
    "matrix <- cor(encoded_data, use = \"pairwise.complete.obs\") #creating a correlation matrix based on the above dataframe, and ignoring the NAs.\n",
    "num_df <- data.frame(matrix[,25]) #grabbing the 25th coloumn of the matrix as a dataframe.\n",
    "num_df <- num_df |> arrange(desc(abs(num_df))) #arranging the 25th column in a descending order based on absolute value to only account for the strength of the relationship not the direction.\n",
    "num_df"
   ]
  },
  {
   "cell_type": "code",
   "execution_count": 8,
   "id": "a50cc793-ea43-4bd5-b599-bb49b00dbeea",
   "metadata": {},
   "outputs": [
    {
     "name": "stderr",
     "output_type": "stream",
     "text": [
      "Warning message:\n",
      "“Removed 1 rows containing non-finite values (stat_boxplot).”\n"
     ]
    },
    {
     "data": {
      "image/png": "[encoded data removed]",
      "text/plain": [
       "plot without title"
      ]
     },
     "metadata": {
      "image/png": {
       "height": 420,
       "width": 420
      }
     },
     "output_type": "display_data"
    },
    {
     "data": {
      "image/png": "[encoded data removed]",
      "text/plain": [
       "plot without title"
      ]
     },
     "metadata": {
      "image/png": {
       "height": 420,
       "width": 420
      }
     },
     "output_type": "display_data"
    }
   ],
   "source": [
    "heart_disease_train[heart_disease_train==\"?\"]<-NA #changing all ? to NA in the dataframe.\n",
    "heart_disease_train <- heart_disease_train |> mutate_if(is.character, as.numeric) |> mutate_at(vars(\"sex\", \"cp\", \"fbs\", \"restecg\", \"exang\", \"ca\", \"thal\", \"num\", \"slope\"), factor)\n",
    "\n",
    "ggplot(heart_disease_train, aes(x = num, y = thalach, fill = factor(num))) +\n",
    "  geom_boxplot() +\n",
    "  labs(x = \"Diagnosis (0 = No, 1 = Yes)\", y = \"Maximum Heart Rate\", \n",
    "       title = \"Box plot of Maximum Heart Rate vs Diagnosis\",\n",
    "       fill = \"Diagnosis\") +\n",
    "  theme(text = element_text(size = 14)) +\n",
    "  guides(fill = guide_legend(title = \"Diagnosis\"))\n",
    "ggplot(heart_disease_train, aes(x = cp, fill = factor(num))) + \n",
    "  geom_bar(position = \"fill\") +\n",
    "  labs(x = \"Chest Pain Type\", y = \"Proportion\",\n",
    "       fill = \"Disease Status\",\n",
    "       title = \"Distribution of Heart Disease by Chest Pain Type\") +\n",
    "       theme(text = element_text(size = 14)) +\n",
    "       guides(fill = guide_legend(title = \"Diagnosis\"))\n",
    "  "
   ]
  },
  {
   "cell_type": "markdown",
   "id": "d1dde9e7-7e32-4838-b34b-93c6ddb09935",
   "metadata": {},
   "source": [
    "**References**\n",
    "\n",
    "OECD and World Health Organization (WHO). (2021). State of health in the EU: Country Health Profile \n",
    "2017 - Hungary. https://www.euro.who.int/__data/assets/pdf_file/0006/355983/Health-Profile-Hungary-Eng.pdf\n",
    "\n",
    "CDC: Centers for Disease Control and Prevention. (2022). Heart Disease and Stroke.\n",
    "https://www.cdc.gov/chronicdisease/resources/publications/factsheets/heart-disease-stroke.htm#:~:text=Leading%20risk%20factors%20for%20heart,unhealthy%20diet%2C%20and%20physical%20inactivity.\n",
    "\n",
    "McLaren. (2023). Heart Disease. \n",
    "https://www.mclaren.org/main/heart-disease-risk-factors#:~:text=The%20%22uncontrollable%22\n",
    "%20risk%20factors%20are,and%20common%20lifestyles%20increase%20risk)\n",
    " \n",
    "Hungarian Institute of Cardiology. (1988). Heart Disease Data Set [Dataset]. UCI Machine Learning \n",
    "Repository. https://archive.ics.uci.edu/ml/datasets/Heart+Disease"
   ]
  }
 ],
 "metadata": {
  "kernelspec": {
   "display_name": "R",
   "language": "R",
   "name": "ir"
  },
  "language_info": {
   "codemirror_mode": "r",
   "file_extension": ".r",
   "mimetype": "text/x-r-source",
   "name": "R",
   "pygments_lexer": "r",
   "version": "4.1.3"
  }
 },
 "nbformat": 4,
 "nbformat_minor": 5
}
