{
 "cells": [
  {
   "cell_type": "code",
   "execution_count": 2,
   "id": "fb6f2526-ce95-4f0b-ac40-09df49eec898",
   "metadata": {},
   "outputs": [
    {
     "data": {
      "text/html": [
       "'New file'"
      ],
      "text/latex": [
       "'New file'"
      ],
      "text/markdown": [
       "'New file'"
      ],
      "text/plain": [
       "[1] \"New file\""
      ]
     },
     "metadata": {},
     "output_type": "display_data"
    }
   ],
   "source": [
    "\"New file\""
   ]
  }
 ],
 "metadata": {
  "kernelspec": {
   "display_name": "R",
   "language": "R",
   "name": "ir"
  },
  "language_info": {
   "codemirror_mode": "r",
   "file_extension": ".r",
   "mimetype": "text/x-r-source",
   "name": "R",
   "pygments_lexer": "r",
   "version": "4.1.3"
  }
 },
 "nbformat": 4,
 "nbformat_minor": 5
}
