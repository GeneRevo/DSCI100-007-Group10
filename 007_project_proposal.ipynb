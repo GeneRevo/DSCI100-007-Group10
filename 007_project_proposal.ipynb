{
 "cells": [
  {
   "cell_type": "markdown",
   "id": "e8a52968-8e0c-4250-b40b-7469ea3339b0",
   "metadata": {},
   "source": [
    "### DSCI 100: GROUP PROJECT PROPOSAL"
   ]
  },
  {
   "cell_type": "markdown",
   "id": "a686f005-ab84-44a7-8f5b-f77e3686abc7",
   "metadata": {},
   "source": [
    "GROUP 10 - SECTION 007: Michelle Ho, Arian Afshari, Kyle Wise, Zidong Zhou"
   ]
  },
  {
   "cell_type": "code",
   "execution_count": 3,
   "id": "fb6f2526-ce95-4f0b-ac40-09df49eec898",
   "metadata": {},
   "outputs": [
    {
     "name": "stderr",
     "output_type": "stream",
     "text": [
      "── \u001b[1mAttaching packages\u001b[22m ─────────────────────────────────────── tidyverse 1.3.1 ──\n",
      "\n",
      "\u001b[32m✔\u001b[39m \u001b[34mggplot2\u001b[39m 3.3.6     \u001b[32m✔\u001b[39m \u001b[34mpurrr  \u001b[39m 0.3.4\n",
      "\u001b[32m✔\u001b[39m \u001b[34mtibble \u001b[39m 3.1.7     \u001b[32m✔\u001b[39m \u001b[34mdplyr  \u001b[39m 1.0.9\n",
      "\u001b[32m✔\u001b[39m \u001b[34mtidyr  \u001b[39m 1.2.0     \u001b[32m✔\u001b[39m \u001b[34mstringr\u001b[39m 1.4.0\n",
      "\u001b[32m✔\u001b[39m \u001b[34mreadr  \u001b[39m 2.1.2     \u001b[32m✔\u001b[39m \u001b[34mforcats\u001b[39m 0.5.1\n",
      "\n",
      "── \u001b[1mConflicts\u001b[22m ────────────────────────────────────────── tidyverse_conflicts() ──\n",
      "\u001b[31m✖\u001b[39m \u001b[34mdplyr\u001b[39m::\u001b[32mfilter()\u001b[39m masks \u001b[34mstats\u001b[39m::filter()\n",
      "\u001b[31m✖\u001b[39m \u001b[34mdplyr\u001b[39m::\u001b[32mlag()\u001b[39m    masks \u001b[34mstats\u001b[39m::lag()\n",
      "\n",
      "\u001b[1mRows: \u001b[22m\u001b[34m294\u001b[39m \u001b[1mColumns: \u001b[22m\u001b[34m14\u001b[39m\n",
      "\u001b[36m──\u001b[39m \u001b[1mColumn specification\u001b[22m \u001b[36m────────────────────────────────────────────────────────\u001b[39m\n",
      "\u001b[1mDelimiter:\u001b[22m \",\"\n",
      "\u001b[31mchr\u001b[39m (9): trestbps, chol, fbs, restecg, thalach, exang, slope, ca, thal\n",
      "\u001b[32mdbl\u001b[39m (5): age, sex, cp, oldpeak, num\n",
      "\n",
      "\u001b[36mℹ\u001b[39m Use `spec()` to retrieve the full column specification for this data.\n",
      "\u001b[36mℹ\u001b[39m Specify the column types or set `show_col_types = FALSE` to quiet this message.\n"
     ]
    }
   ],
   "source": [
    "library(tidyverse)\n",
    "library(dplyr)\n",
    "heart_disease_data <- read_csv(\"https://archive.ics.uci.edu/ml/machine-learning-databases/heart-disease/processed.hungarian.data\", \n",
    "                          col_names = c(\"age\", \"sex\", \"cp\", \"trestbps\", \"chol\", \"fbs\",\"restecg\", \"thalach\", \"exang\", \"oldpeak\", \"slope\", \"ca\", \"thal\", \"num\"))"
   ]
  },
  {
   "cell_type": "code",
   "execution_count": 21,
   "id": "a50cc793-ea43-4bd5-b599-bb49b00dbeea",
   "metadata": {},
   "outputs": [
    {
     "data": {
      "text/plain": [
       "      age        sex     cp         trestbps          chol         fbs     \n",
       " Min.   :28.00   0: 81   1: 11   Min.   : 92.0   Min.   : 85.0   0   :266  \n",
       " 1st Qu.:42.00   1:213   2:106   1st Qu.:120.0   1st Qu.:209.0   1   : 20  \n",
       " Median :49.00           3: 54   Median :130.0   Median :243.0   NA's:  8  \n",
       " Mean   :47.83           4:123   Mean   :132.6   Mean   :250.8             \n",
       " 3rd Qu.:54.00                   3rd Qu.:140.0   3rd Qu.:282.5             \n",
       " Max.   :66.00                   Max.   :200.0   Max.   :603.0             \n",
       "                                 NA's   :1       NA's   :23                \n",
       " restecg       thalach       exang        oldpeak        slope        ca     \n",
       " 0   :235   Min.   : 82.0   0   :204   Min.   :0.0000   1   : 12   0   :  3  \n",
       " 1   : 52   1st Qu.:122.0   1   : 89   1st Qu.:0.0000   2   : 91   NA's:291  \n",
       " 2   :  6   Median :140.0   NA's:  1   Median :0.0000   3   :  1             \n",
       " NA's:  1   Mean   :139.1              Mean   :0.5861   NA's:190             \n",
       "            3rd Qu.:155.0              3rd Qu.:1.0000                        \n",
       "            Max.   :190.0              Max.   :5.0000                        \n",
       "            NA's   :1                                                        \n",
       "   thal     num    \n",
       " 3   :  7   0:188  \n",
       " 6   : 10   1:106  \n",
       " 7   : 11          \n",
       " NA's:266          \n",
       "                   \n",
       "                   \n",
       "                   "
      ]
     },
     "metadata": {},
     "output_type": "display_data"
    }
   ],
   "source": [
    "heart_disease_data[heart_disease_data==\"?\"]<-NA\n",
    "names <- c(\"sex\",\"cp\",\"fbs\",\"restecg\",\"exang\",\"ca\",\"thal\",\"num\",\"slope\")\n",
    "heart_disease_data[,names] <- lapply(heart_disease_data[,names] , factor)\n",
    "heart_disease_data$trestbps=as.numeric(heart_disease_data$trestbps)\n",
    "heart_disease_data$thalach=as.numeric(heart_disease_data$thalach)\n",
    "heart_disease_data$oldpeak=as.numeric(heart_disease_data$oldpeak)\n",
    "heart_disease_data$chol=as.numeric(heart_disease_data$chol)\n",
    "summary(heart_disease_data)\n",
    "correlation_columns=c(colnames(heart_disease_data))\n",
    "correlation_columns=list(correlation_columns[0:13])"
   ]
  },
  {
   "cell_type": "code",
   "execution_count": 60,
   "id": "56777948-c776-472e-80fe-df791e150dae",
   "metadata": {},
   "outputs": [],
   "source": [
    "#function for catergorical plotting\n",
    "hist_plotting_function<-function(column){\n",
    "heart_disease_data|>\n",
    "mutate(a=fbs==num)|>\n",
    "ggplot(aes(x=a))+geom_histogram(stat=\"count\")\n",
    "}\n"
   ]
  },
  {
   "cell_type": "code",
   "execution_count": 61,
   "id": "76d61dab-e325-48dd-9ce4-3512e6619bd8",
   "metadata": {},
   "outputs": [
    {
     "name": "stderr",
     "output_type": "stream",
     "text": [
      "Warning message:\n",
      "“Ignoring unknown parameters: binwidth, bins, pad”\n"
     ]
    },
    {
     "data": {
      "image/png": "[encoded data removed]",
      "text/plain": [
       "plot without title"
      ]
     },
     "metadata": {
      "image/png": {
       "height": 420,
       "width": 420
      }
     },
     "output_type": "display_data"
    }
   ],
   "source": [
    "hist_plotting_function(\"sex\")"
   ]
  },
  {
   "cell_type": "code",
   "execution_count": null,
   "id": "f787c686-c732-4924-9dfa-3fde0d772e1f",
   "metadata": {},
   "outputs": [],
   "source": []
  },
  {
   "cell_type": "code",
   "execution_count": null,
   "id": "e769d0e6-4ca1-4e38-9188-7f6d6a6467da",
   "metadata": {},
   "outputs": [],
   "source": []
  },
  {
   "cell_type": "code",
   "execution_count": null,
   "id": "8178f118-ec61-47db-b813-edf5f3e8f7d3",
   "metadata": {},
   "outputs": [],
   "source": []
  }
 ],
 "metadata": {
  "kernelspec": {
   "display_name": "R",
   "language": "R",
   "name": "ir"
  },
  "language_info": {
   "codemirror_mode": "r",
   "file_extension": ".r",
   "mimetype": "text/x-r-source",
   "name": "R",
   "pygments_lexer": "r",
   "version": "4.1.3"
  }
 },
 "nbformat": 4,
 "nbformat_minor": 5
}
