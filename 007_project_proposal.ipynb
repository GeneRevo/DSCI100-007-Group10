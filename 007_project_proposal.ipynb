{
 "cells": [
  {
   "cell_type": "markdown",
   "id": "e8a52968-8e0c-4250-b40b-7469ea3339b0",
   "metadata": {},
   "source": [
    "### DSCI 100: GROUP PROJECT PROPOSAL"
   ]
  },
  {
   "cell_type": "markdown",
   "id": "a686f005-ab84-44a7-8f5b-f77e3686abc7",
   "metadata": {},
   "source": [
    "GROUP 10 - SECTION 007: Michelle Ho, Arian Afshari, Kyle Wise, Zidong Zhou"
   ]
  },
  {
   "cell_type": "code",
   "execution_count": 2,
   "id": "28a1d2b8-2848-4632-bba0-9242547fc07d",
   "metadata": {},
   "outputs": [
    {
     "name": "stderr",
     "output_type": "stream",
     "text": [
      "── \u001b[1mAttaching packages\u001b[22m ─────────────────────────────────────── tidyverse 1.3.1 ──\n",
      "\n",
      "\u001b[32m✔\u001b[39m \u001b[34mggplot2\u001b[39m 3.3.6     \u001b[32m✔\u001b[39m \u001b[34mpurrr  \u001b[39m 0.3.4\n",
      "\u001b[32m✔\u001b[39m \u001b[34mtibble \u001b[39m 3.1.7     \u001b[32m✔\u001b[39m \u001b[34mdplyr  \u001b[39m 1.0.9\n",
      "\u001b[32m✔\u001b[39m \u001b[34mtidyr  \u001b[39m 1.2.0     \u001b[32m✔\u001b[39m \u001b[34mstringr\u001b[39m 1.4.0\n",
      "\u001b[32m✔\u001b[39m \u001b[34mreadr  \u001b[39m 2.1.2     \u001b[32m✔\u001b[39m \u001b[34mforcats\u001b[39m 0.5.1\n",
      "\n",
      "── \u001b[1mConflicts\u001b[22m ────────────────────────────────────────── tidyverse_conflicts() ──\n",
      "\u001b[31m✖\u001b[39m \u001b[34mdplyr\u001b[39m::\u001b[32mfilter()\u001b[39m masks \u001b[34mstats\u001b[39m::filter()\n",
      "\u001b[31m✖\u001b[39m \u001b[34mdplyr\u001b[39m::\u001b[32mlag()\u001b[39m    masks \u001b[34mstats\u001b[39m::lag()\n",
      "\n",
      "── \u001b[1mAttaching packages\u001b[22m ────────────────────────────────────── tidymodels 1.0.0 ──\n",
      "\n",
      "\u001b[32m✔\u001b[39m \u001b[34mbroom       \u001b[39m 1.0.0     \u001b[32m✔\u001b[39m \u001b[34mrsample     \u001b[39m 1.0.0\n",
      "\u001b[32m✔\u001b[39m \u001b[34mdials       \u001b[39m 1.0.0     \u001b[32m✔\u001b[39m \u001b[34mtune        \u001b[39m 1.0.0\n",
      "\u001b[32m✔\u001b[39m \u001b[34minfer       \u001b[39m 1.0.2     \u001b[32m✔\u001b[39m \u001b[34mworkflows   \u001b[39m 1.0.0\n",
      "\u001b[32m✔\u001b[39m \u001b[34mmodeldata   \u001b[39m 1.0.0     \u001b[32m✔\u001b[39m \u001b[34mworkflowsets\u001b[39m 1.0.0\n",
      "\u001b[32m✔\u001b[39m \u001b[34mparsnip     \u001b[39m 1.0.0     \u001b[32m✔\u001b[39m \u001b[34myardstick   \u001b[39m 1.0.0\n",
      "\u001b[32m✔\u001b[39m \u001b[34mrecipes     \u001b[39m 1.0.1     \n",
      "\n",
      "── \u001b[1mConflicts\u001b[22m ───────────────────────────────────────── tidymodels_conflicts() ──\n",
      "\u001b[31m✖\u001b[39m \u001b[34mscales\u001b[39m::\u001b[32mdiscard()\u001b[39m masks \u001b[34mpurrr\u001b[39m::discard()\n",
      "\u001b[31m✖\u001b[39m \u001b[34mdplyr\u001b[39m::\u001b[32mfilter()\u001b[39m   masks \u001b[34mstats\u001b[39m::filter()\n",
      "\u001b[31m✖\u001b[39m \u001b[34mrecipes\u001b[39m::\u001b[32mfixed()\u001b[39m  masks \u001b[34mstringr\u001b[39m::fixed()\n",
      "\u001b[31m✖\u001b[39m \u001b[34mdplyr\u001b[39m::\u001b[32mlag()\u001b[39m      masks \u001b[34mstats\u001b[39m::lag()\n",
      "\u001b[31m✖\u001b[39m \u001b[34myardstick\u001b[39m::\u001b[32mspec()\u001b[39m masks \u001b[34mreadr\u001b[39m::spec()\n",
      "\u001b[31m✖\u001b[39m \u001b[34mrecipes\u001b[39m::\u001b[32mstep()\u001b[39m   masks \u001b[34mstats\u001b[39m::step()\n",
      "\u001b[34m•\u001b[39m Use \u001b[32mtidymodels_prefer()\u001b[39m to resolve common conflicts.\n",
      "\n"
     ]
    }
   ],
   "source": [
    "library(tidyverse)\n",
    "library(tidymodels)\n",
    "library(dplyr)\n",
    "library(repr)\n",
    "options(repr.matrix.max.rows = 7)"
   ]
  },
  {
   "cell_type": "markdown",
   "id": "566c0d55-9db2-41e8-a92f-6191b3a430b0",
   "metadata": {},
   "source": [
    "**Introduction:** One of the leading causes of death in Hungary are cardiovascular diseases (CVDs) (OECD and WHO, 2017). It constitutes approximately 52.4% of the main diagnoses underlying cause of death and 47.6% of the secondary diagnoses prior to death. Several risk factors are known to be associated with CVDs; the most prominent among them are high blood pressure, high low-density lipoprotein (LDL) cholesterol levels, smoking, and overall, leading an unhealthy lifestyle (CDC, 2022). Moreover, susceptibility to heart disease increases with age and other uncontrollable factors such as sex (McLaren, 2023).\n",
    "As data science becomes progressively useful in analyzing and interpreting patient outcomes, we plan to use the tools that we’ve learnt in class to predict the angiographic disease status of CVDs. Our project will use the Heart Disease data set from the UCI Machine Learning Repository to build a classification model that will predict CVD diagnoses in presenting patients. The diagnosis of heart disease in the data set is defined as a binary label, whether the patient has the disease or not. The disease is present if there is greater than 50% diameter narrowing in any of the major blood vessels in a patient. Ie., if the value in the num parameter is 1, then more than 50% of the diameter of the major blood vessels are narrowing (Hungarian Institute of Cardiology, 1988). When blood vessels narrow, the heart does not receive the blood that it requries and thus, results in heart disease. Overall, heart failure is a common result caused by CVDs. The dataset that we will be using features 14 attributes that will be examined to determine which are possible indicators of heart disease which will then be used to predict the presence of heart disease in patients."
   ]
  },
  {
   "cell_type": "markdown",
   "id": "9db0f1de-4431-4f92-a47e-201cbba490f7",
   "metadata": {},
   "source": [
    "**Preliminary exploratory data analysis:**"
   ]
  },
  {
   "cell_type": "code",
   "execution_count": 3,
   "id": "65a5469c-0392-4f5f-b0f3-24ba06e7d94e",
   "metadata": {},
   "outputs": [],
   "source": [
    "# setting the seed such that the numbers used in the analysis are reasonably random\n",
    "set.seed(3789)"
   ]
  },
  {
   "cell_type": "code",
   "execution_count": 3,
   "id": "fb6f2526-ce95-4f0b-ac40-09df49eec898",
   "metadata": {},
   "outputs": [
    {
     "name": "stderr",
     "output_type": "stream",
     "text": [
      "\u001b[1mRows: \u001b[22m\u001b[34m294\u001b[39m \u001b[1mColumns: \u001b[22m\u001b[34m14\u001b[39m\n",
      "\u001b[36m──\u001b[39m \u001b[1mColumn specification\u001b[22m \u001b[36m────────────────────────────────────────────────────────\u001b[39m\n",
      "\u001b[1mDelimiter:\u001b[22m \",\"\n",
      "\u001b[31mchr\u001b[39m (9): trestbps, chol, fbs, restecg, thalach, exang, slope, ca, thal\n",
      "\u001b[32mdbl\u001b[39m (5): age, sex, cp, oldpeak, num\n",
      "\n",
      "\u001b[36mℹ\u001b[39m Use `spec()` to retrieve the full column specification for this data.\n",
      "\u001b[36mℹ\u001b[39m Specify the column types or set `show_col_types = FALSE` to quiet this message.\n"
     ]
    },
    {
     "data": {
      "text/html": [
       "<table class=\"dataframe\">\n",
       "<caption>A tibble: 294 × 14</caption>\n",
       "<thead>\n",
       "\t<tr><th scope=col>age</th><th scope=col>sex</th><th scope=col>cp</th><th scope=col>trestbps</th><th scope=col>chol</th><th scope=col>fbs</th><th scope=col>restecg</th><th scope=col>thalach</th><th scope=col>exang</th><th scope=col>oldpeak</th><th scope=col>slope</th><th scope=col>ca</th><th scope=col>thal</th><th scope=col>num</th></tr>\n",
       "\t<tr><th scope=col>&lt;dbl&gt;</th><th scope=col>&lt;dbl&gt;</th><th scope=col>&lt;dbl&gt;</th><th scope=col>&lt;chr&gt;</th><th scope=col>&lt;chr&gt;</th><th scope=col>&lt;chr&gt;</th><th scope=col>&lt;chr&gt;</th><th scope=col>&lt;chr&gt;</th><th scope=col>&lt;chr&gt;</th><th scope=col>&lt;dbl&gt;</th><th scope=col>&lt;chr&gt;</th><th scope=col>&lt;chr&gt;</th><th scope=col>&lt;chr&gt;</th><th scope=col>&lt;fct&gt;</th></tr>\n",
       "</thead>\n",
       "<tbody>\n",
       "\t<tr><td>28</td><td>1</td><td>2</td><td>130</td><td>132</td><td>0</td><td>2</td><td>185</td><td>0</td><td>0</td><td>?</td><td>?</td><td>?</td><td>0</td></tr>\n",
       "\t<tr><td>29</td><td>1</td><td>2</td><td>120</td><td>243</td><td>0</td><td>0</td><td>160</td><td>0</td><td>0</td><td>?</td><td>?</td><td>?</td><td>0</td></tr>\n",
       "\t<tr><td>29</td><td>1</td><td>2</td><td>140</td><td>?  </td><td>0</td><td>0</td><td>170</td><td>0</td><td>0</td><td>?</td><td>?</td><td>?</td><td>0</td></tr>\n",
       "\t<tr><td>30</td><td>0</td><td>1</td><td>170</td><td>237</td><td>0</td><td>1</td><td>170</td><td>0</td><td>0</td><td>?</td><td>?</td><td>6</td><td>0</td></tr>\n",
       "\t<tr><td>⋮</td><td>⋮</td><td>⋮</td><td>⋮</td><td>⋮</td><td>⋮</td><td>⋮</td><td>⋮</td><td>⋮</td><td>⋮</td><td>⋮</td><td>⋮</td><td>⋮</td><td>⋮</td></tr>\n",
       "\t<tr><td>56</td><td>1</td><td>4</td><td>155</td><td>342</td><td>1</td><td>0</td><td>150</td><td>1</td><td>3</td><td>2</td><td>?</td><td>?</td><td>1</td></tr>\n",
       "\t<tr><td>58</td><td>0</td><td>2</td><td>180</td><td>393</td><td>0</td><td>0</td><td>110</td><td>1</td><td>1</td><td>2</td><td>?</td><td>7</td><td>1</td></tr>\n",
       "\t<tr><td>65</td><td>1</td><td>4</td><td>130</td><td>275</td><td>0</td><td>1</td><td>115</td><td>1</td><td>1</td><td>2</td><td>?</td><td>?</td><td>1</td></tr>\n",
       "</tbody>\n",
       "</table>\n"
      ],
      "text/latex": [
       "A tibble: 294 × 14\n",
       "\\begin{tabular}{llllllllllllll}\n",
       " age & sex & cp & trestbps & chol & fbs & restecg & thalach & exang & oldpeak & slope & ca & thal & num\\\\\n",
       " <dbl> & <dbl> & <dbl> & <chr> & <chr> & <chr> & <chr> & <chr> & <chr> & <dbl> & <chr> & <chr> & <chr> & <fct>\\\\\n",
       "\\hline\n",
       "\t 28 & 1 & 2 & 130 & 132 & 0 & 2 & 185 & 0 & 0 & ? & ? & ? & 0\\\\\n",
       "\t 29 & 1 & 2 & 120 & 243 & 0 & 0 & 160 & 0 & 0 & ? & ? & ? & 0\\\\\n",
       "\t 29 & 1 & 2 & 140 & ?   & 0 & 0 & 170 & 0 & 0 & ? & ? & ? & 0\\\\\n",
       "\t 30 & 0 & 1 & 170 & 237 & 0 & 1 & 170 & 0 & 0 & ? & ? & 6 & 0\\\\\n",
       "\t ⋮ & ⋮ & ⋮ & ⋮ & ⋮ & ⋮ & ⋮ & ⋮ & ⋮ & ⋮ & ⋮ & ⋮ & ⋮ & ⋮\\\\\n",
       "\t 56 & 1 & 4 & 155 & 342 & 1 & 0 & 150 & 1 & 3 & 2 & ? & ? & 1\\\\\n",
       "\t 58 & 0 & 2 & 180 & 393 & 0 & 0 & 110 & 1 & 1 & 2 & ? & 7 & 1\\\\\n",
       "\t 65 & 1 & 4 & 130 & 275 & 0 & 1 & 115 & 1 & 1 & 2 & ? & ? & 1\\\\\n",
       "\\end{tabular}\n"
      ],
      "text/markdown": [
       "\n",
       "A tibble: 294 × 14\n",
       "\n",
       "| age &lt;dbl&gt; | sex &lt;dbl&gt; | cp &lt;dbl&gt; | trestbps &lt;chr&gt; | chol &lt;chr&gt; | fbs &lt;chr&gt; | restecg &lt;chr&gt; | thalach &lt;chr&gt; | exang &lt;chr&gt; | oldpeak &lt;dbl&gt; | slope &lt;chr&gt; | ca &lt;chr&gt; | thal &lt;chr&gt; | num &lt;fct&gt; |\n",
       "|---|---|---|---|---|---|---|---|---|---|---|---|---|---|\n",
       "| 28 | 1 | 2 | 130 | 132 | 0 | 2 | 185 | 0 | 0 | ? | ? | ? | 0 |\n",
       "| 29 | 1 | 2 | 120 | 243 | 0 | 0 | 160 | 0 | 0 | ? | ? | ? | 0 |\n",
       "| 29 | 1 | 2 | 140 | ?   | 0 | 0 | 170 | 0 | 0 | ? | ? | ? | 0 |\n",
       "| 30 | 0 | 1 | 170 | 237 | 0 | 1 | 170 | 0 | 0 | ? | ? | 6 | 0 |\n",
       "| ⋮ | ⋮ | ⋮ | ⋮ | ⋮ | ⋮ | ⋮ | ⋮ | ⋮ | ⋮ | ⋮ | ⋮ | ⋮ | ⋮ |\n",
       "| 56 | 1 | 4 | 155 | 342 | 1 | 0 | 150 | 1 | 3 | 2 | ? | ? | 1 |\n",
       "| 58 | 0 | 2 | 180 | 393 | 0 | 0 | 110 | 1 | 1 | 2 | ? | 7 | 1 |\n",
       "| 65 | 1 | 4 | 130 | 275 | 0 | 1 | 115 | 1 | 1 | 2 | ? | ? | 1 |\n",
       "\n"
      ],
      "text/plain": [
       "    age sex cp trestbps chol fbs restecg thalach exang oldpeak slope ca thal\n",
       "1   28  1   2  130      132  0   2       185     0     0       ?     ?  ?   \n",
       "2   29  1   2  120      243  0   0       160     0     0       ?     ?  ?   \n",
       "3   29  1   2  140      ?    0   0       170     0     0       ?     ?  ?   \n",
       "4   30  0   1  170      237  0   1       170     0     0       ?     ?  6   \n",
       "⋮   ⋮   ⋮   ⋮  ⋮        ⋮    ⋮   ⋮       ⋮       ⋮     ⋮       ⋮     ⋮  ⋮   \n",
       "292 56  1   4  155      342  1   0       150     1     3       2     ?  ?   \n",
       "293 58  0   2  180      393  0   0       110     1     1       2     ?  7   \n",
       "294 65  1   4  130      275  0   1       115     1     1       2     ?  ?   \n",
       "    num\n",
       "1   0  \n",
       "2   0  \n",
       "3   0  \n",
       "4   0  \n",
       "⋮   ⋮  \n",
       "292 1  \n",
       "293 1  \n",
       "294 1  "
      ]
     },
     "metadata": {},
     "output_type": "display_data"
    }
   ],
   "source": [
    "# loading the data and mutating the class label column to factor \n",
    "heart_disease_data <- read_csv(\"https://archive.ics.uci.edu/ml/machine-learning-databases/heart-disease/processed.hungarian.data\", \n",
    "                          col_names = c(\"age\", \"sex\", \"cp\", \"trestbps\", \"chol\", \"fbs\",\"restecg\", \"thalach\", \"exang\", \"oldpeak\", \n",
    "                                        \"slope\", \"ca\", \"thal\", \"num\")) |>\n",
    "mutate(num = as_factor(num))\n",
    "heart_disease_data"
   ]
  },
  {
   "cell_type": "code",
   "execution_count": 4,
   "id": "c3c382ca-899d-4945-8798-43c84ea7e68c",
   "metadata": {},
   "outputs": [
    {
     "data": {
      "text/html": [
       "<table class=\"dataframe\">\n",
       "<caption>A tibble: 220 × 14</caption>\n",
       "<thead>\n",
       "\t<tr><th scope=col>age</th><th scope=col>sex</th><th scope=col>cp</th><th scope=col>trestbps</th><th scope=col>chol</th><th scope=col>fbs</th><th scope=col>restecg</th><th scope=col>thalach</th><th scope=col>exang</th><th scope=col>oldpeak</th><th scope=col>slope</th><th scope=col>ca</th><th scope=col>thal</th><th scope=col>num</th></tr>\n",
       "\t<tr><th scope=col>&lt;dbl&gt;</th><th scope=col>&lt;dbl&gt;</th><th scope=col>&lt;dbl&gt;</th><th scope=col>&lt;chr&gt;</th><th scope=col>&lt;chr&gt;</th><th scope=col>&lt;chr&gt;</th><th scope=col>&lt;chr&gt;</th><th scope=col>&lt;chr&gt;</th><th scope=col>&lt;chr&gt;</th><th scope=col>&lt;dbl&gt;</th><th scope=col>&lt;chr&gt;</th><th scope=col>&lt;chr&gt;</th><th scope=col>&lt;chr&gt;</th><th scope=col>&lt;fct&gt;</th></tr>\n",
       "</thead>\n",
       "<tbody>\n",
       "\t<tr><td>31</td><td>0</td><td>2</td><td>100</td><td>219</td><td>0</td><td>1</td><td>150</td><td>0</td><td>0</td><td>?</td><td>?</td><td>?</td><td>0</td></tr>\n",
       "\t<tr><td>32</td><td>1</td><td>2</td><td>110</td><td>225</td><td>0</td><td>0</td><td>184</td><td>0</td><td>0</td><td>?</td><td>?</td><td>?</td><td>0</td></tr>\n",
       "\t<tr><td>32</td><td>1</td><td>2</td><td>125</td><td>254</td><td>0</td><td>0</td><td>155</td><td>0</td><td>0</td><td>?</td><td>?</td><td>?</td><td>0</td></tr>\n",
       "\t<tr><td>33</td><td>1</td><td>3</td><td>120</td><td>298</td><td>0</td><td>0</td><td>185</td><td>0</td><td>0</td><td>?</td><td>?</td><td>?</td><td>0</td></tr>\n",
       "\t<tr><td>⋮</td><td>⋮</td><td>⋮</td><td>⋮</td><td>⋮</td><td>⋮</td><td>⋮</td><td>⋮</td><td>⋮</td><td>⋮</td><td>⋮</td><td>⋮</td><td>⋮</td><td>⋮</td></tr>\n",
       "\t<tr><td>56</td><td>1</td><td>4</td><td>155</td><td>342</td><td>1</td><td>0</td><td>150</td><td>1</td><td>3</td><td>2</td><td>?</td><td>?</td><td>1</td></tr>\n",
       "\t<tr><td>58</td><td>0</td><td>2</td><td>180</td><td>393</td><td>0</td><td>0</td><td>110</td><td>1</td><td>1</td><td>2</td><td>?</td><td>7</td><td>1</td></tr>\n",
       "\t<tr><td>65</td><td>1</td><td>4</td><td>130</td><td>275</td><td>0</td><td>1</td><td>115</td><td>1</td><td>1</td><td>2</td><td>?</td><td>?</td><td>1</td></tr>\n",
       "</tbody>\n",
       "</table>\n"
      ],
      "text/latex": [
       "A tibble: 220 × 14\n",
       "\\begin{tabular}{llllllllllllll}\n",
       " age & sex & cp & trestbps & chol & fbs & restecg & thalach & exang & oldpeak & slope & ca & thal & num\\\\\n",
       " <dbl> & <dbl> & <dbl> & <chr> & <chr> & <chr> & <chr> & <chr> & <chr> & <dbl> & <chr> & <chr> & <chr> & <fct>\\\\\n",
       "\\hline\n",
       "\t 31 & 0 & 2 & 100 & 219 & 0 & 1 & 150 & 0 & 0 & ? & ? & ? & 0\\\\\n",
       "\t 32 & 1 & 2 & 110 & 225 & 0 & 0 & 184 & 0 & 0 & ? & ? & ? & 0\\\\\n",
       "\t 32 & 1 & 2 & 125 & 254 & 0 & 0 & 155 & 0 & 0 & ? & ? & ? & 0\\\\\n",
       "\t 33 & 1 & 3 & 120 & 298 & 0 & 0 & 185 & 0 & 0 & ? & ? & ? & 0\\\\\n",
       "\t ⋮ & ⋮ & ⋮ & ⋮ & ⋮ & ⋮ & ⋮ & ⋮ & ⋮ & ⋮ & ⋮ & ⋮ & ⋮ & ⋮\\\\\n",
       "\t 56 & 1 & 4 & 155 & 342 & 1 & 0 & 150 & 1 & 3 & 2 & ? & ? & 1\\\\\n",
       "\t 58 & 0 & 2 & 180 & 393 & 0 & 0 & 110 & 1 & 1 & 2 & ? & 7 & 1\\\\\n",
       "\t 65 & 1 & 4 & 130 & 275 & 0 & 1 & 115 & 1 & 1 & 2 & ? & ? & 1\\\\\n",
       "\\end{tabular}\n"
      ],
      "text/markdown": [
       "\n",
       "A tibble: 220 × 14\n",
       "\n",
       "| age &lt;dbl&gt; | sex &lt;dbl&gt; | cp &lt;dbl&gt; | trestbps &lt;chr&gt; | chol &lt;chr&gt; | fbs &lt;chr&gt; | restecg &lt;chr&gt; | thalach &lt;chr&gt; | exang &lt;chr&gt; | oldpeak &lt;dbl&gt; | slope &lt;chr&gt; | ca &lt;chr&gt; | thal &lt;chr&gt; | num &lt;fct&gt; |\n",
       "|---|---|---|---|---|---|---|---|---|---|---|---|---|---|\n",
       "| 31 | 0 | 2 | 100 | 219 | 0 | 1 | 150 | 0 | 0 | ? | ? | ? | 0 |\n",
       "| 32 | 1 | 2 | 110 | 225 | 0 | 0 | 184 | 0 | 0 | ? | ? | ? | 0 |\n",
       "| 32 | 1 | 2 | 125 | 254 | 0 | 0 | 155 | 0 | 0 | ? | ? | ? | 0 |\n",
       "| 33 | 1 | 3 | 120 | 298 | 0 | 0 | 185 | 0 | 0 | ? | ? | ? | 0 |\n",
       "| ⋮ | ⋮ | ⋮ | ⋮ | ⋮ | ⋮ | ⋮ | ⋮ | ⋮ | ⋮ | ⋮ | ⋮ | ⋮ | ⋮ |\n",
       "| 56 | 1 | 4 | 155 | 342 | 1 | 0 | 150 | 1 | 3 | 2 | ? | ? | 1 |\n",
       "| 58 | 0 | 2 | 180 | 393 | 0 | 0 | 110 | 1 | 1 | 2 | ? | 7 | 1 |\n",
       "| 65 | 1 | 4 | 130 | 275 | 0 | 1 | 115 | 1 | 1 | 2 | ? | ? | 1 |\n",
       "\n"
      ],
      "text/plain": [
       "    age sex cp trestbps chol fbs restecg thalach exang oldpeak slope ca thal\n",
       "1   31  0   2  100      219  0   1       150     0     0       ?     ?  ?   \n",
       "2   32  1   2  110      225  0   0       184     0     0       ?     ?  ?   \n",
       "3   32  1   2  125      254  0   0       155     0     0       ?     ?  ?   \n",
       "4   33  1   3  120      298  0   0       185     0     0       ?     ?  ?   \n",
       "⋮   ⋮   ⋮   ⋮  ⋮        ⋮    ⋮   ⋮       ⋮       ⋮     ⋮       ⋮     ⋮  ⋮   \n",
       "218 56  1   4  155      342  1   0       150     1     3       2     ?  ?   \n",
       "219 58  0   2  180      393  0   0       110     1     1       2     ?  7   \n",
       "220 65  1   4  130      275  0   1       115     1     1       2     ?  ?   \n",
       "    num\n",
       "1   0  \n",
       "2   0  \n",
       "3   0  \n",
       "4   0  \n",
       "⋮   ⋮  \n",
       "218 1  \n",
       "219 1  \n",
       "220 1  "
      ]
     },
     "metadata": {},
     "output_type": "display_data"
    },
    {
     "data": {
      "text/html": [
       "<table class=\"dataframe\">\n",
       "<caption>A tibble: 74 × 14</caption>\n",
       "<thead>\n",
       "\t<tr><th scope=col>age</th><th scope=col>sex</th><th scope=col>cp</th><th scope=col>trestbps</th><th scope=col>chol</th><th scope=col>fbs</th><th scope=col>restecg</th><th scope=col>thalach</th><th scope=col>exang</th><th scope=col>oldpeak</th><th scope=col>slope</th><th scope=col>ca</th><th scope=col>thal</th><th scope=col>num</th></tr>\n",
       "\t<tr><th scope=col>&lt;dbl&gt;</th><th scope=col>&lt;dbl&gt;</th><th scope=col>&lt;dbl&gt;</th><th scope=col>&lt;chr&gt;</th><th scope=col>&lt;chr&gt;</th><th scope=col>&lt;chr&gt;</th><th scope=col>&lt;chr&gt;</th><th scope=col>&lt;chr&gt;</th><th scope=col>&lt;chr&gt;</th><th scope=col>&lt;dbl&gt;</th><th scope=col>&lt;chr&gt;</th><th scope=col>&lt;chr&gt;</th><th scope=col>&lt;chr&gt;</th><th scope=col>&lt;fct&gt;</th></tr>\n",
       "</thead>\n",
       "<tbody>\n",
       "\t<tr><td>28</td><td>1</td><td>2</td><td>130</td><td>132</td><td>0</td><td>2</td><td>185</td><td>0</td><td>0</td><td>?</td><td>?</td><td>?</td><td>0</td></tr>\n",
       "\t<tr><td>29</td><td>1</td><td>2</td><td>120</td><td>243</td><td>0</td><td>0</td><td>160</td><td>0</td><td>0</td><td>?</td><td>?</td><td>?</td><td>0</td></tr>\n",
       "\t<tr><td>29</td><td>1</td><td>2</td><td>140</td><td>?  </td><td>0</td><td>0</td><td>170</td><td>0</td><td>0</td><td>?</td><td>?</td><td>?</td><td>0</td></tr>\n",
       "\t<tr><td>30</td><td>0</td><td>1</td><td>170</td><td>237</td><td>0</td><td>1</td><td>170</td><td>0</td><td>0</td><td>?</td><td>?</td><td>6</td><td>0</td></tr>\n",
       "\t<tr><td>⋮</td><td>⋮</td><td>⋮</td><td>⋮</td><td>⋮</td><td>⋮</td><td>⋮</td><td>⋮</td><td>⋮</td><td>⋮</td><td>⋮</td><td>⋮</td><td>⋮</td><td>⋮</td></tr>\n",
       "\t<tr><td>58</td><td>1</td><td>2</td><td>136</td><td>164</td><td>0</td><td>1</td><td>99 </td><td>1</td><td>2</td><td>2</td><td>?</td><td>?</td><td>1</td></tr>\n",
       "\t<tr><td>43</td><td>1</td><td>4</td><td>140</td><td>288</td><td>0</td><td>0</td><td>135</td><td>1</td><td>2</td><td>2</td><td>?</td><td>?</td><td>1</td></tr>\n",
       "\t<tr><td>49</td><td>1</td><td>4</td><td>150</td><td>222</td><td>0</td><td>0</td><td>122</td><td>0</td><td>2</td><td>2</td><td>?</td><td>?</td><td>1</td></tr>\n",
       "</tbody>\n",
       "</table>\n"
      ],
      "text/latex": [
       "A tibble: 74 × 14\n",
       "\\begin{tabular}{llllllllllllll}\n",
       " age & sex & cp & trestbps & chol & fbs & restecg & thalach & exang & oldpeak & slope & ca & thal & num\\\\\n",
       " <dbl> & <dbl> & <dbl> & <chr> & <chr> & <chr> & <chr> & <chr> & <chr> & <dbl> & <chr> & <chr> & <chr> & <fct>\\\\\n",
       "\\hline\n",
       "\t 28 & 1 & 2 & 130 & 132 & 0 & 2 & 185 & 0 & 0 & ? & ? & ? & 0\\\\\n",
       "\t 29 & 1 & 2 & 120 & 243 & 0 & 0 & 160 & 0 & 0 & ? & ? & ? & 0\\\\\n",
       "\t 29 & 1 & 2 & 140 & ?   & 0 & 0 & 170 & 0 & 0 & ? & ? & ? & 0\\\\\n",
       "\t 30 & 0 & 1 & 170 & 237 & 0 & 1 & 170 & 0 & 0 & ? & ? & 6 & 0\\\\\n",
       "\t ⋮ & ⋮ & ⋮ & ⋮ & ⋮ & ⋮ & ⋮ & ⋮ & ⋮ & ⋮ & ⋮ & ⋮ & ⋮ & ⋮\\\\\n",
       "\t 58 & 1 & 2 & 136 & 164 & 0 & 1 & 99  & 1 & 2 & 2 & ? & ? & 1\\\\\n",
       "\t 43 & 1 & 4 & 140 & 288 & 0 & 0 & 135 & 1 & 2 & 2 & ? & ? & 1\\\\\n",
       "\t 49 & 1 & 4 & 150 & 222 & 0 & 0 & 122 & 0 & 2 & 2 & ? & ? & 1\\\\\n",
       "\\end{tabular}\n"
      ],
      "text/markdown": [
       "\n",
       "A tibble: 74 × 14\n",
       "\n",
       "| age &lt;dbl&gt; | sex &lt;dbl&gt; | cp &lt;dbl&gt; | trestbps &lt;chr&gt; | chol &lt;chr&gt; | fbs &lt;chr&gt; | restecg &lt;chr&gt; | thalach &lt;chr&gt; | exang &lt;chr&gt; | oldpeak &lt;dbl&gt; | slope &lt;chr&gt; | ca &lt;chr&gt; | thal &lt;chr&gt; | num &lt;fct&gt; |\n",
       "|---|---|---|---|---|---|---|---|---|---|---|---|---|---|\n",
       "| 28 | 1 | 2 | 130 | 132 | 0 | 2 | 185 | 0 | 0 | ? | ? | ? | 0 |\n",
       "| 29 | 1 | 2 | 120 | 243 | 0 | 0 | 160 | 0 | 0 | ? | ? | ? | 0 |\n",
       "| 29 | 1 | 2 | 140 | ?   | 0 | 0 | 170 | 0 | 0 | ? | ? | ? | 0 |\n",
       "| 30 | 0 | 1 | 170 | 237 | 0 | 1 | 170 | 0 | 0 | ? | ? | 6 | 0 |\n",
       "| ⋮ | ⋮ | ⋮ | ⋮ | ⋮ | ⋮ | ⋮ | ⋮ | ⋮ | ⋮ | ⋮ | ⋮ | ⋮ | ⋮ |\n",
       "| 58 | 1 | 2 | 136 | 164 | 0 | 1 | 99  | 1 | 2 | 2 | ? | ? | 1 |\n",
       "| 43 | 1 | 4 | 140 | 288 | 0 | 0 | 135 | 1 | 2 | 2 | ? | ? | 1 |\n",
       "| 49 | 1 | 4 | 150 | 222 | 0 | 0 | 122 | 0 | 2 | 2 | ? | ? | 1 |\n",
       "\n"
      ],
      "text/plain": [
       "   age sex cp trestbps chol fbs restecg thalach exang oldpeak slope ca thal num\n",
       "1  28  1   2  130      132  0   2       185     0     0       ?     ?  ?    0  \n",
       "2  29  1   2  120      243  0   0       160     0     0       ?     ?  ?    0  \n",
       "3  29  1   2  140      ?    0   0       170     0     0       ?     ?  ?    0  \n",
       "4  30  0   1  170      237  0   1       170     0     0       ?     ?  6    0  \n",
       "⋮  ⋮   ⋮   ⋮  ⋮        ⋮    ⋮   ⋮       ⋮       ⋮     ⋮       ⋮     ⋮  ⋮    ⋮  \n",
       "72 58  1   2  136      164  0   1       99      1     2       2     ?  ?    1  \n",
       "73 43  1   4  140      288  0   0       135     1     2       2     ?  ?    1  \n",
       "74 49  1   4  150      222  0   0       122     0     2       2     ?  ?    1  "
      ]
     },
     "metadata": {},
     "output_type": "display_data"
    }
   ],
   "source": [
    "# partitioning the data into a training (75%) and testing (25%) set; num will be used as the class label\n",
    "heart_disease_split <- initial_split(heart_disease_data, prop = 0.75, strata = num)\n",
    "\n",
    "heart_disease_train <- training(heart_disease_split)\n",
    "heart_disease_train\n",
    "\n",
    "heart_disease_test <- testing(heart_disease_split)\n",
    "heart_disease_test"
   ]
  },
  {
   "cell_type": "code",
   "execution_count": 5,
   "id": "ee324f1e-c3ee-4c80-9ece-45315c569bf7",
   "metadata": {},
   "outputs": [
    {
     "data": {
      "text/html": [
       "<table class=\"dataframe\">\n",
       "<caption>A tibble: 2 × 3</caption>\n",
       "<thead>\n",
       "\t<tr><th scope=col>num</th><th scope=col>people</th><th scope=col>percent</th></tr>\n",
       "\t<tr><th scope=col>&lt;fct&gt;</th><th scope=col>&lt;int&gt;</th><th scope=col>&lt;dbl&gt;</th></tr>\n",
       "</thead>\n",
       "<tbody>\n",
       "\t<tr><td>0</td><td>188</td><td>63.94558</td></tr>\n",
       "\t<tr><td>1</td><td>106</td><td>36.05442</td></tr>\n",
       "</tbody>\n",
       "</table>\n"
      ],
      "text/latex": [
       "A tibble: 2 × 3\n",
       "\\begin{tabular}{lll}\n",
       " num & people & percent\\\\\n",
       " <fct> & <int> & <dbl>\\\\\n",
       "\\hline\n",
       "\t 0 & 188 & 63.94558\\\\\n",
       "\t 1 & 106 & 36.05442\\\\\n",
       "\\end{tabular}\n"
      ],
      "text/markdown": [
       "\n",
       "A tibble: 2 × 3\n",
       "\n",
       "| num &lt;fct&gt; | people &lt;int&gt; | percent &lt;dbl&gt; |\n",
       "|---|---|---|\n",
       "| 0 | 188 | 63.94558 |\n",
       "| 1 | 106 | 36.05442 |\n",
       "\n"
      ],
      "text/plain": [
       "  num people percent \n",
       "1 0   188    63.94558\n",
       "2 1   106    36.05442"
      ]
     },
     "metadata": {},
     "output_type": "display_data"
    },
    {
     "data": {
      "text/html": [
       "<table class=\"dataframe\">\n",
       "<caption>A tibble: 2 × 3</caption>\n",
       "<thead>\n",
       "\t<tr><th scope=col>num</th><th scope=col>people</th><th scope=col>percent</th></tr>\n",
       "\t<tr><th scope=col>&lt;fct&gt;</th><th scope=col>&lt;int&gt;</th><th scope=col>&lt;dbl&gt;</th></tr>\n",
       "</thead>\n",
       "<tbody>\n",
       "\t<tr><td>0</td><td>141</td><td>64.09091</td></tr>\n",
       "\t<tr><td>1</td><td> 79</td><td>35.90909</td></tr>\n",
       "</tbody>\n",
       "</table>\n"
      ],
      "text/latex": [
       "A tibble: 2 × 3\n",
       "\\begin{tabular}{lll}\n",
       " num & people & percent\\\\\n",
       " <fct> & <int> & <dbl>\\\\\n",
       "\\hline\n",
       "\t 0 & 141 & 64.09091\\\\\n",
       "\t 1 &  79 & 35.90909\\\\\n",
       "\\end{tabular}\n"
      ],
      "text/markdown": [
       "\n",
       "A tibble: 2 × 3\n",
       "\n",
       "| num &lt;fct&gt; | people &lt;int&gt; | percent &lt;dbl&gt; |\n",
       "|---|---|---|\n",
       "| 0 | 141 | 64.09091 |\n",
       "| 1 |  79 | 35.90909 |\n",
       "\n"
      ],
      "text/plain": [
       "  num people percent \n",
       "1 0   141    64.09091\n",
       "2 1    79    35.90909"
      ]
     },
     "metadata": {},
     "output_type": "display_data"
    }
   ],
   "source": [
    "# identifying the proportion of cases with a diagnosis of heart disease (positive angiographic disease status) and the proportion without in the full data\n",
    "# set and the training data set to ensure that the proportions are preserved during the split\n",
    "heart_disease_data_proportions <- heart_disease_data |>\n",
    "                      group_by(num) |>\n",
    "                      summarize(people = n()) |>\n",
    "                      mutate(percent = 100*people/nrow(heart_disease_data))\n",
    "heart_disease_data_proportions\n",
    "\n",
    "heart_disease_train_proportions <- heart_disease_train |>\n",
    "                      group_by(num) |>\n",
    "                      summarize(people = n()) |>\n",
    "                      mutate(percent = 100*people/nrow(heart_disease_train))\n",
    "heart_disease_train_proportions"
   ]
  },
  {
   "cell_type": "markdown",
   "id": "d0f46c2a-4640-4156-839f-366497fcf8c6",
   "metadata": {},
   "source": [
    "**Exploratory Data Analysis Using Training Data:**"
   ]
  },
  {
   "cell_type": "code",
   "execution_count": 6,
   "id": "638266f2-e782-4933-9c1d-27ba7fd3e7bc",
   "metadata": {},
   "outputs": [
    {
     "data": {
      "text/html": [
       "<table class=\"dataframe\">\n",
       "<caption>A tibble: 2 × 2</caption>\n",
       "<thead>\n",
       "\t<tr><th scope=col>diagnosis</th><th scope=col>people</th></tr>\n",
       "\t<tr><th scope=col>&lt;fct&gt;</th><th scope=col>&lt;int&gt;</th></tr>\n",
       "</thead>\n",
       "<tbody>\n",
       "\t<tr><td>0</td><td>141</td></tr>\n",
       "\t<tr><td>1</td><td> 79</td></tr>\n",
       "</tbody>\n",
       "</table>\n"
      ],
      "text/latex": [
       "A tibble: 2 × 2\n",
       "\\begin{tabular}{ll}\n",
       " diagnosis & people\\\\\n",
       " <fct> & <int>\\\\\n",
       "\\hline\n",
       "\t 0 & 141\\\\\n",
       "\t 1 &  79\\\\\n",
       "\\end{tabular}\n"
      ],
      "text/markdown": [
       "\n",
       "A tibble: 2 × 2\n",
       "\n",
       "| diagnosis &lt;fct&gt; | people &lt;int&gt; |\n",
       "|---|---|\n",
       "| 0 | 141 |\n",
       "| 1 |  79 |\n",
       "\n"
      ],
      "text/plain": [
       "  diagnosis people\n",
       "1 0         141   \n",
       "2 1          79   "
      ]
     },
     "metadata": {},
     "output_type": "display_data"
    },
    {
     "ename": "ERROR",
     "evalue": "Error in `.rowNamesDF<-`(x, value = value): invalid 'row.names' length\n",
     "output_type": "error",
     "traceback": [
      "Error in `.rowNamesDF<-`(x, value = value): invalid 'row.names' length\nTraceback:\n",
      "1. `rownames<-`(`*tmp*`, value = c(\"min\", \"first quatile\", \"median\", \n . \"mean\", \"third quatile\", \"max\", \"missing data\"))",
      "2. `row.names<-`(`*tmp*`, value = value)",
      "3. `row.names<-.data.frame`(`*tmp*`, value = value)",
      "4. `.rowNamesDF<-`(x, value = value)",
      "5. stop(\"invalid 'row.names' length\")"
     ]
    }
   ],
   "source": [
    "# summarize the training data with a table that reports the number of observations in each class, the means of the predictor variables, and how many rows have missing data\n",
    "heart_disease_class_observations <- heart_disease_train |>\n",
    "                      group_by(diagnosis = num) |>\n",
    "                      summarize(people = n())\n",
    "heart_disease_class_observations\n",
    "\n",
    "# those that have a diagnoses have a num value of 1, indicating that there is more than 50% blood vessels diameter narrowing\n",
    "# those that do not have a diagnoses have a num value of 0, indicating that there is more than 50% blood vessels diameter narrowing\n",
    "\n",
    "heart_disease_train_summary <- data.frame(unclass(summary(heart_disease_train)),\n",
    "                                            check.names = FALSE)\n",
    "index_name <- c(\"min\",\"first quatile\",\"median\",\"mean\",\"third quatile\",\"max\",\"missing data\")\n",
    "rownames(heart_disease_train_summary) <- index_name\n",
    "heart_disease_train_summary"
   ]
  },
  {
   "cell_type": "code",
   "execution_count": 22,
   "id": "a50cc793-ea43-4bd5-b599-bb49b00dbeea",
   "metadata": {},
   "outputs": [
    {
     "data": {
      "text/plain": [
       "      age        sex     cp        trestbps        chol         fbs     \n",
       " Min.   :31.00   0: 66   1: 8   Min.   :100   Min.   : 85.0   0   :198  \n",
       " 1st Qu.:43.00   1:154   2:77   1st Qu.:120   1st Qu.:211.0   1   : 16  \n",
       " Median :49.00           3:43   Median :130   Median :248.0   NA's:  6  \n",
       " Mean   :48.37           4:92   Mean   :132   Mean   :253.2             \n",
       " 3rd Qu.:54.00                  3rd Qu.:140   3rd Qu.:288.0             \n",
       " Max.   :66.00                  Max.   :200   Max.   :518.0             \n",
       "                                NA's   :1     NA's   :17                \n",
       " restecg       thalach       exang        oldpeak        slope        ca     \n",
       " 0   :174   Min.   : 82.0   0   :149   Min.   :0.0000   1   : 10   0   :  2  \n",
       " 1   : 41   1st Qu.:122.0   1   : 70   1st Qu.:0.0000   2   : 68   NA's:218  \n",
       " 2   :  4   Median :140.0   NA's:  1   Median :0.0000   3   :  1             \n",
       " NA's:  1   Mean   :139.6              Mean   :0.5945   NA's:141             \n",
       "            3rd Qu.:155.0              3rd Qu.:1.0000                        \n",
       "            Max.   :185.0              Max.   :5.0000                        \n",
       "            NA's   :1                                                        \n",
       "   thal     num    \n",
       " 3   :  5   1:141  \n",
       " 6   :  8   2: 79  \n",
       " 7   :  9          \n",
       " NA's:198          \n",
       "                   \n",
       "                   \n",
       "                   "
      ]
     },
     "metadata": {},
     "output_type": "display_data"
    },
    {
     "name": "stderr",
     "output_type": "stream",
     "text": [
      "Warning message:\n",
      "“Removed 1 rows containing missing values (geom_point).”\n"
     ]
    },
    {
     "data": {
      "image/png": "[encoded data removed]",
      "text/plain": [
       "plot without title"
      ]
     },
     "metadata": {
      "image/png": {
       "height": 420,
       "width": 420
      }
     },
     "output_type": "display_data"
    }
   ],
   "source": [
    "heart_disease_train[heart_disease_train==\"?\"]<-NA\n",
    "names <- c(\"sex\",\"cp\",\"fbs\",\"restecg\",\"exang\",\"ca\",\"thal\",\"num\",\"slope\")\n",
    "heart_disease_train[,names] <- lapply(heart_disease_train[,names] , factor)\n",
    "heart_disease_train$trestbps=as.numeric(heart_disease_train$trestbps)\n",
    "heart_disease_train$thalach=as.numeric(heart_disease_train$thalach)\n",
    "heart_disease_train$oldpeak=as.numeric(heart_disease_train$oldpeak)\n",
    "heart_disease_train$chol=as.numeric(heart_disease_train$chol)\n",
    "summary(heart_disease_train)\n",
    "ggplot(heart_disease_train,aes(x=thalach,y=num))+geom_point()\n"
   ]
  },
  {
   "cell_type": "markdown",
   "id": "ef652af8-4434-4684-9823-8fe571fc59ac",
   "metadata": {},
   "source": [
    "**Methods:**"
   ]
  },
  {
   "cell_type": "code",
   "execution_count": null,
   "id": "a3700de7-8c1c-4081-ba34-e7f72a329034",
   "metadata": {},
   "outputs": [],
   "source": []
  },
  {
   "cell_type": "markdown",
   "id": "d1dde9e7-7e32-4838-b34b-93c6ddb09935",
   "metadata": {},
   "source": [
    "**References**\n",
    "\n",
    "OECD and World Health Organization (WHO). (2021). State of health in the EU: Country Health Profile \n",
    "2017 - Hungary. https://www.euro.who.int/__data/assets/pdf_file/0006/355983/Health-Profile-Hungary-Eng.pdf\n",
    "\n",
    "CDC: Centers for Disease Control and Prevention. (2022). Heart Disease and Stroke.\n",
    "https://www.cdc.gov/chronicdisease/resources/publications/factsheets/heart-disease-stroke.htm#:~:text=Leading%20risk%20factors%20for%20heart,unhealthy%20diet%2C%20and%20physical%20inactivity.\n",
    "\n",
    "McLaren. (2023). Heart Disease. \n",
    "https://www.mclaren.org/main/heart-disease-risk-factors#:~:text=The%20%22uncontrollable%22\n",
    "%20risk%20factors%20are,and%20common%20lifestyles%20increase%20risk)\n",
    " \n",
    "Hungarian Institute of Cardiology. (1988). Heart Disease Data Set [Dataset]. UCI Machine Learning \n",
    "Repository. https://archive.ics.uci.edu/ml/datasets/Heart+Disease"
   ]
  }
 ],
 "metadata": {
  "kernelspec": {
   "display_name": "R",
   "language": "R",
   "name": "ir"
  },
  "language_info": {
   "codemirror_mode": "r",
   "file_extension": ".r",
   "mimetype": "text/x-r-source",
   "name": "R",
   "pygments_lexer": "r",
   "version": "4.1.3"
  }
 },
 "nbformat": 4,
 "nbformat_minor": 5
}
