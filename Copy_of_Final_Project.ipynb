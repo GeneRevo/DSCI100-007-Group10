{
  "cells": [
    {
      "cell_type": "markdown",
      "metadata": {
        "id": "CHz5Ia3mEG68"
      },
      "source": [
        "# Group Final Report\n",
        "#\n",
        "###  Kai Duan, Lavanya Kandhari, Panle Li, Zidong Zhou\n",
        "### Group 20\n",
        "## Introduction"
      ]
    },
    {
      "cell_type": "markdown",
      "metadata": {
        "id": "sEUGcfZ_EG6-"
      },
      "source": [
        "\n",
        "The selected dataset for the STAT 301 project is the Heart Diseases Dataset from Kaggle and it can be found [HERE](https://www.kaggle.com/datasets/johnsmith88/heart-disease-dataset/data)\n",
        "![Heart](https://c8y.doxcdn.com/image/upload/c_fill,fl_progressive,h_800,q_auto,w_1600/gau2taystiugaa2br7zs.webp)"
      ]
    },
    {
      "cell_type": "markdown",
      "source": [
        "The selected dataset for the STAT 301 project is the Heart Diseases Dataset from Kaggle and it can be found [HERE](https://www.kaggle.com/datasets/johnsmith88/heart-disease-dataset/data)\n",
        "\n",
        "\n",
        "\n",
        "DATA:\n",
        "One of the leading causes of death in Hungary are cardiovascular diseases (CVDs) (OECD and WHO, 2017). It constitutes approximately 52.4% of the main diagnoses underlying cause of death and 47.6% of the secondary diagnoses prior to death. Heart failure is a common result of CVDs. Several risk factors are known to be associated with CVDs; the most prominent among them are high blood pressure, high cholesterol levels, and smoking (CDC, 2022). Moreover, susceptibility to heart disease increases with age and other uncontrollable factors such as sex (McLaren, 2023).\n",
        "\n",
        "Heart disease is a leading cause of mortality worldwide, and early diagnosis and risk assessment are important for effective management and prevention. This dataset contains information related to heart disease diagnosis from 1988 and consists of Cleveland databases.\n",
        "It contains various clinical and demographic attributes of patients, for example, age, gender, cholesterol levels, and resting blood pressure results along with the “target” variable indicating the presence or absence of heart disease.\n",
        "\n",
        "\n",
        "We will now explore the key objectives of the data to know more about it :\n",
        "- We have a total number of 1025 observations, out of which 302 are unique\n",
        "- We have 14 variables, out of which \"target\" is the response varibale and the rest are predictors\n",
        "- The dataset that we will be using features 14 attributes of patients that will be examined to determine which are possible indicators of heart disease:\n",
        "   - age: age (continuous)\n",
        "   - sex: binary , 1 = male; 0 = female (will be used as a categorical variable)\n",
        "   - cp: chest pain type, 4 values 0 = typical angina; 1 = atypical angina; 2 = non-anginal pain; 3 = asymptomatic (will be used as a categorical variable)\n",
        "   - trestbps: resting blood pressure (in mm Hg on admission to the hospital)(continuous, double)\n",
        "   - chol: serum cholesterol in mg/dl (continuous)\n",
        "   - fbs: fasting blood sugar > 120 mg/dl binary 1 = true; 0 = false (will be used as a categorical variable)\n",
        "   - restecg: resting electrocardiographic results 0: normal; 1: having ST-T wave abnormality ; 2: showing probable or definite left ventricular hypertrophy by Estes' criteria (will be used as a categorical variable)\n",
        "   - thalach: maximum heart rate achieved (continuous)\n",
        "   - exang: exercise induced angina, 1 = yes; 0 = no (will be used as a categorical variable)\n",
        "   - oldpeak: ST depression induced by exercise relative to rest (continuous, double)\n",
        "   - slope: the slope of the peak exercise ST segment 0: upsloping; 1: flat; 2: downsloping (will be used as a categorical variable)\n",
        "   - ca: number of major vessels (0-3) colored by flourosopy (continuous)\n",
        "   - thal: 0 = normal; 1 = fixed defect; 2 = reversable defect (will be used as a categorical variable)\n",
        "   - target: resting electrocardiographic results (values 0,1) (response variable)\n",
        "Due to the time limits tha we have in side our project we will only be trying to use the quantitive and continuous variable right here to preidct the heart diseases.\n",
        "\n",
        "This dataset has been collected by the cleveland clinical foundation, little is known about the origin but it is known that this research has been used by ML researchers to date for modelling related to heart diseases.\n",
        "\n",
        "\n",
        "QUESTION:\n",
        "My question of interest is: **\"Which attributes in the dataset are possible indicators of heart disease(target), and then use multiple classification prediction mechanisms, and compare and employ the best model to predict the presence of heart disease in patients\"**\n",
        "\n",
        "\n",
        "Our response variable would be target and our  explanatory variables are all the other columns of the dataset like sex, age, resting blood pressure, cholesterol. we will start with all variables and then select those that are related to the target variable by a significant amount.\n",
        "\n",
        "\n",
        "The chosen data will help us address the question of interest by the following reasons:\n",
        "- We can make a correlation matrix to see which attributes are statistically significant to predict the presence of heart disease.\n",
        "- It gives us various attributes like resting blood pressure, age, cholestrol levels and we can explore their relationship.\n",
        "- From the above we can also build a predictive model using the statistically significant and correlated attributes to find the \"target\" varibale in the dataset, as our response variable.\n",
        "- Visualization of data will help us understand the trends that heart diseases follow when measured along age.\n",
        "\n",
        "\n",
        "Our question focuses on both prediction and inference. We aim to identify the variables that are strongly associated with the presence of heart disease which is represented by the target variable[target] (inference), and then, we plan to build a predictive model that uses these variables to predict the presence of heart disease in patients (prediction).\n"
      ],
      "metadata": {
        "id": "Ka1rWSoUHK86"
      }
    },
    {
      "cell_type": "code",
      "execution_count": 1,
      "metadata": {
        "vscode": {
          "languageId": "r"
        },
        "id": "0XDm1WqlEG6-",
        "colab": {
          "base_uri": "https://localhost:8080/"
        },
        "outputId": "ab7f41ea-ec60-489c-fa69-0061eca73c61"
      },
      "outputs": [
        {
          "output_type": "stream",
          "name": "stderr",
          "text": [
            "Installing package into ‘/usr/local/lib/R/site-library’\n",
            "(as ‘lib’ is unspecified)\n",
            "\n"
          ]
        }
      ],
      "source": [
        "install.packages(\"corrplot\")\n"
      ]
    },
    {
      "cell_type": "code",
      "source": [
        "install.packages(\"GGally\")\n"
      ],
      "metadata": {
        "colab": {
          "base_uri": "https://localhost:8080/"
        },
        "id": "4xS6ZDIlGoMp",
        "outputId": "4f793597-e3bf-4150-8a09-f0dd18647333"
      },
      "execution_count": 2,
      "outputs": [
        {
          "output_type": "stream",
          "name": "stderr",
          "text": [
            "Installing package into ‘/usr/local/lib/R/site-library’\n",
            "(as ‘lib’ is unspecified)\n",
            "\n",
            "also installing the dependencies ‘labelled’, ‘broom.helpers’, ‘patchwork’, ‘Rcpp’, ‘ggstats’, ‘plyr’\n",
            "\n",
            "\n",
            "Warning message in install.packages(\"GGally\"):\n",
            "“installation of package ‘ggstats’ had non-zero exit status”\n",
            "Warning message in install.packages(\"GGally\"):\n",
            "“installation of package ‘GGally’ had non-zero exit status”\n"
          ]
        }
      ]
    },
    {
      "cell_type": "code",
      "source": [
        "\n",
        "install.packages(\"tidymodels\")\n"
      ],
      "metadata": {
        "colab": {
          "base_uri": "https://localhost:8080/"
        },
        "id": "936zRBmeGuBy",
        "outputId": "e5ff89fa-1f2d-413f-d30c-b8a53be13de0"
      },
      "execution_count": 3,
      "outputs": [
        {
          "output_type": "stream",
          "name": "stderr",
          "text": [
            "Installing package into ‘/usr/local/lib/R/site-library’\n",
            "(as ‘lib’ is unspecified)\n",
            "\n",
            "also installing the dependencies ‘future.apply’, ‘lava’, ‘prodlim’, ‘clock’, ‘ipred’, ‘timeDate’, ‘furrr’, ‘slider’, ‘GPfit’, ‘dials’, ‘modeldata’, ‘parsnip’, ‘recipes’, ‘rsample’, ‘tune’, ‘workflows’, ‘workflowsets’, ‘yardstick’\n",
            "\n",
            "\n"
          ]
        }
      ]
    },
    {
      "cell_type": "code",
      "source": [
        "install.packages(\"car\")"
      ],
      "metadata": {
        "colab": {
          "base_uri": "https://localhost:8080/"
        },
        "id": "sXW__TkYIPvd",
        "outputId": "5d81a78d-594e-4dab-c9b1-47577adf5cf1"
      },
      "execution_count": null,
      "outputs": [
        {
          "output_type": "stream",
          "name": "stderr",
          "text": [
            "Installing package into ‘/usr/local/lib/R/site-library’\n",
            "(as ‘lib’ is unspecified)\n",
            "\n",
            "also installing the dependencies ‘SparseM’, ‘MatrixModels’, ‘minqa’, ‘nloptr’, ‘RcppEigen’, ‘carData’, ‘abind’, ‘pbkrtest’, ‘quantreg’, ‘lme4’\n",
            "\n",
            "\n"
          ]
        }
      ]
    },
    {
      "cell_type": "code",
      "execution_count": 7,
      "metadata": {
        "vscode": {
          "languageId": "r"
        },
        "id": "IIqCWPfqEG6_",
        "outputId": "abda30dd-6206-413d-92d8-9fe32acbad93",
        "colab": {
          "base_uri": "https://localhost:8080/",
          "height": 179
        }
      },
      "outputs": [
        {
          "output_type": "stream",
          "name": "stderr",
          "text": [
            "corrplot 0.92 loaded\n",
            "\n"
          ]
        },
        {
          "output_type": "error",
          "ename": "ERROR",
          "evalue": "ignored",
          "traceback": [
            "Error in library(glmnet): there is no package called ‘glmnet’\nTraceback:\n",
            "1. library(glmnet)"
          ]
        }
      ],
      "source": [
        "library(corrplot)\n",
        "library(glmnet)\n",
        "library(tidymodels)\n",
        "library(tidyverse)\n",
        "library(readr)\n",
        "library(GGally)\n",
        "library(car)\n",
        "library(caret)\n",
        "library(pROC)"
      ]
    },
    {
      "cell_type": "markdown",
      "metadata": {
        "id": "eTORWHVBEG6_"
      },
      "source": [
        "Some of these packages were installed through the code below. In case a library above is not found,\n",
        "please refer to the code block below to download all necessary packages!"
      ]
    },
    {
      "cell_type": "markdown",
      "metadata": {
        "id": "dv40hFihEG7A"
      },
      "source": [
        "### Data:\n",
        "Heart disease is a leading cause of mortality worldwide, and early diagnosis and risk assessment are important for effective management and prevention. This dataset contains information related to heart disease diagnosis from 1988 and consists of Cleveland databases. It contains various clinical and demographic attributes of patients, for example, age, gender, cholesterol levels, and resting blood pressure results along with the “target” variable indicating the presence or absence of heart disease.\n",
        "We will now explore the key objectives of the data to know more about it :\n",
        "\n",
        "#### Reading the data from the web:"
      ]
    },
    {
      "cell_type": "code",
      "execution_count": 5,
      "metadata": {
        "vscode": {
          "languageId": "r"
        },
        "id": "z5WvfF6KEG7A",
        "outputId": "9def8f84-7dc5-4328-9c84-9be04ec8ab70",
        "colab": {
          "base_uri": "https://localhost:8080/",
          "height": 286
        }
      },
      "outputs": [
        {
          "output_type": "display_data",
          "data": {
            "text/html": [
              "<table class=\"dataframe\">\n",
              "<caption>A data.frame: 6 × 14</caption>\n",
              "<thead>\n",
              "\t<tr><th></th><th scope=col>age</th><th scope=col>sex</th><th scope=col>cp</th><th scope=col>trestbps</th><th scope=col>chol</th><th scope=col>fbs</th><th scope=col>restecg</th><th scope=col>thalach</th><th scope=col>exang</th><th scope=col>oldpeak</th><th scope=col>slope</th><th scope=col>ca</th><th scope=col>thal</th><th scope=col>target</th></tr>\n",
              "\t<tr><th></th><th scope=col>&lt;int&gt;</th><th scope=col>&lt;int&gt;</th><th scope=col>&lt;int&gt;</th><th scope=col>&lt;int&gt;</th><th scope=col>&lt;int&gt;</th><th scope=col>&lt;int&gt;</th><th scope=col>&lt;int&gt;</th><th scope=col>&lt;int&gt;</th><th scope=col>&lt;int&gt;</th><th scope=col>&lt;dbl&gt;</th><th scope=col>&lt;int&gt;</th><th scope=col>&lt;int&gt;</th><th scope=col>&lt;int&gt;</th><th scope=col>&lt;int&gt;</th></tr>\n",
              "</thead>\n",
              "<tbody>\n",
              "\t<tr><th scope=row>1</th><td>52</td><td>1</td><td>0</td><td>125</td><td>212</td><td>0</td><td>1</td><td>168</td><td>0</td><td>1.0</td><td>2</td><td>2</td><td>3</td><td>0</td></tr>\n",
              "\t<tr><th scope=row>2</th><td>53</td><td>1</td><td>0</td><td>140</td><td>203</td><td>1</td><td>0</td><td>155</td><td>1</td><td>3.1</td><td>0</td><td>0</td><td>3</td><td>0</td></tr>\n",
              "\t<tr><th scope=row>3</th><td>70</td><td>1</td><td>0</td><td>145</td><td>174</td><td>0</td><td>1</td><td>125</td><td>1</td><td>2.6</td><td>0</td><td>0</td><td>3</td><td>0</td></tr>\n",
              "\t<tr><th scope=row>4</th><td>61</td><td>1</td><td>0</td><td>148</td><td>203</td><td>0</td><td>1</td><td>161</td><td>0</td><td>0.0</td><td>2</td><td>1</td><td>3</td><td>0</td></tr>\n",
              "\t<tr><th scope=row>5</th><td>62</td><td>0</td><td>0</td><td>138</td><td>294</td><td>1</td><td>1</td><td>106</td><td>0</td><td>1.9</td><td>1</td><td>3</td><td>2</td><td>0</td></tr>\n",
              "\t<tr><th scope=row>6</th><td>58</td><td>0</td><td>0</td><td>100</td><td>248</td><td>0</td><td>0</td><td>122</td><td>0</td><td>1.0</td><td>1</td><td>0</td><td>2</td><td>1</td></tr>\n",
              "</tbody>\n",
              "</table>\n"
            ],
            "text/markdown": "\nA data.frame: 6 × 14\n\n| <!--/--> | age &lt;int&gt; | sex &lt;int&gt; | cp &lt;int&gt; | trestbps &lt;int&gt; | chol &lt;int&gt; | fbs &lt;int&gt; | restecg &lt;int&gt; | thalach &lt;int&gt; | exang &lt;int&gt; | oldpeak &lt;dbl&gt; | slope &lt;int&gt; | ca &lt;int&gt; | thal &lt;int&gt; | target &lt;int&gt; |\n|---|---|---|---|---|---|---|---|---|---|---|---|---|---|---|\n| 1 | 52 | 1 | 0 | 125 | 212 | 0 | 1 | 168 | 0 | 1.0 | 2 | 2 | 3 | 0 |\n| 2 | 53 | 1 | 0 | 140 | 203 | 1 | 0 | 155 | 1 | 3.1 | 0 | 0 | 3 | 0 |\n| 3 | 70 | 1 | 0 | 145 | 174 | 0 | 1 | 125 | 1 | 2.6 | 0 | 0 | 3 | 0 |\n| 4 | 61 | 1 | 0 | 148 | 203 | 0 | 1 | 161 | 0 | 0.0 | 2 | 1 | 3 | 0 |\n| 5 | 62 | 0 | 0 | 138 | 294 | 1 | 1 | 106 | 0 | 1.9 | 1 | 3 | 2 | 0 |\n| 6 | 58 | 0 | 0 | 100 | 248 | 0 | 0 | 122 | 0 | 1.0 | 1 | 0 | 2 | 1 |\n\n",
            "text/latex": "A data.frame: 6 × 14\n\\begin{tabular}{r|llllllllllllll}\n  & age & sex & cp & trestbps & chol & fbs & restecg & thalach & exang & oldpeak & slope & ca & thal & target\\\\\n  & <int> & <int> & <int> & <int> & <int> & <int> & <int> & <int> & <int> & <dbl> & <int> & <int> & <int> & <int>\\\\\n\\hline\n\t1 & 52 & 1 & 0 & 125 & 212 & 0 & 1 & 168 & 0 & 1.0 & 2 & 2 & 3 & 0\\\\\n\t2 & 53 & 1 & 0 & 140 & 203 & 1 & 0 & 155 & 1 & 3.1 & 0 & 0 & 3 & 0\\\\\n\t3 & 70 & 1 & 0 & 145 & 174 & 0 & 1 & 125 & 1 & 2.6 & 0 & 0 & 3 & 0\\\\\n\t4 & 61 & 1 & 0 & 148 & 203 & 0 & 1 & 161 & 0 & 0.0 & 2 & 1 & 3 & 0\\\\\n\t5 & 62 & 0 & 0 & 138 & 294 & 1 & 1 & 106 & 0 & 1.9 & 1 & 3 & 2 & 0\\\\\n\t6 & 58 & 0 & 0 & 100 & 248 & 0 & 0 & 122 & 0 & 1.0 & 1 & 0 & 2 & 1\\\\\n\\end{tabular}\n",
            "text/plain": [
              "  age sex cp trestbps chol fbs restecg thalach exang oldpeak slope ca thal\n",
              "1 52  1   0  125      212  0   1       168     0     1.0     2     2  3   \n",
              "2 53  1   0  140      203  1   0       155     1     3.1     0     0  3   \n",
              "3 70  1   0  145      174  0   1       125     1     2.6     0     0  3   \n",
              "4 61  1   0  148      203  0   1       161     0     0.0     2     1  3   \n",
              "5 62  0   0  138      294  1   1       106     0     1.9     1     3  2   \n",
              "6 58  0   0  100      248  0   0       122     0     1.0     1     0  2   \n",
              "  target\n",
              "1 0     \n",
              "2 0     \n",
              "3 0     \n",
              "4 0     \n",
              "5 0     \n",
              "6 1     "
            ]
          },
          "metadata": {}
        }
      ],
      "source": [
        "heart <- read.csv(\"https://raw.githubusercontent.com/lavanyakandhari/Stat301-project/main/heart.csv\")\n",
        "head(heart)\n",
        "heart_data <- (unique(heart))"
      ]
    },
    {
      "cell_type": "code",
      "execution_count": 6,
      "metadata": {
        "vscode": {
          "languageId": "r"
        },
        "id": "9yPvGv9JEG7A"
      },
      "outputs": [],
      "source": [
        "colnames(heart_data)[3] = \"chestpain\"\n",
        "colnames(heart_data)[4] = \"restbps\"\n",
        "colnames(heart_data)[6] = \"bld_sugar>120\"\n",
        "colnames(heart_data)[8] = \"max_hrate\"\n",
        "colnames(heart_data)[10] = \"st_depression_ind\"\n",
        "colnames(heart_data)[12] = \"num_vessels\"\n",
        "#tge thing we are trying to right here is to try to change the naemes to make it becomse more readbale\""
      ]
    },
    {
      "cell_type": "code",
      "source": [
        "col_names <- c(2,3,6,7,9,11,13,14)\n",
        "heart_data[,col_names]<-lapply(heart_data[,col_names], factor)\n",
        "head(heart_data)\n",
        "#from the going on here we are tyring to include and factorise the variables into a categorical or a numerical"
      ],
      "metadata": {
        "colab": {
          "base_uri": "https://localhost:8080/",
          "height": 286
        },
        "id": "HICh2cqGFqjJ",
        "outputId": "72151275-34fd-4fd9-982c-464e868c9ff9"
      },
      "execution_count": 8,
      "outputs": [
        {
          "output_type": "display_data",
          "data": {
            "text/html": [
              "<table class=\"dataframe\">\n",
              "<caption>A data.frame: 6 × 14</caption>\n",
              "<thead>\n",
              "\t<tr><th></th><th scope=col>age</th><th scope=col>sex</th><th scope=col>chestpain</th><th scope=col>restbps</th><th scope=col>chol</th><th scope=col>bld_sugar&gt;120</th><th scope=col>restecg</th><th scope=col>max_hrate</th><th scope=col>exang</th><th scope=col>st_depression_ind</th><th scope=col>slope</th><th scope=col>num_vessels</th><th scope=col>thal</th><th scope=col>target</th></tr>\n",
              "\t<tr><th></th><th scope=col>&lt;int&gt;</th><th scope=col>&lt;fct&gt;</th><th scope=col>&lt;fct&gt;</th><th scope=col>&lt;int&gt;</th><th scope=col>&lt;int&gt;</th><th scope=col>&lt;fct&gt;</th><th scope=col>&lt;fct&gt;</th><th scope=col>&lt;int&gt;</th><th scope=col>&lt;fct&gt;</th><th scope=col>&lt;dbl&gt;</th><th scope=col>&lt;fct&gt;</th><th scope=col>&lt;int&gt;</th><th scope=col>&lt;fct&gt;</th><th scope=col>&lt;fct&gt;</th></tr>\n",
              "</thead>\n",
              "<tbody>\n",
              "\t<tr><th scope=row>1</th><td>52</td><td>1</td><td>0</td><td>125</td><td>212</td><td>0</td><td>1</td><td>168</td><td>0</td><td>1.0</td><td>2</td><td>2</td><td>3</td><td>0</td></tr>\n",
              "\t<tr><th scope=row>2</th><td>53</td><td>1</td><td>0</td><td>140</td><td>203</td><td>1</td><td>0</td><td>155</td><td>1</td><td>3.1</td><td>0</td><td>0</td><td>3</td><td>0</td></tr>\n",
              "\t<tr><th scope=row>3</th><td>70</td><td>1</td><td>0</td><td>145</td><td>174</td><td>0</td><td>1</td><td>125</td><td>1</td><td>2.6</td><td>0</td><td>0</td><td>3</td><td>0</td></tr>\n",
              "\t<tr><th scope=row>4</th><td>61</td><td>1</td><td>0</td><td>148</td><td>203</td><td>0</td><td>1</td><td>161</td><td>0</td><td>0.0</td><td>2</td><td>1</td><td>3</td><td>0</td></tr>\n",
              "\t<tr><th scope=row>5</th><td>62</td><td>0</td><td>0</td><td>138</td><td>294</td><td>1</td><td>1</td><td>106</td><td>0</td><td>1.9</td><td>1</td><td>3</td><td>2</td><td>0</td></tr>\n",
              "\t<tr><th scope=row>6</th><td>58</td><td>0</td><td>0</td><td>100</td><td>248</td><td>0</td><td>0</td><td>122</td><td>0</td><td>1.0</td><td>1</td><td>0</td><td>2</td><td>1</td></tr>\n",
              "</tbody>\n",
              "</table>\n"
            ],
            "text/markdown": "\nA data.frame: 6 × 14\n\n| <!--/--> | age &lt;int&gt; | sex &lt;fct&gt; | chestpain &lt;fct&gt; | restbps &lt;int&gt; | chol &lt;int&gt; | bld_sugar&gt;120 &lt;fct&gt; | restecg &lt;fct&gt; | max_hrate &lt;int&gt; | exang &lt;fct&gt; | st_depression_ind &lt;dbl&gt; | slope &lt;fct&gt; | num_vessels &lt;int&gt; | thal &lt;fct&gt; | target &lt;fct&gt; |\n|---|---|---|---|---|---|---|---|---|---|---|---|---|---|---|\n| 1 | 52 | 1 | 0 | 125 | 212 | 0 | 1 | 168 | 0 | 1.0 | 2 | 2 | 3 | 0 |\n| 2 | 53 | 1 | 0 | 140 | 203 | 1 | 0 | 155 | 1 | 3.1 | 0 | 0 | 3 | 0 |\n| 3 | 70 | 1 | 0 | 145 | 174 | 0 | 1 | 125 | 1 | 2.6 | 0 | 0 | 3 | 0 |\n| 4 | 61 | 1 | 0 | 148 | 203 | 0 | 1 | 161 | 0 | 0.0 | 2 | 1 | 3 | 0 |\n| 5 | 62 | 0 | 0 | 138 | 294 | 1 | 1 | 106 | 0 | 1.9 | 1 | 3 | 2 | 0 |\n| 6 | 58 | 0 | 0 | 100 | 248 | 0 | 0 | 122 | 0 | 1.0 | 1 | 0 | 2 | 1 |\n\n",
            "text/latex": "A data.frame: 6 × 14\n\\begin{tabular}{r|llllllllllllll}\n  & age & sex & chestpain & restbps & chol & bld\\_sugar>120 & restecg & max\\_hrate & exang & st\\_depression\\_ind & slope & num\\_vessels & thal & target\\\\\n  & <int> & <fct> & <fct> & <int> & <int> & <fct> & <fct> & <int> & <fct> & <dbl> & <fct> & <int> & <fct> & <fct>\\\\\n\\hline\n\t1 & 52 & 1 & 0 & 125 & 212 & 0 & 1 & 168 & 0 & 1.0 & 2 & 2 & 3 & 0\\\\\n\t2 & 53 & 1 & 0 & 140 & 203 & 1 & 0 & 155 & 1 & 3.1 & 0 & 0 & 3 & 0\\\\\n\t3 & 70 & 1 & 0 & 145 & 174 & 0 & 1 & 125 & 1 & 2.6 & 0 & 0 & 3 & 0\\\\\n\t4 & 61 & 1 & 0 & 148 & 203 & 0 & 1 & 161 & 0 & 0.0 & 2 & 1 & 3 & 0\\\\\n\t5 & 62 & 0 & 0 & 138 & 294 & 1 & 1 & 106 & 0 & 1.9 & 1 & 3 & 2 & 0\\\\\n\t6 & 58 & 0 & 0 & 100 & 248 & 0 & 0 & 122 & 0 & 1.0 & 1 & 0 & 2 & 1\\\\\n\\end{tabular}\n",
            "text/plain": [
              "  age sex chestpain restbps chol bld_sugar>120 restecg max_hrate exang\n",
              "1 52  1   0         125     212  0             1       168       0    \n",
              "2 53  1   0         140     203  1             0       155       1    \n",
              "3 70  1   0         145     174  0             1       125       1    \n",
              "4 61  1   0         148     203  0             1       161       0    \n",
              "5 62  0   0         138     294  1             1       106       0    \n",
              "6 58  0   0         100     248  0             0       122       0    \n",
              "  st_depression_ind slope num_vessels thal target\n",
              "1 1.0               2     2           3    0     \n",
              "2 3.1               0     0           3    0     \n",
              "3 2.6               0     0           3    0     \n",
              "4 0.0               2     1           3    0     \n",
              "5 1.9               1     3           2    0     \n",
              "6 1.0               1     0           2    1     "
            ]
          },
          "metadata": {}
        }
      ]
    },
    {
      "cell_type": "code",
      "source": [
        "#since that we are only trying to use the numberical right here we put it as:\n",
        "col_names_numerical <- c(1,4,5,8,10,12,14)\n",
        "heart_data_numbercial=heart_data[col_names_numerical]"
      ],
      "metadata": {
        "id": "Z4okkmnWJwRF"
      },
      "execution_count": 15,
      "outputs": []
    },
    {
      "cell_type": "code",
      "source": [
        "heart_data_numbercial"
      ],
      "metadata": {
        "colab": {
          "base_uri": "https://localhost:8080/",
          "height": 1000
        },
        "id": "FDI2mp64LEor",
        "outputId": "12d1dc0e-a62f-43e8-b04e-b94ccad712d2"
      },
      "execution_count": 17,
      "outputs": [
        {
          "output_type": "display_data",
          "data": {
            "text/html": [
              "<table class=\"dataframe\">\n",
              "<caption>A data.frame: 302 × 7</caption>\n",
              "<thead>\n",
              "\t<tr><th></th><th scope=col>age</th><th scope=col>restbps</th><th scope=col>chol</th><th scope=col>max_hrate</th><th scope=col>st_depression_ind</th><th scope=col>num_vessels</th><th scope=col>target</th></tr>\n",
              "\t<tr><th></th><th scope=col>&lt;int&gt;</th><th scope=col>&lt;int&gt;</th><th scope=col>&lt;int&gt;</th><th scope=col>&lt;int&gt;</th><th scope=col>&lt;dbl&gt;</th><th scope=col>&lt;int&gt;</th><th scope=col>&lt;fct&gt;</th></tr>\n",
              "</thead>\n",
              "<tbody>\n",
              "\t<tr><th scope=row>1</th><td>52</td><td>125</td><td>212</td><td>168</td><td>1.0</td><td>2</td><td>0</td></tr>\n",
              "\t<tr><th scope=row>2</th><td>53</td><td>140</td><td>203</td><td>155</td><td>3.1</td><td>0</td><td>0</td></tr>\n",
              "\t<tr><th scope=row>3</th><td>70</td><td>145</td><td>174</td><td>125</td><td>2.6</td><td>0</td><td>0</td></tr>\n",
              "\t<tr><th scope=row>4</th><td>61</td><td>148</td><td>203</td><td>161</td><td>0.0</td><td>1</td><td>0</td></tr>\n",
              "\t<tr><th scope=row>5</th><td>62</td><td>138</td><td>294</td><td>106</td><td>1.9</td><td>3</td><td>0</td></tr>\n",
              "\t<tr><th scope=row>6</th><td>58</td><td>100</td><td>248</td><td>122</td><td>1.0</td><td>0</td><td>1</td></tr>\n",
              "\t<tr><th scope=row>7</th><td>58</td><td>114</td><td>318</td><td>140</td><td>4.4</td><td>3</td><td>0</td></tr>\n",
              "\t<tr><th scope=row>8</th><td>55</td><td>160</td><td>289</td><td>145</td><td>0.8</td><td>1</td><td>0</td></tr>\n",
              "\t<tr><th scope=row>9</th><td>46</td><td>120</td><td>249</td><td>144</td><td>0.8</td><td>0</td><td>0</td></tr>\n",
              "\t<tr><th scope=row>10</th><td>54</td><td>122</td><td>286</td><td>116</td><td>3.2</td><td>2</td><td>0</td></tr>\n",
              "\t<tr><th scope=row>11</th><td>71</td><td>112</td><td>149</td><td>125</td><td>1.6</td><td>0</td><td>1</td></tr>\n",
              "\t<tr><th scope=row>12</th><td>43</td><td>132</td><td>341</td><td>136</td><td>3.0</td><td>0</td><td>0</td></tr>\n",
              "\t<tr><th scope=row>13</th><td>34</td><td>118</td><td>210</td><td>192</td><td>0.7</td><td>0</td><td>1</td></tr>\n",
              "\t<tr><th scope=row>14</th><td>51</td><td>140</td><td>298</td><td>122</td><td>4.2</td><td>3</td><td>0</td></tr>\n",
              "\t<tr><th scope=row>15</th><td>52</td><td>128</td><td>204</td><td>156</td><td>1.0</td><td>0</td><td>0</td></tr>\n",
              "\t<tr><th scope=row>17</th><td>51</td><td>140</td><td>308</td><td>142</td><td>1.5</td><td>1</td><td>1</td></tr>\n",
              "\t<tr><th scope=row>18</th><td>54</td><td>124</td><td>266</td><td>109</td><td>2.2</td><td>1</td><td>0</td></tr>\n",
              "\t<tr><th scope=row>19</th><td>50</td><td>120</td><td>244</td><td>162</td><td>1.1</td><td>0</td><td>1</td></tr>\n",
              "\t<tr><th scope=row>20</th><td>58</td><td>140</td><td>211</td><td>165</td><td>0.0</td><td>0</td><td>1</td></tr>\n",
              "\t<tr><th scope=row>21</th><td>60</td><td>140</td><td>185</td><td>155</td><td>3.0</td><td>0</td><td>0</td></tr>\n",
              "\t<tr><th scope=row>22</th><td>67</td><td>106</td><td>223</td><td>142</td><td>0.3</td><td>2</td><td>1</td></tr>\n",
              "\t<tr><th scope=row>23</th><td>45</td><td>104</td><td>208</td><td>148</td><td>3.0</td><td>0</td><td>1</td></tr>\n",
              "\t<tr><th scope=row>24</th><td>63</td><td>135</td><td>252</td><td>172</td><td>0.0</td><td>0</td><td>1</td></tr>\n",
              "\t<tr><th scope=row>25</th><td>42</td><td>120</td><td>209</td><td>173</td><td>0.0</td><td>0</td><td>1</td></tr>\n",
              "\t<tr><th scope=row>26</th><td>61</td><td>145</td><td>307</td><td>146</td><td>1.0</td><td>0</td><td>0</td></tr>\n",
              "\t<tr><th scope=row>27</th><td>44</td><td>130</td><td>233</td><td>179</td><td>0.4</td><td>0</td><td>1</td></tr>\n",
              "\t<tr><th scope=row>28</th><td>58</td><td>136</td><td>319</td><td>152</td><td>0.0</td><td>2</td><td>0</td></tr>\n",
              "\t<tr><th scope=row>29</th><td>56</td><td>130</td><td>256</td><td>142</td><td>0.6</td><td>1</td><td>0</td></tr>\n",
              "\t<tr><th scope=row>30</th><td>55</td><td>180</td><td>327</td><td>117</td><td>3.4</td><td>0</td><td>0</td></tr>\n",
              "\t<tr><th scope=row>31</th><td>44</td><td>120</td><td>169</td><td>144</td><td>2.8</td><td>0</td><td>0</td></tr>\n",
              "\t<tr><th scope=row>⋮</th><td>⋮</td><td>⋮</td><td>⋮</td><td>⋮</td><td>⋮</td><td>⋮</td><td>⋮</td></tr>\n",
              "\t<tr><th scope=row>531</th><td>60</td><td>150</td><td>258</td><td>157</td><td>2.6</td><td>2</td><td>0</td></tr>\n",
              "\t<tr><th scope=row>534</th><td>53</td><td>138</td><td>234</td><td>160</td><td>0.0</td><td>0</td><td>1</td></tr>\n",
              "\t<tr><th scope=row>537</th><td>50</td><td>120</td><td>219</td><td>158</td><td>1.6</td><td>0</td><td>1</td></tr>\n",
              "\t<tr><th scope=row>542</th><td>44</td><td>140</td><td>235</td><td>180</td><td>0.0</td><td>0</td><td>1</td></tr>\n",
              "\t<tr><th scope=row>550</th><td>68</td><td>118</td><td>277</td><td>151</td><td>1.0</td><td>1</td><td>1</td></tr>\n",
              "\t<tr><th scope=row>556</th><td>67</td><td>125</td><td>254</td><td>163</td><td>0.2</td><td>2</td><td>0</td></tr>\n",
              "\t<tr><th scope=row>567</th><td>50</td><td>110</td><td>254</td><td>159</td><td>0.0</td><td>0</td><td>1</td></tr>\n",
              "\t<tr><th scope=row>571</th><td>54</td><td>135</td><td>304</td><td>170</td><td>0.0</td><td>0</td><td>1</td></tr>\n",
              "\t<tr><th scope=row>581</th><td>46</td><td>101</td><td>197</td><td>156</td><td>0.0</td><td>0</td><td>1</td></tr>\n",
              "\t<tr><th scope=row>583</th><td>55</td><td>130</td><td>262</td><td>155</td><td>0.0</td><td>0</td><td>1</td></tr>\n",
              "\t<tr><th scope=row>595</th><td>64</td><td>145</td><td>212</td><td>132</td><td>2.0</td><td>2</td><td>0</td></tr>\n",
              "\t<tr><th scope=row>600</th><td>63</td><td>140</td><td>195</td><td>179</td><td>0.0</td><td>2</td><td>1</td></tr>\n",
              "\t<tr><th scope=row>607</th><td>66</td><td>112</td><td>212</td><td>132</td><td>0.1</td><td>1</td><td>0</td></tr>\n",
              "\t<tr><th scope=row>612</th><td>55</td><td>128</td><td>205</td><td>130</td><td>2.0</td><td>1</td><td>0</td></tr>\n",
              "\t<tr><th scope=row>617</th><td>43</td><td>115</td><td>303</td><td>181</td><td>1.2</td><td>0</td><td>1</td></tr>\n",
              "\t<tr><th scope=row>629</th><td>69</td><td>140</td><td>239</td><td>151</td><td>1.8</td><td>2</td><td>1</td></tr>\n",
              "\t<tr><th scope=row>630</th><td>65</td><td>138</td><td>282</td><td>174</td><td>1.4</td><td>1</td><td>0</td></tr>\n",
              "\t<tr><th scope=row>634</th><td>61</td><td>138</td><td>166</td><td>125</td><td>3.6</td><td>1</td><td>0</td></tr>\n",
              "\t<tr><th scope=row>644</th><td>65</td><td>120</td><td>177</td><td>140</td><td>0.4</td><td>0</td><td>1</td></tr>\n",
              "\t<tr><th scope=row>653</th><td>66</td><td>150</td><td>226</td><td>114</td><td>2.6</td><td>0</td><td>1</td></tr>\n",
              "\t<tr><th scope=row>692</th><td>55</td><td>135</td><td>250</td><td>161</td><td>1.4</td><td>0</td><td>1</td></tr>\n",
              "\t<tr><th scope=row>695</th><td>39</td><td>118</td><td>219</td><td>140</td><td>1.2</td><td>0</td><td>0</td></tr>\n",
              "\t<tr><th scope=row>709</th><td>60</td><td>120</td><td>178</td><td> 96</td><td>0.0</td><td>0</td><td>1</td></tr>\n",
              "\t<tr><th scope=row>720</th><td>52</td><td>108</td><td>233</td><td>147</td><td>0.1</td><td>3</td><td>1</td></tr>\n",
              "\t<tr><th scope=row>721</th><td>64</td><td>140</td><td>335</td><td>158</td><td>0.0</td><td>0</td><td>0</td></tr>\n",
              "\t<tr><th scope=row>724</th><td>68</td><td>120</td><td>211</td><td>115</td><td>1.5</td><td>0</td><td>1</td></tr>\n",
              "\t<tr><th scope=row>734</th><td>44</td><td>108</td><td>141</td><td>175</td><td>0.6</td><td>0</td><td>1</td></tr>\n",
              "\t<tr><th scope=row>740</th><td>52</td><td>128</td><td>255</td><td>161</td><td>0.0</td><td>1</td><td>0</td></tr>\n",
              "\t<tr><th scope=row>844</th><td>59</td><td>160</td><td>273</td><td>125</td><td>0.0</td><td>0</td><td>0</td></tr>\n",
              "\t<tr><th scope=row>879</th><td>54</td><td>120</td><td>188</td><td>113</td><td>1.4</td><td>1</td><td>0</td></tr>\n",
              "</tbody>\n",
              "</table>\n"
            ],
            "text/markdown": "\nA data.frame: 302 × 7\n\n| <!--/--> | age &lt;int&gt; | restbps &lt;int&gt; | chol &lt;int&gt; | max_hrate &lt;int&gt; | st_depression_ind &lt;dbl&gt; | num_vessels &lt;int&gt; | target &lt;fct&gt; |\n|---|---|---|---|---|---|---|---|\n| 1 | 52 | 125 | 212 | 168 | 1.0 | 2 | 0 |\n| 2 | 53 | 140 | 203 | 155 | 3.1 | 0 | 0 |\n| 3 | 70 | 145 | 174 | 125 | 2.6 | 0 | 0 |\n| 4 | 61 | 148 | 203 | 161 | 0.0 | 1 | 0 |\n| 5 | 62 | 138 | 294 | 106 | 1.9 | 3 | 0 |\n| 6 | 58 | 100 | 248 | 122 | 1.0 | 0 | 1 |\n| 7 | 58 | 114 | 318 | 140 | 4.4 | 3 | 0 |\n| 8 | 55 | 160 | 289 | 145 | 0.8 | 1 | 0 |\n| 9 | 46 | 120 | 249 | 144 | 0.8 | 0 | 0 |\n| 10 | 54 | 122 | 286 | 116 | 3.2 | 2 | 0 |\n| 11 | 71 | 112 | 149 | 125 | 1.6 | 0 | 1 |\n| 12 | 43 | 132 | 341 | 136 | 3.0 | 0 | 0 |\n| 13 | 34 | 118 | 210 | 192 | 0.7 | 0 | 1 |\n| 14 | 51 | 140 | 298 | 122 | 4.2 | 3 | 0 |\n| 15 | 52 | 128 | 204 | 156 | 1.0 | 0 | 0 |\n| 17 | 51 | 140 | 308 | 142 | 1.5 | 1 | 1 |\n| 18 | 54 | 124 | 266 | 109 | 2.2 | 1 | 0 |\n| 19 | 50 | 120 | 244 | 162 | 1.1 | 0 | 1 |\n| 20 | 58 | 140 | 211 | 165 | 0.0 | 0 | 1 |\n| 21 | 60 | 140 | 185 | 155 | 3.0 | 0 | 0 |\n| 22 | 67 | 106 | 223 | 142 | 0.3 | 2 | 1 |\n| 23 | 45 | 104 | 208 | 148 | 3.0 | 0 | 1 |\n| 24 | 63 | 135 | 252 | 172 | 0.0 | 0 | 1 |\n| 25 | 42 | 120 | 209 | 173 | 0.0 | 0 | 1 |\n| 26 | 61 | 145 | 307 | 146 | 1.0 | 0 | 0 |\n| 27 | 44 | 130 | 233 | 179 | 0.4 | 0 | 1 |\n| 28 | 58 | 136 | 319 | 152 | 0.0 | 2 | 0 |\n| 29 | 56 | 130 | 256 | 142 | 0.6 | 1 | 0 |\n| 30 | 55 | 180 | 327 | 117 | 3.4 | 0 | 0 |\n| 31 | 44 | 120 | 169 | 144 | 2.8 | 0 | 0 |\n| ⋮ | ⋮ | ⋮ | ⋮ | ⋮ | ⋮ | ⋮ | ⋮ |\n| 531 | 60 | 150 | 258 | 157 | 2.6 | 2 | 0 |\n| 534 | 53 | 138 | 234 | 160 | 0.0 | 0 | 1 |\n| 537 | 50 | 120 | 219 | 158 | 1.6 | 0 | 1 |\n| 542 | 44 | 140 | 235 | 180 | 0.0 | 0 | 1 |\n| 550 | 68 | 118 | 277 | 151 | 1.0 | 1 | 1 |\n| 556 | 67 | 125 | 254 | 163 | 0.2 | 2 | 0 |\n| 567 | 50 | 110 | 254 | 159 | 0.0 | 0 | 1 |\n| 571 | 54 | 135 | 304 | 170 | 0.0 | 0 | 1 |\n| 581 | 46 | 101 | 197 | 156 | 0.0 | 0 | 1 |\n| 583 | 55 | 130 | 262 | 155 | 0.0 | 0 | 1 |\n| 595 | 64 | 145 | 212 | 132 | 2.0 | 2 | 0 |\n| 600 | 63 | 140 | 195 | 179 | 0.0 | 2 | 1 |\n| 607 | 66 | 112 | 212 | 132 | 0.1 | 1 | 0 |\n| 612 | 55 | 128 | 205 | 130 | 2.0 | 1 | 0 |\n| 617 | 43 | 115 | 303 | 181 | 1.2 | 0 | 1 |\n| 629 | 69 | 140 | 239 | 151 | 1.8 | 2 | 1 |\n| 630 | 65 | 138 | 282 | 174 | 1.4 | 1 | 0 |\n| 634 | 61 | 138 | 166 | 125 | 3.6 | 1 | 0 |\n| 644 | 65 | 120 | 177 | 140 | 0.4 | 0 | 1 |\n| 653 | 66 | 150 | 226 | 114 | 2.6 | 0 | 1 |\n| 692 | 55 | 135 | 250 | 161 | 1.4 | 0 | 1 |\n| 695 | 39 | 118 | 219 | 140 | 1.2 | 0 | 0 |\n| 709 | 60 | 120 | 178 |  96 | 0.0 | 0 | 1 |\n| 720 | 52 | 108 | 233 | 147 | 0.1 | 3 | 1 |\n| 721 | 64 | 140 | 335 | 158 | 0.0 | 0 | 0 |\n| 724 | 68 | 120 | 211 | 115 | 1.5 | 0 | 1 |\n| 734 | 44 | 108 | 141 | 175 | 0.6 | 0 | 1 |\n| 740 | 52 | 128 | 255 | 161 | 0.0 | 1 | 0 |\n| 844 | 59 | 160 | 273 | 125 | 0.0 | 0 | 0 |\n| 879 | 54 | 120 | 188 | 113 | 1.4 | 1 | 0 |\n\n",
            "text/latex": "A data.frame: 302 × 7\n\\begin{tabular}{r|lllllll}\n  & age & restbps & chol & max\\_hrate & st\\_depression\\_ind & num\\_vessels & target\\\\\n  & <int> & <int> & <int> & <int> & <dbl> & <int> & <fct>\\\\\n\\hline\n\t1 & 52 & 125 & 212 & 168 & 1.0 & 2 & 0\\\\\n\t2 & 53 & 140 & 203 & 155 & 3.1 & 0 & 0\\\\\n\t3 & 70 & 145 & 174 & 125 & 2.6 & 0 & 0\\\\\n\t4 & 61 & 148 & 203 & 161 & 0.0 & 1 & 0\\\\\n\t5 & 62 & 138 & 294 & 106 & 1.9 & 3 & 0\\\\\n\t6 & 58 & 100 & 248 & 122 & 1.0 & 0 & 1\\\\\n\t7 & 58 & 114 & 318 & 140 & 4.4 & 3 & 0\\\\\n\t8 & 55 & 160 & 289 & 145 & 0.8 & 1 & 0\\\\\n\t9 & 46 & 120 & 249 & 144 & 0.8 & 0 & 0\\\\\n\t10 & 54 & 122 & 286 & 116 & 3.2 & 2 & 0\\\\\n\t11 & 71 & 112 & 149 & 125 & 1.6 & 0 & 1\\\\\n\t12 & 43 & 132 & 341 & 136 & 3.0 & 0 & 0\\\\\n\t13 & 34 & 118 & 210 & 192 & 0.7 & 0 & 1\\\\\n\t14 & 51 & 140 & 298 & 122 & 4.2 & 3 & 0\\\\\n\t15 & 52 & 128 & 204 & 156 & 1.0 & 0 & 0\\\\\n\t17 & 51 & 140 & 308 & 142 & 1.5 & 1 & 1\\\\\n\t18 & 54 & 124 & 266 & 109 & 2.2 & 1 & 0\\\\\n\t19 & 50 & 120 & 244 & 162 & 1.1 & 0 & 1\\\\\n\t20 & 58 & 140 & 211 & 165 & 0.0 & 0 & 1\\\\\n\t21 & 60 & 140 & 185 & 155 & 3.0 & 0 & 0\\\\\n\t22 & 67 & 106 & 223 & 142 & 0.3 & 2 & 1\\\\\n\t23 & 45 & 104 & 208 & 148 & 3.0 & 0 & 1\\\\\n\t24 & 63 & 135 & 252 & 172 & 0.0 & 0 & 1\\\\\n\t25 & 42 & 120 & 209 & 173 & 0.0 & 0 & 1\\\\\n\t26 & 61 & 145 & 307 & 146 & 1.0 & 0 & 0\\\\\n\t27 & 44 & 130 & 233 & 179 & 0.4 & 0 & 1\\\\\n\t28 & 58 & 136 & 319 & 152 & 0.0 & 2 & 0\\\\\n\t29 & 56 & 130 & 256 & 142 & 0.6 & 1 & 0\\\\\n\t30 & 55 & 180 & 327 & 117 & 3.4 & 0 & 0\\\\\n\t31 & 44 & 120 & 169 & 144 & 2.8 & 0 & 0\\\\\n\t⋮ & ⋮ & ⋮ & ⋮ & ⋮ & ⋮ & ⋮ & ⋮\\\\\n\t531 & 60 & 150 & 258 & 157 & 2.6 & 2 & 0\\\\\n\t534 & 53 & 138 & 234 & 160 & 0.0 & 0 & 1\\\\\n\t537 & 50 & 120 & 219 & 158 & 1.6 & 0 & 1\\\\\n\t542 & 44 & 140 & 235 & 180 & 0.0 & 0 & 1\\\\\n\t550 & 68 & 118 & 277 & 151 & 1.0 & 1 & 1\\\\\n\t556 & 67 & 125 & 254 & 163 & 0.2 & 2 & 0\\\\\n\t567 & 50 & 110 & 254 & 159 & 0.0 & 0 & 1\\\\\n\t571 & 54 & 135 & 304 & 170 & 0.0 & 0 & 1\\\\\n\t581 & 46 & 101 & 197 & 156 & 0.0 & 0 & 1\\\\\n\t583 & 55 & 130 & 262 & 155 & 0.0 & 0 & 1\\\\\n\t595 & 64 & 145 & 212 & 132 & 2.0 & 2 & 0\\\\\n\t600 & 63 & 140 & 195 & 179 & 0.0 & 2 & 1\\\\\n\t607 & 66 & 112 & 212 & 132 & 0.1 & 1 & 0\\\\\n\t612 & 55 & 128 & 205 & 130 & 2.0 & 1 & 0\\\\\n\t617 & 43 & 115 & 303 & 181 & 1.2 & 0 & 1\\\\\n\t629 & 69 & 140 & 239 & 151 & 1.8 & 2 & 1\\\\\n\t630 & 65 & 138 & 282 & 174 & 1.4 & 1 & 0\\\\\n\t634 & 61 & 138 & 166 & 125 & 3.6 & 1 & 0\\\\\n\t644 & 65 & 120 & 177 & 140 & 0.4 & 0 & 1\\\\\n\t653 & 66 & 150 & 226 & 114 & 2.6 & 0 & 1\\\\\n\t692 & 55 & 135 & 250 & 161 & 1.4 & 0 & 1\\\\\n\t695 & 39 & 118 & 219 & 140 & 1.2 & 0 & 0\\\\\n\t709 & 60 & 120 & 178 &  96 & 0.0 & 0 & 1\\\\\n\t720 & 52 & 108 & 233 & 147 & 0.1 & 3 & 1\\\\\n\t721 & 64 & 140 & 335 & 158 & 0.0 & 0 & 0\\\\\n\t724 & 68 & 120 & 211 & 115 & 1.5 & 0 & 1\\\\\n\t734 & 44 & 108 & 141 & 175 & 0.6 & 0 & 1\\\\\n\t740 & 52 & 128 & 255 & 161 & 0.0 & 1 & 0\\\\\n\t844 & 59 & 160 & 273 & 125 & 0.0 & 0 & 0\\\\\n\t879 & 54 & 120 & 188 & 113 & 1.4 & 1 & 0\\\\\n\\end{tabular}\n",
            "text/plain": [
              "    age restbps chol max_hrate st_depression_ind num_vessels target\n",
              "1   52  125     212  168       1.0               2           0     \n",
              "2   53  140     203  155       3.1               0           0     \n",
              "3   70  145     174  125       2.6               0           0     \n",
              "4   61  148     203  161       0.0               1           0     \n",
              "5   62  138     294  106       1.9               3           0     \n",
              "6   58  100     248  122       1.0               0           1     \n",
              "7   58  114     318  140       4.4               3           0     \n",
              "8   55  160     289  145       0.8               1           0     \n",
              "9   46  120     249  144       0.8               0           0     \n",
              "10  54  122     286  116       3.2               2           0     \n",
              "11  71  112     149  125       1.6               0           1     \n",
              "12  43  132     341  136       3.0               0           0     \n",
              "13  34  118     210  192       0.7               0           1     \n",
              "14  51  140     298  122       4.2               3           0     \n",
              "15  52  128     204  156       1.0               0           0     \n",
              "17  51  140     308  142       1.5               1           1     \n",
              "18  54  124     266  109       2.2               1           0     \n",
              "19  50  120     244  162       1.1               0           1     \n",
              "20  58  140     211  165       0.0               0           1     \n",
              "21  60  140     185  155       3.0               0           0     \n",
              "22  67  106     223  142       0.3               2           1     \n",
              "23  45  104     208  148       3.0               0           1     \n",
              "24  63  135     252  172       0.0               0           1     \n",
              "25  42  120     209  173       0.0               0           1     \n",
              "26  61  145     307  146       1.0               0           0     \n",
              "27  44  130     233  179       0.4               0           1     \n",
              "28  58  136     319  152       0.0               2           0     \n",
              "29  56  130     256  142       0.6               1           0     \n",
              "30  55  180     327  117       3.4               0           0     \n",
              "31  44  120     169  144       2.8               0           0     \n",
              "⋮   ⋮   ⋮       ⋮    ⋮         ⋮                 ⋮           ⋮     \n",
              "531 60  150     258  157       2.6               2           0     \n",
              "534 53  138     234  160       0.0               0           1     \n",
              "537 50  120     219  158       1.6               0           1     \n",
              "542 44  140     235  180       0.0               0           1     \n",
              "550 68  118     277  151       1.0               1           1     \n",
              "556 67  125     254  163       0.2               2           0     \n",
              "567 50  110     254  159       0.0               0           1     \n",
              "571 54  135     304  170       0.0               0           1     \n",
              "581 46  101     197  156       0.0               0           1     \n",
              "583 55  130     262  155       0.0               0           1     \n",
              "595 64  145     212  132       2.0               2           0     \n",
              "600 63  140     195  179       0.0               2           1     \n",
              "607 66  112     212  132       0.1               1           0     \n",
              "612 55  128     205  130       2.0               1           0     \n",
              "617 43  115     303  181       1.2               0           1     \n",
              "629 69  140     239  151       1.8               2           1     \n",
              "630 65  138     282  174       1.4               1           0     \n",
              "634 61  138     166  125       3.6               1           0     \n",
              "644 65  120     177  140       0.4               0           1     \n",
              "653 66  150     226  114       2.6               0           1     \n",
              "692 55  135     250  161       1.4               0           1     \n",
              "695 39  118     219  140       1.2               0           0     \n",
              "709 60  120     178   96       0.0               0           1     \n",
              "720 52  108     233  147       0.1               3           1     \n",
              "721 64  140     335  158       0.0               0           0     \n",
              "724 68  120     211  115       1.5               0           1     \n",
              "734 44  108     141  175       0.6               0           1     \n",
              "740 52  128     255  161       0.0               1           0     \n",
              "844 59  160     273  125       0.0               0           0     \n",
              "879 54  120     188  113       1.4               1           0     "
            ]
          },
          "metadata": {}
        }
      ]
    },
    {
      "cell_type": "code",
      "source": [],
      "metadata": {
        "id": "rrWt27I2LdiS"
      },
      "execution_count": null,
      "outputs": []
    }
  ],
  "metadata": {
    "kernelspec": {
      "display_name": "R",
      "name": "ir"
    },
    "language_info": {
      "codemirror_mode": "r",
      "file_extension": ".r",
      "mimetype": "text/x-r-source",
      "name": "R",
      "pygments_lexer": "r",
      "version": "4.3.1"
    },
    "colab": {
      "provenance": [],
      "gpuType": "T4"
    },
    "accelerator": "GPU"
  },
  "nbformat": 4,
  "nbformat_minor": 0
}